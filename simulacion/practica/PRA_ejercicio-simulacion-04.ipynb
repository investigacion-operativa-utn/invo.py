{
 "cells": [
  {
   "cell_type": "markdown",
   "metadata": {},
   "source": [
    "# Ejercicio 4"
   ]
  },
  {
   "cell_type": "markdown",
   "metadata": {},
   "source": [
    "Considere la misma habitación del ejercicio 03 (tasa de entrada $\\lambda = 2/hora$) de capacidad infinita. También considere ahora que de la habitación salen pallets a una tasa $\\mu = 3/hora$ bajo una distribución Poisson. Simular el sistema luego de 4 horas. Definir el estado del sistema, graficarlo en función del tiempo y detallar en una tabla la simulación contemplando los arribos y los despachos."
   ]
  },
  {
   "cell_type": "code",
   "execution_count": 1,
   "metadata": {},
   "outputs": [],
   "source": [
    "import random\n",
    "import math\n",
    "import numpy as np\n",
    "import matplotlib.pyplot as plt\n",
    "from scipy import stats\n",
    "import pandas as pd"
   ]
  },
  {
   "cell_type": "markdown",
   "metadata": {},
   "source": [
    "## Creamos las funciones necesarias:"
   ]
  },
  {
   "cell_type": "code",
   "execution_count": 2,
   "metadata": {},
   "outputs": [],
   "source": [
    "# Función de sampleo de valor de variable aleatoria exponencial:\n",
    "\n",
    "def samplear_exponencial(tasa, r):\n",
    "    Aux= -(1/tasa)* np.log(1-r)\n",
    "    return Aux"
   ]
  },
  {
   "cell_type": "code",
   "execution_count": 3,
   "metadata": {},
   "outputs": [],
   "source": [
    "# Función de acumulada:\n",
    "\n",
    "def calcular_acumulada(tasa, horizonte_t):\n",
    "    acum = [0]\n",
    "    t_acum = acum[-1]\n",
    "    \n",
    "    while (t_acum <= horizonte_t):\n",
    "        \n",
    "        # Sampleo exponencial:\n",
    "        u=random.uniform(0.001, 0.999)\n",
    "        tiempo = samplear_exponencial(tasa,u)\n",
    "        \n",
    "        t_acum = tiempo + acum[-1]\n",
    "        \n",
    "        if t_acum <= horizonte_t:\n",
    "            # Acumulada:\n",
    "            acum.append(t_acum)\n",
    "        \n",
    "    return acum[1:]"
   ]
  },
  {
   "cell_type": "markdown",
   "metadata": {},
   "source": [
    "## Resolvemos el ejercicio:"
   ]
  },
  {
   "cell_type": "code",
   "execution_count": 4,
   "metadata": {},
   "outputs": [
    {
     "name": "stdout",
     "output_type": "stream",
     "text": [
      "entradas: [0.46346989655257326, 0.47209548294191184, 0.6205802557524271, 1.5315408380238433, 2.2181737616093327, 2.390216252451267, 3.0489123686841006, 3.1564432336927104]\n",
      "\n",
      "salidas: [0.014964967315626779, 0.7676219281717739, 0.9975219519726651, 1.1308302479631993, 1.3335210516665152, 1.371151451695922, 1.8786896748781277, 2.0395446641437904, 2.4187806876234017, 2.7761417683638125, 3.3569400136875984, 3.7334116949057146]\n"
     ]
    }
   ],
   "source": [
    "# Para poder contar de dos fuentes aleatorias distintas tenemos que ir paso por paso en el tiempo viendo qué \n",
    "# evento aparece primero y cuál después.\n",
    "\n",
    "# resolución de ejercicio 4\n",
    "\n",
    "lam = 2 # tasa de arribos\n",
    "mu = 3 # tasa de salidas\n",
    "horizonte_t = 4\n",
    "\n",
    "# Sampleo de arribos\n",
    "entradas_acum = calcular_acumulada(lam, horizonte_t)\n",
    "# Sampleo de salidas\n",
    "salidas_acum = calcular_acumulada(mu, horizonte_t)\n",
    "\n",
    "print(f'entradas: {entradas_acum}\\n')\n",
    "\n",
    "print(f'salidas: {salidas_acum}')"
   ]
  },
  {
   "cell_type": "code",
   "execution_count": 5,
   "metadata": {},
   "outputs": [
    {
     "name": "stdout",
     "output_type": "stream",
     "text": [
      "          Cantidad Acumulada   Evento\n",
      "0.463470                   1  entrada\n",
      "0.472095                   2  entrada\n",
      "0.620580                   3  entrada\n",
      "0.767622                   2   salida\n",
      "0.997522                   1   salida\n",
      "1.531541                   2  entrada\n",
      "1.878690                   1   salida\n",
      "2.218174                   2  entrada\n",
      "2.390216                   3  entrada\n",
      "2.418781                   2   salida\n",
      "2.776142                   1   salida\n",
      "3.048912                   2  entrada\n",
      "3.156443                   3  entrada\n",
      "3.356940                   2   salida\n",
      "3.733412                   1   salida\n"
     ]
    }
   ],
   "source": [
    "# Creamos los elementos \"cantidad\" para hacer conteos, y \"tabla\", un diccionario para guardar los datos:\n",
    "\n",
    "cantidad = 0\n",
    "tabla = {}\n",
    "entradas = entradas_acum.copy()\n",
    "salidas = salidas_acum.copy()\n",
    "\n",
    "# Comenzamos el loop yendo tiempo a tiempo y viendo qué evento aparece primero:\n",
    "\n",
    "while (len(entradas) | len(salidas)):\n",
    "    \n",
    "    \n",
    "    # Tomamos el último valor de entradas y salidas:\n",
    "    tiempo_actual_entrada = entradas[0] if len(entradas) else np.inf\n",
    "    tiempo_actual_salida = salidas[0] if len(salidas) else np.inf\n",
    "    \n",
    "    # El valor siguiente es una entrada o salida?\n",
    "    if (tiempo_actual_entrada < tiempo_actual_salida):\n",
    "        # Quitar el tiempo de la lista:\n",
    "        entradas.pop(0)\n",
    "        \n",
    "        # Aumentar la cantidad acumulada:\n",
    "        cantidad = cantidad + 1\n",
    "        \n",
    "        # Guardar todo en el diccionario:\n",
    "        tabla.update({tiempo_actual_entrada: (cantidad, 'entrada')})\n",
    "        \n",
    "    else:\n",
    "        # Quitar el tiempo de la lista:\n",
    "        salidas.pop(0)\n",
    "        \n",
    "        # Hay cantidad en stock para hacer la salida?\n",
    "        if (cantidad - 1 > 0):\n",
    "            \n",
    "            # Si hay sacar 1 unidad del stock:\n",
    "            cantidad = cantidad - 1\n",
    "            \n",
    "            # Gurdar todo en el diccionario:\n",
    "            tabla.update({tiempo_actual_salida: (cantidad, 'salida')})\n",
    "            \n",
    "# Armamos un dataframe de pandas para poder visualizar todo bien:\n",
    "df_eventos = pd.DataFrame(tabla.values(), columns=['Cantidad Acumulada', 'Evento'], index=tabla.keys())\n",
    "\n",
    "# Imprimimos\n",
    "print(df_eventos)\n"
   ]
  },
  {
   "cell_type": "code",
   "execution_count": 6,
   "metadata": {},
   "outputs": [
    {
     "data": {
      "image/png": "[encoded data removed]",
      "text/plain": [
       "<Figure size 936x504 with 1 Axes>"
      ]
     },
     "metadata": {
      "needs_background": "light"
     },
     "output_type": "display_data"
    }
   ],
   "source": [
    "# Creamos una figura y el gráfico de barras:\n",
    "plt.figure(figsize=(13,7))\n",
    "\n",
    "tiempos = list(tabla.keys())\n",
    "cantidad = list(zip(*tabla.values()))[0]\n",
    "\n",
    "plt.step(tiempos, cantidad)\n",
    "\n",
    "# Seteamos título y etiquetas de los ejes:\n",
    "plt.title(f'Cantidad simulada hora a hora luego de {horizonte_t} horas')\n",
    "plt.ylabel('Cantidad de stock')\n",
    "plt.xlabel('Hora')\n",
    "\n",
    "# Mostramos el gráfico:\n",
    "plt.show()"
   ]
  }
 ],
 "metadata": {
  "kernelspec": {
   "display_name": "Python 3",
   "language": "python",
   "name": "python3"
  },
  "language_info": {
   "codemirror_mode": {
    "name": "ipython",
    "version": 3
   },
   "file_extension": ".py",
   "mimetype": "text/x-python",
   "name": "python",
   "nbconvert_exporter": "python",
   "pygments_lexer": "ipython3",
   "version": "3.6.1"
  },
  "toc": {
   "base_numbering": 1,
   "nav_menu": {},
   "number_sections": true,
   "sideBar": true,
   "skip_h1_title": true,
   "title_cell": "Table of Contents",
   "title_sidebar": "Contents",
   "toc_cell": false,
   "toc_position": {},
   "toc_section_display": true,
   "toc_window_display": false
  },
  "varInspector": {
   "cols": {
    "lenName": 16,
    "lenType": 16,
    "lenVar": 40
   },
   "kernels_config": {
    "python": {
     "delete_cmd_postfix": "",
     "delete_cmd_prefix": "del ",
     "library": "var_list.py",
     "varRefreshCmd": "print(var_dic_list())"
    },
    "r": {
     "delete_cmd_postfix": ") ",
     "delete_cmd_prefix": "rm(",
     "library": "var_list.r",
     "varRefreshCmd": "cat(var_dic_list()) "
    }
   },
   "types_to_exclude": [
    "module",
    "function",
    "builtin_function_or_method",
    "instance",
    "_Feature"
   ],
   "window_display": false
  }
 },
 "nbformat": 4,
 "nbformat_minor": 4
}
