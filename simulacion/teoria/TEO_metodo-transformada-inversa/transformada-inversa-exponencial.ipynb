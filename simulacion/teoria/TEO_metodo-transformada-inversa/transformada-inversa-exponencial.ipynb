{
 "cells": [
  {
   "cell_type": "code",
   "execution_count": 47,
   "id": "5bc8616f",
   "metadata": {},
   "outputs": [],
   "source": [
    "import numpy as np\n",
    "import matplotlib.pyplot as plt\n",
    "import seaborn as sns\n",
    "import pandas as pd"
   ]
  },
  {
   "cell_type": "markdown",
   "id": "9ee890d1",
   "metadata": {},
   "source": [
    "## Sampleo exponencial en Python"
   ]
  },
  {
   "cell_type": "code",
   "execution_count": 7,
   "id": "918f9d16",
   "metadata": {},
   "outputs": [],
   "source": [
    "# Función para sampleo de exponencial\n",
    "def samplear_transformada_inversa_exp(lam, cantidad):\n",
    "    \n",
    "    # Sampleo de v.a. uniforme.\n",
    "    u = np.random.uniform(0, 1, cantidad)\n",
    "    \n",
    "    # Retornar sampleo de v.a. exponencial.\n",
    "    return -(1 / lam) * np.log(u)"
   ]
  },
  {
   "cell_type": "markdown",
   "id": "87ec8c49",
   "metadata": {},
   "source": [
    "## Sampleo de fallas de máquina"
   ]
  },
  {
   "cell_type": "code",
   "execution_count": 36,
   "id": "e1064501",
   "metadata": {},
   "outputs": [],
   "source": [
    "# Sampleo de exponencial\n",
    "cantidad = 15000\n",
    "t = samplear_transformada_inversa_exp(5, cantidad)"
   ]
  },
  {
   "cell_type": "code",
   "execution_count": 23,
   "id": "6b8863aa",
   "metadata": {},
   "outputs": [],
   "source": [
    "# Tiempo acumulado.\n",
    "t_cumsum = t.cumsum()"
   ]
  },
  {
   "cell_type": "code",
   "execution_count": 24,
   "id": "a973870a",
   "metadata": {},
   "outputs": [
    {
     "data": {
      "text/plain": [
       "Text(0, 0.5, 'Cantidad de fallas')"
      ]
     },
     "execution_count": 24,
     "metadata": {},
     "output_type": "execute_result"
    },
    {
     "data": {
      "image/png": "[encoded data removed]",
      "text/plain": [
       "<Figure size 432x288 with 1 Axes>"
      ]
     },
     "metadata": {
      "needs_background": "light"
     },
     "output_type": "display_data"
    }
   ],
   "source": [
    "# Histograma de eventos.\n",
    "bins = plt.hist(t_cumsum, bins=range(0, int(max(t_cumsum))))\n",
    "plt.title(f\"Histograma de fallas con {cantidad} eventos generados\")\n",
    "plt.xlabel(\"Hora\")\n",
    "plt.ylabel(\"Cantidad de fallas\")"
   ]
  },
  {
   "cell_type": "code",
   "execution_count": 25,
   "id": "e603b23f",
   "metadata": {},
   "outputs": [
    {
     "name": "stdout",
     "output_type": "stream",
     "text": [
      "Media de la muestra: 5.02\n"
     ]
    }
   ],
   "source": [
    "print(f'Media de la muestra: {sum(bins[0]) / len(bins[0]):.2f}')"
   ]
  },
  {
   "cell_type": "code",
   "execution_count": 26,
   "id": "49635d2d",
   "metadata": {},
   "outputs": [],
   "source": [
    "# plt.subplots(figsize=(20, 2))\n",
    "# plt.stem(t_cumsum, [1]*len(t_cumsum))\n",
    "# plt.ylim([0, 2])\n",
    "# for x in t_cumsum:\n",
    "#     plt.annotate(f'{x:.2f}', xy=(x,1), xytext=(0,5), textcoords='offset points', ha='center', rotation=90)\n",
    "# plt.xlabel('Tiempo (horas)')\n",
    "# plt.yticks([])"
   ]
  },
  {
   "cell_type": "code",
   "execution_count": 37,
   "id": "e4d0412a",
   "metadata": {},
   "outputs": [
    {
     "data": {
      "text/plain": [
       "Text(0, 0.5, 'Cantidad')"
      ]
     },
     "execution_count": 37,
     "metadata": {},
     "output_type": "execute_result"
    },
    {
     "data": {
      "image/png": "[encoded data removed]",
      "text/plain": [
       "<Figure size 432x288 with 1 Axes>"
      ]
     },
     "metadata": {
      "needs_background": "light"
     },
     "output_type": "display_data"
    }
   ],
   "source": [
    "# Histograma de funcion exponencial\n",
    "sns.histplot(t, kde=True)\n",
    "plt.title(f\"Histograma de fallas con {cantidad} eventos generados\")\n",
    "plt.xlabel(\"Tiempo entre fallas\")\n",
    "plt.ylabel(\"Cantidad\")"
   ]
  },
  {
   "cell_type": "markdown",
   "id": "1b26322e",
   "metadata": {},
   "source": [
    "## Sampleo de arribos y despachos"
   ]
  },
  {
   "cell_type": "code",
   "execution_count": 39,
   "id": "f7e46f84",
   "metadata": {},
   "outputs": [
    {
     "name": "stdout",
     "output_type": "stream",
     "text": [
      "arribos [0.18023166 0.06067138 0.10819257 0.106182   0.11964683 0.29862579\n",
      " 0.30604711 0.07982644]\n",
      "despachos [0.19269643 0.03393245 0.08754228 0.00427387 0.02698895 0.02254521\n",
      " 0.19163272 0.02154844]\n"
     ]
    }
   ],
   "source": [
    "# Sampleo de exponencial\n",
    "tarr = samplear_transformada_inversa_exp(6, 8)\n",
    "tdes = samplear_transformada_inversa_exp(7, 8)\n",
    "\n",
    "print(f'arribos {tarr}')\n",
    "print(f'despachos {tdes}')"
   ]
  },
  {
   "cell_type": "code",
   "execution_count": 46,
   "id": "ccdb1b7b",
   "metadata": {},
   "outputs": [
    {
     "name": "stdout",
     "output_type": "stream",
     "text": [
      "Cronómetro arribos [0.18023166 0.24090304 0.34909561 0.45527762 0.57492445 0.87355024\n",
      " 1.17959735 1.25942379]\n",
      "Cronómetro despachos [0.19269643 0.22662888 0.31417117 0.31844504 0.34543399 0.36797921\n",
      " 0.55961192 0.58116037]\n"
     ]
    }
   ],
   "source": [
    "# Tiempo acumulado.\n",
    "tarr_cumsum = tarr.cumsum()\n",
    "tdes_cumsum = tdes.cumsum()\n",
    "\n",
    "print(f'Cronómetro arribos {tarr_cumsum}')\n",
    "print(f'Cronómetro despachos {tdes_cumsum}')"
   ]
  },
  {
   "cell_type": "code",
   "execution_count": 49,
   "id": "4f02ffd2",
   "metadata": {},
   "outputs": [
    {
     "name": "stdout",
     "output_type": "stream",
     "text": [
      "       tipo  t_entre_eventos  cronómetro\n",
      "0    arribo         0.180232    0.180232\n",
      "0  despacho         0.192696    0.192696\n",
      "1  despacho         0.033932    0.226629\n",
      "1    arribo         0.060671    0.240903\n",
      "2  despacho         0.087542    0.314171\n",
      "3  despacho         0.004274    0.318445\n",
      "4  despacho         0.026989    0.345434\n",
      "2    arribo         0.108193    0.349096\n",
      "5  despacho         0.022545    0.367979\n",
      "3    arribo         0.106182    0.455278\n",
      "6  despacho         0.191633    0.559612\n",
      "4    arribo         0.119647    0.574924\n",
      "7  despacho         0.021548    0.581160\n",
      "5    arribo         0.298626    0.873550\n",
      "6    arribo         0.306047    1.179597\n",
      "7    arribo         0.079826    1.259424\n"
     ]
    }
   ],
   "source": [
    "# Ambas simulaciones en una sola tabla.\n",
    "ev_arr = {'tipo': ['arribo'] * len(tarr), 't_entre_eventos': tarr, 'cronómetro': tarr_cumsum}\n",
    "ev_des = {'tipo': ['despacho'] * len(tdes), 't_entre_eventos': tdes, 'cronómetro': tdes_cumsum}\n",
    "\n",
    "# Generamos data frames.\n",
    "df_arr = pd.DataFrame(ev_arr)\n",
    "df_des = pd.DataFrame(ev_des)\n",
    "\n",
    "# Concatenamos\n",
    "df = pd.concat([df_arr, df_des])\n",
    "\n",
    "# Ordenamos eventos\n",
    "df = df.sort_values(by='cronómetro')\n",
    "\n",
    "print(df)"
   ]
  },
  {
   "cell_type": "code",
   "execution_count": null,
   "id": "8190ee0d",
   "metadata": {},
   "outputs": [],
   "source": []
  }
 ],
 "metadata": {
  "kernelspec": {
   "display_name": "Python 3",
   "language": "python",
   "name": "python3"
  },
  "language_info": {
   "codemirror_mode": {
    "name": "ipython",
    "version": 3
   },
   "file_extension": ".py",
   "mimetype": "text/x-python",
   "name": "python",
   "nbconvert_exporter": "python",
   "pygments_lexer": "ipython3",
   "version": "3.8.13"
  }
 },
 "nbformat": 4,
 "nbformat_minor": 5
}
