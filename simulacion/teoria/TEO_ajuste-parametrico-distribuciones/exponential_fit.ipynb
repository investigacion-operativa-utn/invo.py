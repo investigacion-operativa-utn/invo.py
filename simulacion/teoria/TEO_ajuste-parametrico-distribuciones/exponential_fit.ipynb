{
 "cells": [
  {
   "cell_type": "markdown",
   "metadata": {},
   "source": [
    "---\n",
    "__Universidad Tecnológica Nacional, Buenos Aires__\\\n",
    "__Ingeniería Industrial__\\\n",
    "__Cátedra de Investigación Operativa__\\\n",
    "__Autor: Rodrigo Maranzana__, Rmaranzana@frba.utn.edu.ar\n",
    "\n",
    "---"
   ]
  },
  {
   "cell_type": "markdown",
   "metadata": {
    "toc": true
   },
   "source": [
    "<h1>Table of Contents<span class=\"tocSkip\"></span></h1>\n",
    "<div class=\"toc\"><ul class=\"toc-item\"><li><span><a href=\"#Manipulación-de-datos\" data-toc-modified-id=\"Manipulación-de-datos-1\"><span class=\"toc-item-num\">1&nbsp;&nbsp;</span>Manipulación de datos</a></span></li><li><span><a href=\"#Ajuste-a-densidad-exponencial\" data-toc-modified-id=\"Ajuste-a-densidad-exponencial-2\"><span class=\"toc-item-num\">2&nbsp;&nbsp;</span>Ajuste a densidad exponencial</a></span><ul class=\"toc-item\"><li><span><a href=\"#Ajuste-con-librería-de-Scipy\" data-toc-modified-id=\"Ajuste-con-librería-de-Scipy-2.1\"><span class=\"toc-item-num\">2.1&nbsp;&nbsp;</span>Ajuste con librería de Scipy</a></span></li><li><span><a href=\"#Ajuste-con-solución-analítica\" data-toc-modified-id=\"Ajuste-con-solución-analítica-2.2\"><span class=\"toc-item-num\">2.2&nbsp;&nbsp;</span>Ajuste con solución analítica</a></span></li></ul></li><li><span><a href=\"#Visualización\" data-toc-modified-id=\"Visualización-3\"><span class=\"toc-item-num\">3&nbsp;&nbsp;</span>Visualización</a></span></li></ul></div>"
   ]
  },
  {
   "cell_type": "markdown",
   "metadata": {},
   "source": [
    "# Ajuste con Máxima Verosimilitud"
   ]
  },
  {
   "cell_type": "markdown",
   "metadata": {},
   "source": [
    "En este Notebook vamos a trajar con datos de tiempos de llegada de autos en la Autopista Lugones. El objetivo es encontrar el parámetro $\\lambda$ óptimo que explica el Ajuste de los datos a una función de densidad Exponencial. Vamos a hacerlo con dos métodos distintos. Verosimilitud Máxima y usando la librería Scipy."
   ]
  },
  {
   "cell_type": "code",
   "execution_count": 42,
   "metadata": {},
   "outputs": [],
   "source": [
    "import scipy.stats as st\n",
    "import pandas as pd\n",
    "import matplotlib.pyplot as plt"
   ]
  },
  {
   "cell_type": "markdown",
   "metadata": {},
   "source": [
    "## Manipulación de datos"
   ]
  },
  {
   "cell_type": "markdown",
   "metadata": {},
   "source": [
    "Importamos los datos y creamos un DataFrame de Pandas con las columnas representando las distintas entradas de la Autopista Lugones: Dorrego, Juramento, Monroe, Udaondo y Esma.\n",
    "Cada fila de las 500 representa una medición de tiempo de arribo de un vehículo."
   ]
  },
  {
   "cell_type": "code",
   "execution_count": 16,
   "metadata": {},
   "outputs": [
    {
     "data": {
      "text/html": [
       "<div>\n",
       "<style scoped>\n",
       "    .dataframe tbody tr th:only-of-type {\n",
       "        vertical-align: middle;\n",
       "    }\n",
       "\n",
       "    .dataframe tbody tr th {\n",
       "        vertical-align: top;\n",
       "    }\n",
       "\n",
       "    .dataframe thead th {\n",
       "        text-align: right;\n",
       "    }\n",
       "</style>\n",
       "<table border=\"1\" class=\"dataframe\">\n",
       "  <thead>\n",
       "    <tr style=\"text-align: right;\">\n",
       "      <th></th>\n",
       "      <th>Dorrego</th>\n",
       "      <th>Juramento</th>\n",
       "      <th>Monroe</th>\n",
       "      <th>Udaondo</th>\n",
       "      <th>Esma</th>\n",
       "    </tr>\n",
       "  </thead>\n",
       "  <tbody>\n",
       "    <tr>\n",
       "      <th>0</th>\n",
       "      <td>0.000162</td>\n",
       "      <td>0.006540</td>\n",
       "      <td>0.000617</td>\n",
       "      <td>0.001453</td>\n",
       "      <td>0.000011</td>\n",
       "    </tr>\n",
       "    <tr>\n",
       "      <th>1</th>\n",
       "      <td>0.001048</td>\n",
       "      <td>0.006992</td>\n",
       "      <td>0.001214</td>\n",
       "      <td>0.001839</td>\n",
       "      <td>0.001837</td>\n",
       "    </tr>\n",
       "    <tr>\n",
       "      <th>2</th>\n",
       "      <td>0.001173</td>\n",
       "      <td>0.007424</td>\n",
       "      <td>0.001652</td>\n",
       "      <td>0.001937</td>\n",
       "      <td>0.002194</td>\n",
       "    </tr>\n",
       "    <tr>\n",
       "      <th>3</th>\n",
       "      <td>0.001287</td>\n",
       "      <td>0.009399</td>\n",
       "      <td>0.002005</td>\n",
       "      <td>0.001986</td>\n",
       "      <td>0.003150</td>\n",
       "    </tr>\n",
       "    <tr>\n",
       "      <th>4</th>\n",
       "      <td>0.001964</td>\n",
       "      <td>0.010459</td>\n",
       "      <td>0.002452</td>\n",
       "      <td>0.002167</td>\n",
       "      <td>0.003342</td>\n",
       "    </tr>\n",
       "    <tr>\n",
       "      <th>...</th>\n",
       "      <td>...</td>\n",
       "      <td>...</td>\n",
       "      <td>...</td>\n",
       "      <td>...</td>\n",
       "      <td>...</td>\n",
       "    </tr>\n",
       "    <tr>\n",
       "      <th>495</th>\n",
       "      <td>0.318998</td>\n",
       "      <td>0.798637</td>\n",
       "      <td>0.239504</td>\n",
       "      <td>0.225528</td>\n",
       "      <td>0.238434</td>\n",
       "    </tr>\n",
       "    <tr>\n",
       "      <th>496</th>\n",
       "      <td>0.319717</td>\n",
       "      <td>0.799335</td>\n",
       "      <td>0.239914</td>\n",
       "      <td>0.225862</td>\n",
       "      <td>0.238591</td>\n",
       "    </tr>\n",
       "    <tr>\n",
       "      <th>497</th>\n",
       "      <td>0.320213</td>\n",
       "      <td>0.799927</td>\n",
       "      <td>0.239941</td>\n",
       "      <td>0.226031</td>\n",
       "      <td>0.239606</td>\n",
       "    </tr>\n",
       "    <tr>\n",
       "      <th>498</th>\n",
       "      <td>0.320558</td>\n",
       "      <td>0.800879</td>\n",
       "      <td>0.240112</td>\n",
       "      <td>0.226078</td>\n",
       "      <td>0.241055</td>\n",
       "    </tr>\n",
       "    <tr>\n",
       "      <th>499</th>\n",
       "      <td>0.320567</td>\n",
       "      <td>0.802059</td>\n",
       "      <td>0.240591</td>\n",
       "      <td>0.227386</td>\n",
       "      <td>0.241906</td>\n",
       "    </tr>\n",
       "  </tbody>\n",
       "</table>\n",
       "<p>500 rows × 5 columns</p>\n",
       "</div>"
      ],
      "text/plain": [
       "      Dorrego  Juramento    Monroe   Udaondo      Esma\n",
       "0    0.000162   0.006540  0.000617  0.001453  0.000011\n",
       "1    0.001048   0.006992  0.001214  0.001839  0.001837\n",
       "2    0.001173   0.007424  0.001652  0.001937  0.002194\n",
       "3    0.001287   0.009399  0.002005  0.001986  0.003150\n",
       "4    0.001964   0.010459  0.002452  0.002167  0.003342\n",
       "..        ...        ...       ...       ...       ...\n",
       "495  0.318998   0.798637  0.239504  0.225528  0.238434\n",
       "496  0.319717   0.799335  0.239914  0.225862  0.238591\n",
       "497  0.320213   0.799927  0.239941  0.226031  0.239606\n",
       "498  0.320558   0.800879  0.240112  0.226078  0.241055\n",
       "499  0.320567   0.802059  0.240591  0.227386  0.241906\n",
       "\n",
       "[500 rows x 5 columns]"
      ]
     },
     "execution_count": 16,
     "metadata": {},
     "output_type": "execute_result"
    }
   ],
   "source": [
    "df_lugones = pd.read_excel(\"lugones_arribos.xlsx\", index_col=0)  \n",
    "\n",
    "df_lugones"
   ]
  },
  {
   "cell_type": "markdown",
   "metadata": {},
   "source": [
    "Dado que el tiempo de DataFrame es acumulado, y que necesitamos el tiempo entre arribos, vamos a restar los valores entre sí usando el método \"diff\" de Pandas.\n",
    "El resultado es el data frame \"df_lugones_density\" que contiene los tiempos entre arribos de cada uno de los 500 vehículos."
   ]
  },
  {
   "cell_type": "code",
   "execution_count": 18,
   "metadata": {},
   "outputs": [
    {
     "data": {
      "text/html": [
       "<div>\n",
       "<style scoped>\n",
       "    .dataframe tbody tr th:only-of-type {\n",
       "        vertical-align: middle;\n",
       "    }\n",
       "\n",
       "    .dataframe tbody tr th {\n",
       "        vertical-align: top;\n",
       "    }\n",
       "\n",
       "    .dataframe thead th {\n",
       "        text-align: right;\n",
       "    }\n",
       "</style>\n",
       "<table border=\"1\" class=\"dataframe\">\n",
       "  <thead>\n",
       "    <tr style=\"text-align: right;\">\n",
       "      <th></th>\n",
       "      <th>Dorrego</th>\n",
       "      <th>Juramento</th>\n",
       "      <th>Monroe</th>\n",
       "      <th>Udaondo</th>\n",
       "      <th>Esma</th>\n",
       "    </tr>\n",
       "  </thead>\n",
       "  <tbody>\n",
       "    <tr>\n",
       "      <th>0</th>\n",
       "      <td>0.000162</td>\n",
       "      <td>0.006540</td>\n",
       "      <td>0.000617</td>\n",
       "      <td>0.001453</td>\n",
       "      <td>0.000011</td>\n",
       "    </tr>\n",
       "    <tr>\n",
       "      <th>1</th>\n",
       "      <td>0.000887</td>\n",
       "      <td>0.000452</td>\n",
       "      <td>0.000598</td>\n",
       "      <td>0.000386</td>\n",
       "      <td>0.001826</td>\n",
       "    </tr>\n",
       "    <tr>\n",
       "      <th>2</th>\n",
       "      <td>0.000125</td>\n",
       "      <td>0.000433</td>\n",
       "      <td>0.000437</td>\n",
       "      <td>0.000097</td>\n",
       "      <td>0.000356</td>\n",
       "    </tr>\n",
       "    <tr>\n",
       "      <th>3</th>\n",
       "      <td>0.000114</td>\n",
       "      <td>0.001974</td>\n",
       "      <td>0.000354</td>\n",
       "      <td>0.000050</td>\n",
       "      <td>0.000957</td>\n",
       "    </tr>\n",
       "    <tr>\n",
       "      <th>4</th>\n",
       "      <td>0.000677</td>\n",
       "      <td>0.001061</td>\n",
       "      <td>0.000447</td>\n",
       "      <td>0.000181</td>\n",
       "      <td>0.000191</td>\n",
       "    </tr>\n",
       "    <tr>\n",
       "      <th>...</th>\n",
       "      <td>...</td>\n",
       "      <td>...</td>\n",
       "      <td>...</td>\n",
       "      <td>...</td>\n",
       "      <td>...</td>\n",
       "    </tr>\n",
       "    <tr>\n",
       "      <th>495</th>\n",
       "      <td>0.001033</td>\n",
       "      <td>0.002718</td>\n",
       "      <td>0.001028</td>\n",
       "      <td>0.000447</td>\n",
       "      <td>0.000043</td>\n",
       "    </tr>\n",
       "    <tr>\n",
       "      <th>496</th>\n",
       "      <td>0.000719</td>\n",
       "      <td>0.000698</td>\n",
       "      <td>0.000409</td>\n",
       "      <td>0.000334</td>\n",
       "      <td>0.000157</td>\n",
       "    </tr>\n",
       "    <tr>\n",
       "      <th>497</th>\n",
       "      <td>0.000496</td>\n",
       "      <td>0.000592</td>\n",
       "      <td>0.000027</td>\n",
       "      <td>0.000169</td>\n",
       "      <td>0.001015</td>\n",
       "    </tr>\n",
       "    <tr>\n",
       "      <th>498</th>\n",
       "      <td>0.000346</td>\n",
       "      <td>0.000952</td>\n",
       "      <td>0.000171</td>\n",
       "      <td>0.000046</td>\n",
       "      <td>0.001449</td>\n",
       "    </tr>\n",
       "    <tr>\n",
       "      <th>499</th>\n",
       "      <td>0.000009</td>\n",
       "      <td>0.001180</td>\n",
       "      <td>0.000479</td>\n",
       "      <td>0.001309</td>\n",
       "      <td>0.000851</td>\n",
       "    </tr>\n",
       "  </tbody>\n",
       "</table>\n",
       "<p>500 rows × 5 columns</p>\n",
       "</div>"
      ],
      "text/plain": [
       "      Dorrego  Juramento    Monroe   Udaondo      Esma\n",
       "0    0.000162   0.006540  0.000617  0.001453  0.000011\n",
       "1    0.000887   0.000452  0.000598  0.000386  0.001826\n",
       "2    0.000125   0.000433  0.000437  0.000097  0.000356\n",
       "3    0.000114   0.001974  0.000354  0.000050  0.000957\n",
       "4    0.000677   0.001061  0.000447  0.000181  0.000191\n",
       "..        ...        ...       ...       ...       ...\n",
       "495  0.001033   0.002718  0.001028  0.000447  0.000043\n",
       "496  0.000719   0.000698  0.000409  0.000334  0.000157\n",
       "497  0.000496   0.000592  0.000027  0.000169  0.001015\n",
       "498  0.000346   0.000952  0.000171  0.000046  0.001449\n",
       "499  0.000009   0.001180  0.000479  0.001309  0.000851\n",
       "\n",
       "[500 rows x 5 columns]"
      ]
     },
     "execution_count": 18,
     "metadata": {},
     "output_type": "execute_result"
    }
   ],
   "source": [
    "df_lugones_density = df_lugones.diff().fillna(df_lugones)\n",
    "\n",
    "df_lugones_density"
   ]
  },
  {
   "cell_type": "markdown",
   "metadata": {},
   "source": [
    "A partir de este punto, a modo de ejemplo vamos a trabajar con la entrada Dorrego. Es decir, vamos a calcular el lambda correspondiente a la distribución de interarribos de la entrada Dorrego."
   ]
  },
  {
   "cell_type": "code",
   "execution_count": 26,
   "metadata": {},
   "outputs": [],
   "source": [
    "dorrego_values = df_lugones_density[\"Dorrego\"].to_numpy()"
   ]
  },
  {
   "cell_type": "markdown",
   "metadata": {},
   "source": [
    "## Ajuste a densidad exponencial"
   ]
  },
  {
   "cell_type": "markdown",
   "metadata": {},
   "source": [
    "### Ajuste con librería de Scipy"
   ]
  },
  {
   "cell_type": "markdown",
   "metadata": {},
   "source": [
    "Con los datos interarribos, en primer lugar usamos la librería de Scipy para poder ajustar el parámetro lambda. Para lograr esto, necesitamos llamar al método \"fit\" de la función exponencial \"expon\".\n",
    "El input de esta función son los valores de arribos que filtramos en el punto anterior."
   ]
  },
  {
   "cell_type": "code",
   "execution_count": 49,
   "metadata": {},
   "outputs": [
    {
     "name": "stdout",
     "output_type": "stream",
     "text": [
      "El lambda calculado con el ajuste de la librería Scipy: 1560.3785201728292\n"
     ]
    }
   ],
   "source": [
    "_, scale= st.expon.fit(dorrego_values)\n",
    "\n",
    "lam_sci = 1/scale\n",
    "\n",
    "print(f\"El lambda calculado con el ajuste de la librería Scipy: {lam_sci}\")"
   ]
  },
  {
   "cell_type": "markdown",
   "metadata": {},
   "source": [
    "### Ajuste con solución analítica"
   ]
  },
  {
   "cell_type": "markdown",
   "metadata": {},
   "source": [
    "Sabemos que el resultado de Máxima Verosimilitud para la distribución exponencial es una solución analítica. Por lo tanto podemos calcularlo facilmente.\n",
    "\n",
    "El valor de lambda óptimo con el método de la máxima verosimilitud se calcula como:\n",
    "\n",
    "$$ \\beta = \\sum^n_i{\\frac{X_i}{n}} $$\n",
    "$$ \\lambda = \\frac{1}{\\beta} $$"
   ]
  },
  {
   "cell_type": "code",
   "execution_count": 50,
   "metadata": {},
   "outputs": [
    {
     "name": "stdout",
     "output_type": "stream",
     "text": [
      "El lambda calculado con el ajuste de la librería Scipy: 1559.7357687713277\n"
     ]
    }
   ],
   "source": [
    "beta_an = sum(dorrego_values)/len(dorrego_values)\n",
    "\n",
    "lam_an = 1 / beta\n",
    "\n",
    "print(f\"El lambda calculado con el ajuste de la librería Scipy: {lam_an}\")"
   ]
  },
  {
   "cell_type": "markdown",
   "metadata": {},
   "source": [
    "## Visualización"
   ]
  },
  {
   "cell_type": "markdown",
   "metadata": {},
   "source": [
    "Vamos a plotear un histograma de los datos constrastado con las densidades exponenciales encontradas, tanto de la librería Scipy como la Máxima Verosimilitud Analítica."
   ]
  },
  {
   "cell_type": "code",
   "execution_count": 71,
   "metadata": {},
   "outputs": [
    {
     "data": {
      "image/png": "[encoded data removed]",
      "text/plain": [
       "<Figure size 936x504 with 1 Axes>"
      ]
     },
     "metadata": {
      "needs_background": "light"
     },
     "output_type": "display_data"
    }
   ],
   "source": [
    "# Creamos una figura:\n",
    "plt.figure(figsize=(13,7))\n",
    "\n",
    "# Densidad exponencial teórica:\n",
    "xvals = np.linspace(0, np.max(dorrego_values))\n",
    "yvals_a = st.expon.pdf(xvals, scale=1/lam_an)\n",
    "\n",
    "plt.plot(xvals, yvals_a, c='r', label='Exponencial Analítica')\n",
    "    \n",
    "# Densidad exponencial con fit de Scipy:\n",
    "yvals_s = st.expon.pdf(xvals, scale=1/lam_sci)\n",
    "plt.plot(xvals, yvals_s, c='g', label='Exponencial Scipy')\n",
    "\n",
    "# Histograma normalizado de valores de tiempos:\n",
    "plt.hist(dorrego_values, density=True, bins=20, label='Frecuencias de tiempos')\n",
    "\n",
    "# Formato de gráfico:\n",
    "plt.title('Histograma de Horas entre arribos vs. Densidad de probabilidad Exponencial')\n",
    "plt.ylabel('Frecuencia de aparición de tiempo entre arribos')\n",
    "plt.xlabel('Tiempo entre arribos')\n",
    "plt.legend()\n",
    "\n",
    "# # Zoom\n",
    "# plt.xlim(0, 2.5e-6)\n",
    "# plt.ylim(1555, 1565)\n",
    "\n",
    "# Visualizamos:\n",
    "plt.show()"
   ]
  },
  {
   "cell_type": "markdown",
   "metadata": {},
   "source": [
    "Como era de esperar las soluciones tanto de forma analítica como de Scipy coinciden con una variación despreciable"
   ]
  },
  {
   "cell_type": "code",
   "execution_count": null,
   "metadata": {},
   "outputs": [],
   "source": []
  }
 ],
 "metadata": {
  "kernelspec": {
   "display_name": "Python 3",
   "language": "python",
   "name": "python3"
  },
  "language_info": {
   "codemirror_mode": {
    "name": "ipython",
    "version": 3
   },
   "file_extension": ".py",
   "mimetype": "text/x-python",
   "name": "python",
   "nbconvert_exporter": "python",
   "pygments_lexer": "ipython3",
   "version": "3.8.5"
  },
  "toc": {
   "base_numbering": 1,
   "nav_menu": {},
   "number_sections": true,
   "sideBar": true,
   "skip_h1_title": true,
   "title_cell": "Table of Contents",
   "title_sidebar": "Contents",
   "toc_cell": true,
   "toc_position": {},
   "toc_section_display": true,
   "toc_window_display": false
  },
  "varInspector": {
   "cols": {
    "lenName": 16,
    "lenType": 16,
    "lenVar": 40
   },
   "kernels_config": {
    "python": {
     "delete_cmd_postfix": "",
     "delete_cmd_prefix": "del ",
     "library": "var_list.py",
     "varRefreshCmd": "print(var_dic_list())"
    },
    "r": {
     "delete_cmd_postfix": ") ",
     "delete_cmd_prefix": "rm(",
     "library": "var_list.r",
     "varRefreshCmd": "cat(var_dic_list()) "
    }
   },
   "types_to_exclude": [
    "module",
    "function",
    "builtin_function_or_method",
    "instance",
    "_Feature"
   ],
   "window_display": false
  }
 },
 "nbformat": 4,
 "nbformat_minor": 2
}
