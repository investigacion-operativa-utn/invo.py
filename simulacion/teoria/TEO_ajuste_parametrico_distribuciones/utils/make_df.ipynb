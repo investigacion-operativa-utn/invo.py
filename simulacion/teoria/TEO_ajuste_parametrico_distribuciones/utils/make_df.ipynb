{
 "cells": [
  {
   "cell_type": "code",
   "execution_count": 1,
   "metadata": {},
   "outputs": [],
   "source": [
    "import numpy as np\n",
    "import pandas as pd\n",
    "import scipy.stats as st"
   ]
  },
  {
   "cell_type": "code",
   "execution_count": 2,
   "metadata": {},
   "outputs": [],
   "source": [
    "lam_dorrego = 1621\n",
    "lam_juram = 650\n",
    "lam_monroe = 2172\n",
    "lam_udaondo = 2113\n",
    "lam_esma = 2103\n",
    "\n",
    "n = 500\n",
    "\n",
    "dorrego = np.random.exponential(scale=1/lam_dorrego, size = n)\n",
    "juramen = np.random.exponential(scale=1/lam_juram, size = n)\n",
    "monroe = np.random.exponential(scale=1/lam_monroe, size = n)\n",
    "udaondo = np.random.exponential(scale=1/lam_udaondo, size = n)\n",
    "esma = np.random.exponential(scale=1/lam_esma, size = n)"
   ]
  },
  {
   "cell_type": "code",
   "execution_count": 3,
   "metadata": {},
   "outputs": [],
   "source": [
    "rnd_matrix = np.concatenate((dorrego, juramen, monroe, udaondo, esma)).reshape((5, n)).transpose()"
   ]
  },
  {
   "cell_type": "code",
   "execution_count": 4,
   "metadata": {},
   "outputs": [],
   "source": [
    "df = pd.DataFrame(rnd_matrix, columns=['Dorrego', 'Juramento', 'Monroe', 'Udaondo', 'Esma'])"
   ]
  },
  {
   "cell_type": "code",
   "execution_count": 5,
   "metadata": {},
   "outputs": [],
   "source": [
    "df1 = df.cumsum()"
   ]
  },
  {
   "cell_type": "code",
   "execution_count": 6,
   "metadata": {},
   "outputs": [
    {
     "data": {
      "text/html": [
       "<div>\n",
       "<style scoped>\n",
       "    .dataframe tbody tr th:only-of-type {\n",
       "        vertical-align: middle;\n",
       "    }\n",
       "\n",
       "    .dataframe tbody tr th {\n",
       "        vertical-align: top;\n",
       "    }\n",
       "\n",
       "    .dataframe thead th {\n",
       "        text-align: right;\n",
       "    }\n",
       "</style>\n",
       "<table border=\"1\" class=\"dataframe\">\n",
       "  <thead>\n",
       "    <tr style=\"text-align: right;\">\n",
       "      <th></th>\n",
       "      <th>Dorrego</th>\n",
       "      <th>Juramento</th>\n",
       "      <th>Monroe</th>\n",
       "      <th>Udaondo</th>\n",
       "      <th>Esma</th>\n",
       "    </tr>\n",
       "  </thead>\n",
       "  <tbody>\n",
       "    <tr>\n",
       "      <th>0</th>\n",
       "      <td>0.000162</td>\n",
       "      <td>0.006540</td>\n",
       "      <td>0.000617</td>\n",
       "      <td>0.001453</td>\n",
       "      <td>0.000011</td>\n",
       "    </tr>\n",
       "    <tr>\n",
       "      <th>1</th>\n",
       "      <td>0.001048</td>\n",
       "      <td>0.006992</td>\n",
       "      <td>0.001214</td>\n",
       "      <td>0.001839</td>\n",
       "      <td>0.001837</td>\n",
       "    </tr>\n",
       "    <tr>\n",
       "      <th>2</th>\n",
       "      <td>0.001173</td>\n",
       "      <td>0.007424</td>\n",
       "      <td>0.001652</td>\n",
       "      <td>0.001937</td>\n",
       "      <td>0.002194</td>\n",
       "    </tr>\n",
       "    <tr>\n",
       "      <th>3</th>\n",
       "      <td>0.001287</td>\n",
       "      <td>0.009399</td>\n",
       "      <td>0.002005</td>\n",
       "      <td>0.001986</td>\n",
       "      <td>0.003150</td>\n",
       "    </tr>\n",
       "    <tr>\n",
       "      <th>4</th>\n",
       "      <td>0.001964</td>\n",
       "      <td>0.010459</td>\n",
       "      <td>0.002452</td>\n",
       "      <td>0.002167</td>\n",
       "      <td>0.003342</td>\n",
       "    </tr>\n",
       "    <tr>\n",
       "      <th>...</th>\n",
       "      <td>...</td>\n",
       "      <td>...</td>\n",
       "      <td>...</td>\n",
       "      <td>...</td>\n",
       "      <td>...</td>\n",
       "    </tr>\n",
       "    <tr>\n",
       "      <th>495</th>\n",
       "      <td>0.318998</td>\n",
       "      <td>0.798637</td>\n",
       "      <td>0.239504</td>\n",
       "      <td>0.225528</td>\n",
       "      <td>0.238434</td>\n",
       "    </tr>\n",
       "    <tr>\n",
       "      <th>496</th>\n",
       "      <td>0.319717</td>\n",
       "      <td>0.799335</td>\n",
       "      <td>0.239914</td>\n",
       "      <td>0.225862</td>\n",
       "      <td>0.238591</td>\n",
       "    </tr>\n",
       "    <tr>\n",
       "      <th>497</th>\n",
       "      <td>0.320213</td>\n",
       "      <td>0.799927</td>\n",
       "      <td>0.239941</td>\n",
       "      <td>0.226031</td>\n",
       "      <td>0.239606</td>\n",
       "    </tr>\n",
       "    <tr>\n",
       "      <th>498</th>\n",
       "      <td>0.320558</td>\n",
       "      <td>0.800879</td>\n",
       "      <td>0.240112</td>\n",
       "      <td>0.226078</td>\n",
       "      <td>0.241055</td>\n",
       "    </tr>\n",
       "    <tr>\n",
       "      <th>499</th>\n",
       "      <td>0.320567</td>\n",
       "      <td>0.802059</td>\n",
       "      <td>0.240591</td>\n",
       "      <td>0.227386</td>\n",
       "      <td>0.241906</td>\n",
       "    </tr>\n",
       "  </tbody>\n",
       "</table>\n",
       "<p>500 rows × 5 columns</p>\n",
       "</div>"
      ],
      "text/plain": [
       "      Dorrego  Juramento    Monroe   Udaondo      Esma\n",
       "0    0.000162   0.006540  0.000617  0.001453  0.000011\n",
       "1    0.001048   0.006992  0.001214  0.001839  0.001837\n",
       "2    0.001173   0.007424  0.001652  0.001937  0.002194\n",
       "3    0.001287   0.009399  0.002005  0.001986  0.003150\n",
       "4    0.001964   0.010459  0.002452  0.002167  0.003342\n",
       "..        ...        ...       ...       ...       ...\n",
       "495  0.318998   0.798637  0.239504  0.225528  0.238434\n",
       "496  0.319717   0.799335  0.239914  0.225862  0.238591\n",
       "497  0.320213   0.799927  0.239941  0.226031  0.239606\n",
       "498  0.320558   0.800879  0.240112  0.226078  0.241055\n",
       "499  0.320567   0.802059  0.240591  0.227386  0.241906\n",
       "\n",
       "[500 rows x 5 columns]"
      ]
     },
     "execution_count": 6,
     "metadata": {},
     "output_type": "execute_result"
    }
   ],
   "source": [
    "df1"
   ]
  },
  {
   "cell_type": "code",
   "execution_count": 7,
   "metadata": {},
   "outputs": [
    {
     "name": "stderr",
     "output_type": "stream",
     "text": [
      "c:\\users\\m_a_r\\appdata\\local\\programs\\python\\python36\\lib\\site-packages\\pandas\\compat\\_optional.py:106: UserWarning: Pandas requires version '0.9.8' or newer of 'xlsxwriter' (version '0.9.6' currently installed).\n",
      "  warnings.warn(msg, UserWarning)\n"
     ]
    }
   ],
   "source": [
    "df1.to_excel(\"lugones_arribos.xlsx\")  "
   ]
  },
  {
   "cell_type": "code",
   "execution_count": null,
   "metadata": {},
   "outputs": [],
   "source": []
  },
  {
   "cell_type": "code",
   "execution_count": null,
   "metadata": {},
   "outputs": [],
   "source": []
  }
 ],
 "metadata": {
  "kernelspec": {
   "display_name": "Python 3",
   "language": "python",
   "name": "python3"
  },
  "language_info": {
   "codemirror_mode": {
    "name": "ipython",
    "version": 3
   },
   "file_extension": ".py",
   "mimetype": "text/x-python",
   "name": "python",
   "nbconvert_exporter": "python",
   "pygments_lexer": "ipython3",
   "version": "3.6.1"
  },
  "toc": {
   "base_numbering": 1,
   "nav_menu": {},
   "number_sections": true,
   "sideBar": true,
   "skip_h1_title": false,
   "title_cell": "Table of Contents",
   "title_sidebar": "Contents",
   "toc_cell": false,
   "toc_position": {},
   "toc_section_display": true,
   "toc_window_display": false
  },
  "varInspector": {
   "cols": {
    "lenName": 16,
    "lenType": 16,
    "lenVar": 40
   },
   "kernels_config": {
    "python": {
     "delete_cmd_postfix": "",
     "delete_cmd_prefix": "del ",
     "library": "var_list.py",
     "varRefreshCmd": "print(var_dic_list())"
    },
    "r": {
     "delete_cmd_postfix": ") ",
     "delete_cmd_prefix": "rm(",
     "library": "var_list.r",
     "varRefreshCmd": "cat(var_dic_list()) "
    }
   },
   "types_to_exclude": [
    "module",
    "function",
    "builtin_function_or_method",
    "instance",
    "_Feature"
   ],
   "window_display": false
  }
 },
 "nbformat": 4,
 "nbformat_minor": 2
}
