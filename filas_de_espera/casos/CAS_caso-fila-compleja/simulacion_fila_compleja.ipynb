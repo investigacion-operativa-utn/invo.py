{
 "cells": [
  {
   "cell_type": "markdown",
   "metadata": {},
   "source": [
    "---\n",
    "__Universidad Tecnológica Nacional, Buenos Aires__\\\n",
    "__Ingeniería Industrial__\\\n",
    "__Cátedra de Investigación Operativa__\\\n",
    "__Autor: Rodrigo Maranzana__,  Rmaranzana@frba.utn.edu.ar\n",
    "\n",
    "---"
   ]
  },
  {
   "cell_type": "markdown",
   "metadata": {},
   "source": [
    "# Ejemplo de simulación discreta compleja"
   ]
  },
  {
   "cell_type": "markdown",
   "metadata": {
    "toc": true
   },
   "source": [
    "<h1>Table of Contents<span class=\"tocSkip\"></span></h1>\n",
    "<div class=\"toc\"><ul class=\"toc-item\"><li><span><a href=\"#Resolución\" data-toc-modified-id=\"Resolución-1\"><span class=\"toc-item-num\">1&nbsp;&nbsp;</span>Resolución</a></span><ul class=\"toc-item\"><li><span><a href=\"#Simulador-de-eventos-discretos:\" data-toc-modified-id=\"Simulador-de-eventos-discretos:-1.1\"><span class=\"toc-item-num\">1.1&nbsp;&nbsp;</span>Simulador de eventos discretos:</a></span><ul class=\"toc-item\"><li><span><a href=\"#Función-de-resultados-del-simulador:\" data-toc-modified-id=\"Función-de-resultados-del-simulador:-1.1.1\"><span class=\"toc-item-num\">1.1.1&nbsp;&nbsp;</span>Función de resultados del simulador:</a></span></li><li><span><a href=\"#Estructura-del-simulador:\" data-toc-modified-id=\"Estructura-del-simulador:-1.1.2\"><span class=\"toc-item-num\">1.1.2&nbsp;&nbsp;</span>Estructura del simulador:</a></span></li></ul></li><li><span><a href=\"#Método-de-Monte-Carlo-aplicado-a-filas-de-espera:\" data-toc-modified-id=\"Método-de-Monte-Carlo-aplicado-a-filas-de-espera:-1.2\"><span class=\"toc-item-num\">1.2&nbsp;&nbsp;</span>Método de Monte Carlo aplicado a filas de espera:</a></span></li></ul></li></ul></div>"
   ]
  },
  {
   "cell_type": "markdown",
   "metadata": {},
   "source": [
    "Se busca estimar las métricas para un modelo de filas de espera con distribuciones de llegadas y salidas que tienen parámetros dinámicos en cada tiempo simulado. Esto es consecuencia de un requerimiento de modelado que proviene del análisis cualitativo de psicología de filas.\n",
    "\n",
    "Se busca comparar un modelo M/M/1 con Mvar/Mvar/1, en donde Mvar indica la distribución exponencial de parámetro variable.\n",
    "Los parámetros son función del largo de las filas. Concretamente se eligió arbitrariamente una función sigmoidal."
   ]
  },
  {
   "cell_type": "markdown",
   "metadata": {},
   "source": [
    "## Resolución"
   ]
  },
  {
   "cell_type": "markdown",
   "metadata": {},
   "source": [
    "En primer lugar, importamos las librerías necesarias para el cálculo:"
   ]
  },
  {
   "cell_type": "code",
   "execution_count": 334,
   "metadata": {},
   "outputs": [],
   "source": [
    "import numpy as np\n",
    "from numpy.random import exponential\n",
    "import matplotlib.pyplot as plt\n",
    "import pandas as pd\n",
    "import heapq\n",
    "from time import time\n",
    "from scipy.stats import logistic"
   ]
  },
  {
   "cell_type": "markdown",
   "metadata": {},
   "source": [
    "### Simulador de eventos discretos:"
   ]
  },
  {
   "cell_type": "markdown",
   "metadata": {},
   "source": [
    "Definimos funciones asociadas a los eventos:"
   ]
  },
  {
   "cell_type": "code",
   "execution_count": 335,
   "metadata": {},
   "outputs": [],
   "source": [
    "# Funciones pertenecientes a eventos:\n",
    "def generar_llegada(t_global, generador_codigo_persona, lambd):\n",
    "    t_llegada = exponential(1/lambd) + t_global\n",
    "    nueva_n_persona = next(generador_codigo_persona)\n",
    "    return t_llegada, nueva_n_persona\n",
    "\n",
    "def generar_salida_servidor(t_global, mu):\n",
    "    t_salida = exponential(1/mu) + t_global\n",
    "    return t_salida"
   ]
  },
  {
   "cell_type": "markdown",
   "metadata": {},
   "source": [
    "#### Función de resultados del simulador:"
   ]
  },
  {
   "cell_type": "code",
   "execution_count": 336,
   "metadata": {},
   "outputs": [],
   "source": [
    "## Función para caclular el tiempo medio que un producto pasa en la fila:\n",
    "def calcular_q_media(estado_fila_array, t_array):\n",
    "    tiempo_total = t_array[-1]\n",
    "    t_entre_eventos = np.diff(np.insert(t_array, 0, 0)).transpose()\n",
    "    \n",
    "    return np.dot(estado_fila_array, t_entre_eventos) / tiempo_total\n",
    "\n",
    "def calculo_metricas(tabla_eventos, t_array, estado_fila, estado_sistema):\n",
    "    # Cálculo de Wq y Ws:\n",
    "    ws_acum = 0\n",
    "    wq_acum = 0\n",
    "\n",
    "    for key, value in tabla_eventos.items():\n",
    "        # los ws y wq los vamos a calcular con las diferencias entre el tiempo en sistema y el tiempo en fila de c/persona.\n",
    "        if 'salida_servidor' in value:\n",
    "            ws_acum += value['salida_servidor'] - value['nueva_persona']\n",
    "\n",
    "        if 'salida_fila' in value:\n",
    "            wq_acum += value['salida_fila'] - value['nueva_persona']\n",
    "\n",
    "    wq = wq_acum / (key + 1)\n",
    "    ws = ws_acum / (key + 1)\n",
    "\n",
    "    # Cálculo de Lq y Ls:\n",
    "    ## Calculamos lq y ls:\n",
    "    lq = calcular_q_media(estado_fila, t_array)\n",
    "    ls = calcular_q_media(estado_sistema, t_array)\n",
    "\n",
    "    # Cantidad de personas que salieron del sistema:\n",
    "    q_personas = sorted(tabla_eventos.keys())[-1]\n",
    "    \n",
    "    return wq, ws, lq, ls, q_personas"
   ]
  },
  {
   "cell_type": "markdown",
   "metadata": {},
   "source": [
    "#### Estructura del simulador:\n",
    "Escribimos la estructura del simulador a través de un while loop. Esta vez el simulador será una función ya que lo usaremos bajo el método de Monte Carlo."
   ]
  },
  {
   "cell_type": "code",
   "execution_count": 337,
   "metadata": {},
   "outputs": [],
   "source": [
    "def simulador(t_corte, n_servidores, lambd, mu):\n",
    "    \n",
    "    # Inicialización de fila simulador:\n",
    "    fila_simulador = []\n",
    "    def ingresar_a_fila_simulador(t, tipo_evento, n_persona, n_servidor):\n",
    "        heapq.heappush(fila_simulador, (t, tipo_evento, n_persona, n_servidor))\n",
    "    \n",
    "    def recuperar_de_fila_simulador():\n",
    "        return heapq.heappop(fila_simulador)\n",
    "    \n",
    "    # Inicialización de fila caso:\n",
    "    fila = []\n",
    "    def entrada_fila(n_persona):\n",
    "        heapq.heappush(fila, n_persona)\n",
    "    \n",
    "    def salida_fila():\n",
    "        return heapq.heappop(fila)\n",
    "    \n",
    "    # Lambda y Mu variables:\n",
    "    def calculate_mu(mu, length_fila):\n",
    "#         return mu*(1 - logistic.cdf(length_fila, 9, 4))\n",
    "        return mu\n",
    "\n",
    "    def calculate_lambd(lambd, length_fila):\n",
    "#         return lambd*(1 - logistic.cdf(length_fila, 9, 4))\n",
    "        return lambd\n",
    "\n",
    "    # Inicialización de variables:\n",
    "    t_array = []\n",
    "    tabla_eventos = {}\n",
    "    estado_fila = []\n",
    "    estado_sistema = []\n",
    "    gen_codigo_personas = iter(range(0, 20000))\n",
    "    t_global = 0 # Tiempo actual de simulación.\n",
    "    n_persona = 0 # Número de producto en el tiempo actual de simulación.\n",
    "    estado_servidores = np.array([True]*n_servidores) # Estado libre de cada máquina: True (libre), False (en uso)\n",
    "    \n",
    "    ################## SIMULADOR #############################\n",
    "    # Inicio\n",
    "    t_llegada, n_nueva_persona = generar_llegada(t_global, gen_codigo_personas, calculate_lambd(lambd, len(fila)))\n",
    "    ingresar_a_fila_simulador(t_llegada, 'nueva_persona', n_nueva_persona, None)\n",
    "    \n",
    "    while True:\n",
    "        # Sacar evento de la fila de eventos:\n",
    "        nuevo_evento = recuperar_de_fila_simulador()\n",
    "        t_global = nuevo_evento[0]\n",
    "        if t_global > t_corte:\n",
    "            break\n",
    "        tipo_evento = nuevo_evento[1]\n",
    "        n_persona = nuevo_evento[2]\n",
    "        n_servidor = nuevo_evento[3]\n",
    "        \n",
    "        # Agregar eventos a la tabla de seguimiento:\n",
    "        evento_a_tabla = {tipo_evento: t_global}\n",
    "        if n_persona in tabla_eventos:\n",
    "            tabla_eventos[n_persona].update(evento_a_tabla)\n",
    "        else:        \n",
    "            tabla_eventos.update({n_persona: evento_a_tabla})\n",
    "\n",
    "       ################ EVENTO: llegada de una persona ################\n",
    "        if tipo_evento == 'nueva_persona':\n",
    "            servidores_libres = np.argwhere(estado_servidores)\n",
    "            if servidores_libres.size != 0:\n",
    "                # Se elige el primer servidor libre:\n",
    "                index_servidor = servidores_libres[0][0]\n",
    "                estado_servidores[index_servidor] = False\n",
    "                t_salida = generar_salida_servidor(t_global, calculate_mu(mu, len(fila)))\n",
    "                ingresar_a_fila_simulador(t_salida, 'salida_servidor', n_persona, index_servidor)\n",
    "            else:\n",
    "                entrada_fila(n_persona)\n",
    "\n",
    "            t_llegada, n_nueva_persona = generar_llegada(t_global, gen_codigo_personas, calculate_lambd(lambd, len(fila)))\n",
    "            ingresar_a_fila_simulador(t_llegada, 'nueva_persona', n_nueva_persona, None)\n",
    "\n",
    "        ################ EVENTO: salida de servidor ################\n",
    "        if tipo_evento == 'salida_servidor':\n",
    "            # ingresar nueva persona:\n",
    "            if len(fila) > 0:\n",
    "                n_persona = salida_fila()\n",
    "                t_salida = generar_salida_servidor(t_global, calculate_mu(mu, len(fila)))\n",
    "                ingresar_a_fila_simulador(t_salida, 'salida_servidor', n_persona, n_servidor)\n",
    "\n",
    "                # Agregamos un evento virtual para registrar la salida de la fila.\n",
    "                # Este evento no forma parte de los eventos del simulador.  \n",
    "                evento_a_tabla = {'salida_fila': t_global}\n",
    "                tabla_eventos[n_persona].update(evento_a_tabla)\n",
    "            else:\n",
    "                estado_servidores[n_servidor] = True\n",
    "\n",
    "        ####### Recolectar datos ##########\n",
    "        t_array.append(t_global)\n",
    "        \n",
    "        q_fila = len(fila)\n",
    "        estado_fila.append(q_fila)\n",
    "        \n",
    "        q_sistema = q_fila + np.sum(~estado_servidores)\n",
    "        estado_sistema.append(q_sistema)\n",
    "        \n",
    "    ###### Cálculo de resultados ##########\n",
    "    return calculo_metricas(tabla_eventos, t_array, estado_fila, estado_sistema)"
   ]
  },
  {
   "cell_type": "markdown",
   "metadata": {},
   "source": [
    "### Método de Monte Carlo aplicado a filas de espera:"
   ]
  },
  {
   "cell_type": "markdown",
   "metadata": {},
   "source": [
    "Iteramos n veces y luego sacamos la media de las métricas Wq, Ws, Lq y Ls."
   ]
  },
  {
   "cell_type": "code",
   "execution_count": 338,
   "metadata": {
    "scrolled": false
   },
   "outputs": [
    {
     "name": "stdout",
     "output_type": "stream",
     "text": [
      "######## Resultados ##############\n",
      "## Monte Carlo ##\n",
      "Iteraciones de Monte Carlo: 10 \n",
      "Tiempo de cálculo: 1.02\n",
      "\n",
      "## Filas de espera ##\n",
      "Cantidad de servidores: 1 \n",
      "Tiempo medio en fila: 0.26 \n",
      "Tiempo medio en sistema: 0.35 \n",
      "Largo medio de la fila: 2.39 \n",
      "Cantidad media de personas en sistema: 3.28 \n",
      "Personas salidas del sistema en simulación: 2165\n"
     ]
    }
   ],
   "source": [
    "# Parámetros:\n",
    "iteraciones = 10\n",
    "\n",
    "n_servidores = 1\n",
    "t_corte = 240\n",
    "lambd = n_servidores*9\n",
    "mu = 12\n",
    "\n",
    "# Inicialización:\n",
    "wq_array = []\n",
    "ws_array = []\n",
    "lq_array = []\n",
    "ls_array = []\n",
    "q_personas_array = []\n",
    "\n",
    "t_inicio = time() # guardamos tiempo inicial \n",
    "\n",
    "# Iteramos:\n",
    "for i in range(0, iteraciones):\n",
    "    # Ejecutar simulador:\n",
    "    wq_i, ws_i, lq_i, ls_i, q_personas_i = simulador(t_corte, n_servidores, lambd, mu)\n",
    "    \n",
    "    # Agregar resultados a array:\n",
    "    wq_array.append(wq_i)\n",
    "    ws_array.append(ws_i)\n",
    "    lq_array.append(lq_i)\n",
    "    ls_array.append(ls_i)\n",
    "    q_personas_array.append(q_personas_i)\n",
    "\n",
    "t_fin = time() # guardamos tiempo final\n",
    "    \n",
    "wq = np.mean(wq_array)\n",
    "ws = np.mean(ws_array)\n",
    "lq = np.mean(lq_array)\n",
    "ls = np.mean(ls_array)\n",
    "q_personas = np.mean(q_personas_array)\n",
    "\n",
    "# Resultados:\n",
    "print('######## Resultados ##############')\n",
    "print('## Monte Carlo ##')\n",
    "print('Iteraciones de Monte Carlo: %i' % iteraciones, \n",
    "      '\\nTiempo de cálculo: %0.2f' % (t_fin - t_inicio))\n",
    "print('\\n## Filas de espera ##')\n",
    "print('Cantidad de servidores: %s' % n_servidores, \n",
    "      '\\nTiempo medio en fila: %0.2f' % wq, \n",
    "      '\\nTiempo medio en sistema: %0.2f' % ws, \n",
    "      '\\nLargo medio de la fila: %0.2f' % lq, \n",
    "      '\\nCantidad media de personas en sistema: %0.2f' % ls, \n",
    "      '\\nPersonas salidas del sistema en simulación: %i' % q_personas)"
   ]
  }
 ],
 "metadata": {
  "kernelspec": {
   "display_name": "Python 3",
   "language": "python",
   "name": "python3"
  },
  "language_info": {
   "codemirror_mode": {
    "name": "ipython",
    "version": 3
   },
   "file_extension": ".py",
   "mimetype": "text/x-python",
   "name": "python",
   "nbconvert_exporter": "python",
   "pygments_lexer": "ipython3",
   "version": "3.8.5"
  },
  "toc": {
   "base_numbering": 1,
   "nav_menu": {},
   "number_sections": true,
   "sideBar": true,
   "skip_h1_title": true,
   "title_cell": "Table of Contents",
   "title_sidebar": "Contents",
   "toc_cell": true,
   "toc_position": {},
   "toc_section_display": true,
   "toc_window_display": true
  },
  "varInspector": {
   "cols": {
    "lenName": 16,
    "lenType": 16,
    "lenVar": 40
   },
   "kernels_config": {
    "python": {
     "delete_cmd_postfix": "",
     "delete_cmd_prefix": "del ",
     "library": "var_list.py",
     "varRefreshCmd": "print(var_dic_list())"
    },
    "r": {
     "delete_cmd_postfix": ") ",
     "delete_cmd_prefix": "rm(",
     "library": "var_list.r",
     "varRefreshCmd": "cat(var_dic_list()) "
    }
   },
   "types_to_exclude": [
    "module",
    "function",
    "builtin_function_or_method",
    "instance",
    "_Feature"
   ],
   "window_display": false
  }
 },
 "nbformat": 4,
 "nbformat_minor": 2
}
