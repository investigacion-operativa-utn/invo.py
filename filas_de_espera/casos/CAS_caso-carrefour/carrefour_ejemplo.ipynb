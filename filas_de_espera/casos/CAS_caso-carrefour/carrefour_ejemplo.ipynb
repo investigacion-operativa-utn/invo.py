{
 "cells": [
  {
   "cell_type": "markdown",
   "metadata": {},
   "source": [
    "---\n",
    "__Universidad Tecnológica Nacional, Buenos Aires__\\\n",
    "__Ingeniería Industrial__\\\n",
    "__Cátedra de Investigación Operativa__\\\n",
    "__Autor: Rodrigo Maranzana__, Rmaranzana@frba.utn.edu.ar\n",
    "\n",
    "---"
   ]
  },
  {
   "cell_type": "markdown",
   "metadata": {},
   "source": [
    "# Ejercicio filas de espera Carrefour"
   ]
  },
  {
   "cell_type": "markdown",
   "metadata": {
    "toc": true
   },
   "source": [
    "<h1>Table of Contents<span class=\"tocSkip\"></span></h1>\n",
    "<div class=\"toc\"><ul class=\"toc-item\"><li><span><a href=\"#Funciones-para-métricas-de-M/M/1-y-M/M/s:\" data-toc-modified-id=\"Funciones-para-métricas-de-M/M/1-y-M/M/s:-1\"><span class=\"toc-item-num\">1&nbsp;&nbsp;</span>Funciones para métricas de M/M/1 y M/M/s:</a></span></li><li><span><a href=\"#Caso-ejemplo\" data-toc-modified-id=\"Caso-ejemplo-2\"><span class=\"toc-item-num\">2&nbsp;&nbsp;</span>Caso ejemplo</a></span></li></ul></div>"
   ]
  },
  {
   "cell_type": "code",
   "execution_count": 1,
   "metadata": {},
   "outputs": [],
   "source": [
    "from math import factorial\n",
    "import matplotlib.pyplot as plt\n",
    "plt.rcParams.update({'font.size': 15})\n",
    "import pylab as pl\n",
    "import pandas as pd"
   ]
  },
  {
   "cell_type": "markdown",
   "metadata": {},
   "source": [
    "### Funciones para métricas de M/M/1 y M/M/s:"
   ]
  },
  {
   "cell_type": "markdown",
   "metadata": {},
   "source": [
    "Se escriben las funciones directo de las ecuaciones de Ws, Wq, Ls y Lq."
   ]
  },
  {
   "cell_type": "code",
   "execution_count": 2,
   "metadata": {},
   "outputs": [],
   "source": [
    "from abc import ABCMeta, abstractmethod\n",
    " \n",
    "class AbstractFila(metaclass=ABCMeta):\n",
    "    \n",
    "    @abstractmethod\n",
    "    def calcular_rho(self):\n",
    "        raise NotImplementedError(\"Método no implementado\")\n",
    "    \n",
    "    ## Cantidad media de personas en la fila:\n",
    "    @abstractmethod\n",
    "    def calcular_lq(self):\n",
    "        raise NotImplementedError(\"Método no implementado\")\n",
    "    \n",
    "    ## Tiempo medio de espera en la fila:\n",
    "    @abstractmethod\n",
    "    def calcular_wq(self):\n",
    "        raise NotImplementedError(\"Método no implementado\")\n",
    "    \n",
    "    ## Cantidad media de personas en el sistema:\n",
    "    @abstractmethod\n",
    "    def calcular_ls(self):\n",
    "        raise NotImplementedError(\"Método no implementado\")\n",
    "    \n",
    "    ## Tiempo medio en el sistema:\n",
    "    @abstractmethod\n",
    "    def calcular_ws(self):\n",
    "        raise NotImplementedError(\"Método no implementado\")"
   ]
  },
  {
   "cell_type": "code",
   "execution_count": 3,
   "metadata": {},
   "outputs": [],
   "source": [
    "# Clase para fila M/M/1\n",
    "\n",
    "class FilaMM1(AbstractFila):\n",
    "    \n",
    "    def __init__(self, mu, lambd, s=1):\n",
    "        \"\"\"\n",
    "        Parámetro s disponible para s x M/M/1\n",
    "        \"\"\"\n",
    "        self.lambd = lambd\n",
    "        self.mu = mu\n",
    "        self.s = s\n",
    "        self.rho = self.calcular_rho()\n",
    "        \n",
    "    def calcular_rho(self):\n",
    "        assert self.lambd < self.mu, \"No se cumple el régimen permanente\"\n",
    "        \n",
    "        return self.lambd / self.mu\n",
    "    \n",
    "    ## Cantidad media de personas en la fila:\n",
    "    def calcular_lq(self):\n",
    "        return self.lambd * self.calcular_wq()\n",
    "    \n",
    "    ## Tiempo medio de espera en la fila:\n",
    "    def calcular_wq(self):\n",
    "        return self.lambd / (self.mu*(self.mu - self.lambd))\n",
    "    \n",
    "    ## Cantidad media de personas en el sistema:\n",
    "    def calcular_ls(self):\n",
    "        return self.calcular_lq() + self.rho\n",
    "    \n",
    "    ## Tiempo medio en el sistema:\n",
    "    def calcular_ws(self):\n",
    "        return self.calcular_wq() + 1 / self.mu\n",
    "    \n",
    "    def __repr__(self):\n",
    "        return f\"FilaMM1@{id(self)}\"\n",
    "    "
   ]
  },
  {
   "cell_type": "code",
   "execution_count": 4,
   "metadata": {},
   "outputs": [],
   "source": [
    "class FilaMMS(AbstractFila):\n",
    "    \n",
    "    def __init__(self, mu, lambd, s):\n",
    "        self.lambd = lambd\n",
    "        self.mu = mu\n",
    "        self.s = s\n",
    "        self.rho = self.calcular_rho()\n",
    "    \n",
    "    def calcular_rho(self):\n",
    "        assert self.lambd < (self.s * self.mu), \"No se cumple el régimen permanente\"\n",
    "        \n",
    "        return self.lambd / (self.s * self.mu)\n",
    "        \n",
    "    def calcular_p0(self):\n",
    "        return 1 / ( sum([((self.lambd/self.mu)**i)/factorial(i) for i in range(0, self.s)]) + \\\n",
    "                   ((self.lambd/self.mu)**self.s) / (factorial(self.s) * (1 - self.rho)))\n",
    "\n",
    "    # Cantidad media de personas en la fila:\n",
    "    def calcular_lq(self):\n",
    "        return (((self.lambd/self.mu)**self.s) * self.rho * self.calcular_p0()) / \\\n",
    "                (factorial(self.s) * ((1 - self.rho)**2))\n",
    "  \n",
    "    ## Tiempo medio de espera en la fila:\n",
    "    def calcular_wq(self):\n",
    "        return self.calcular_lq() / self.lambd\n",
    "    \n",
    "    ## Cantidad media de personas en el sistema:\n",
    "    def calcular_ls(self):\n",
    "        return self.calcular_lq() + (self.lambd / self.mu)\n",
    "    \n",
    "    ## Tiempo medio en el sistema:\n",
    "    def calcular_ws(self):\n",
    "        return self.calcular_wq() + 1 / self.mu\n",
    "    \n",
    "    def __repr__(self):\n",
    "        return f\"FilaMMS@{id(self)}\"\n",
    "    "
   ]
  },
  {
   "cell_type": "code",
   "execution_count": 5,
   "metadata": {},
   "outputs": [],
   "source": [
    "# costos\n",
    "\n",
    "def costo_oportunidad(lam, ws, e):\n",
    "    return lam * ws * e\n",
    "\n",
    "def costo_operativo(s, cm, ci, ca):\n",
    "    return s * (cm + ci) + ca"
   ]
  },
  {
   "cell_type": "markdown",
   "metadata": {},
   "source": [
    "### Caso ejemplo"
   ]
  },
  {
   "cell_type": "code",
   "execution_count": 6,
   "metadata": {},
   "outputs": [
    {
     "data": {
      "text/plain": [
       "{'control': FilaMM1@2416671673600,\n",
       " 'alt1_s21': FilaMM1@2416671673408,\n",
       " 'alt1_s22': FilaMM1@2416671672688,\n",
       " 'alt1_s23': FilaMM1@2416671673696,\n",
       " 'alt1_s24': FilaMM1@2416671674176,\n",
       " 'alt1_s25': FilaMM1@2416671671632,\n",
       " 'alt2': FilaMMS@2416671671104}"
      ]
     },
     "execution_count": 6,
     "metadata": {},
     "output_type": "execute_result"
    }
   ],
   "source": [
    "sistemas = {}\n",
    "\n",
    "# Sistema Control\n",
    "\n",
    "sistemas.update({\"control\": FilaMM1(mu=24.21, lambd=435.02/20, s=20)})\n",
    "\n",
    "# Sistema Alternativa #1\n",
    "\n",
    "for s_i in range(21,25 + 1):\n",
    "    sistemas.update({f\"alt1_s{s_i}\": FilaMM1(mu=24.21, lambd=435.02/s_i, s=s_i)})\n",
    "    \n",
    "# Sistema Alternativa #2\n",
    "\n",
    "sistemas.update({\"alt2\": FilaMMS(mu=24.21, lambd=435.02, s=20)})\n",
    "\n",
    "# Printeamos el diccionario:\n",
    "sistemas"
   ]
  },
  {
   "cell_type": "code",
   "execution_count": 7,
   "metadata": {},
   "outputs": [],
   "source": [
    "# Input de costos\n",
    "costos = {\"control\": {\"cm\": 294.89, \"ca\":   0.00, \"ci\": 0.00, \"e\": 38},\n",
    "          \"alt2\":    {\"cm\": 322.23, \"ca\": 892.22, \"ci\": 1.75, \"e\": 38}}\n",
    "\n",
    "for s_i in range(21, 25 + 1):\n",
    "    costos.update({f\"alt1_s{s_i}\": {\"cm\": 294.89, \"ca\":   0.00, \"ci\": 8.30, \"e\": 38}})"
   ]
  },
  {
   "cell_type": "code",
   "execution_count": 8,
   "metadata": {},
   "outputs": [
    {
     "name": "stdout",
     "output_type": "stream",
     "text": [
      "20\n"
     ]
    },
    {
     "data": {
      "text/plain": [
       "20"
      ]
     },
     "execution_count": 8,
     "metadata": {},
     "output_type": "execute_result"
    }
   ],
   "source": [
    "print(sistemas[\"control\"].s)\n",
    "sistemas[\"alt2\"].s"
   ]
  },
  {
   "cell_type": "code",
   "execution_count": 9,
   "metadata": {},
   "outputs": [
    {
     "data": {
      "text/html": [
       "<div>\n",
       "<style scoped>\n",
       "    .dataframe tbody tr th:only-of-type {\n",
       "        vertical-align: middle;\n",
       "    }\n",
       "\n",
       "    .dataframe tbody tr th {\n",
       "        vertical-align: top;\n",
       "    }\n",
       "\n",
       "    .dataframe thead th {\n",
       "        text-align: right;\n",
       "    }\n",
       "</style>\n",
       "<table border=\"1\" class=\"dataframe\">\n",
       "  <thead>\n",
       "    <tr style=\"text-align: right;\">\n",
       "      <th></th>\n",
       "      <th>servers</th>\n",
       "      <th>rho</th>\n",
       "      <th>wq</th>\n",
       "      <th>lq</th>\n",
       "      <th>ws</th>\n",
       "      <th>ls</th>\n",
       "      <th>clientes</th>\n",
       "      <th>copo</th>\n",
       "      <th>cope</th>\n",
       "      <th>ctot</th>\n",
       "    </tr>\n",
       "    <tr>\n",
       "      <th>sistema</th>\n",
       "      <th></th>\n",
       "      <th></th>\n",
       "      <th></th>\n",
       "      <th></th>\n",
       "      <th></th>\n",
       "      <th></th>\n",
       "      <th></th>\n",
       "      <th></th>\n",
       "      <th></th>\n",
       "      <th></th>\n",
       "    </tr>\n",
       "  </thead>\n",
       "  <tbody>\n",
       "    <tr>\n",
       "      <th>control</th>\n",
       "      <td>20</td>\n",
       "      <td>0.898</td>\n",
       "      <td>0.365</td>\n",
       "      <td>158.941</td>\n",
       "      <td>0.407</td>\n",
       "      <td>176.909</td>\n",
       "      <td>17.969</td>\n",
       "      <td>6722.554</td>\n",
       "      <td>5897.80</td>\n",
       "      <td>12620.354</td>\n",
       "    </tr>\n",
       "    <tr>\n",
       "      <th>alt1_s21</th>\n",
       "      <td>21</td>\n",
       "      <td>0.856</td>\n",
       "      <td>0.245</td>\n",
       "      <td>106.509</td>\n",
       "      <td>0.286</td>\n",
       "      <td>124.478</td>\n",
       "      <td>17.969</td>\n",
       "      <td>4730.153</td>\n",
       "      <td>6366.99</td>\n",
       "      <td>11097.143</td>\n",
       "    </tr>\n",
       "    <tr>\n",
       "      <th>alt1_s22</th>\n",
       "      <td>22</td>\n",
       "      <td>0.817</td>\n",
       "      <td>0.184</td>\n",
       "      <td>80.089</td>\n",
       "      <td>0.225</td>\n",
       "      <td>98.058</td>\n",
       "      <td>17.969</td>\n",
       "      <td>3726.196</td>\n",
       "      <td>6670.18</td>\n",
       "      <td>10396.376</td>\n",
       "    </tr>\n",
       "    <tr>\n",
       "      <th>alt1_s23</th>\n",
       "      <td>23</td>\n",
       "      <td>0.781</td>\n",
       "      <td>0.148</td>\n",
       "      <td>64.171</td>\n",
       "      <td>0.189</td>\n",
       "      <td>82.140</td>\n",
       "      <td>17.969</td>\n",
       "      <td>3121.316</td>\n",
       "      <td>6973.37</td>\n",
       "      <td>10094.686</td>\n",
       "    </tr>\n",
       "    <tr>\n",
       "      <th>alt1_s24</th>\n",
       "      <td>24</td>\n",
       "      <td>0.749</td>\n",
       "      <td>0.123</td>\n",
       "      <td>53.532</td>\n",
       "      <td>0.164</td>\n",
       "      <td>71.500</td>\n",
       "      <td>17.969</td>\n",
       "      <td>2717.013</td>\n",
       "      <td>7276.56</td>\n",
       "      <td>9993.573</td>\n",
       "    </tr>\n",
       "    <tr>\n",
       "      <th>alt1_s25</th>\n",
       "      <td>25</td>\n",
       "      <td>0.719</td>\n",
       "      <td>0.106</td>\n",
       "      <td>45.918</td>\n",
       "      <td>0.147</td>\n",
       "      <td>63.887</td>\n",
       "      <td>17.969</td>\n",
       "      <td>2427.710</td>\n",
       "      <td>7579.75</td>\n",
       "      <td>10007.460</td>\n",
       "    </tr>\n",
       "    <tr>\n",
       "      <th>alt2</th>\n",
       "      <td>20</td>\n",
       "      <td>0.898</td>\n",
       "      <td>0.011</td>\n",
       "      <td>4.821</td>\n",
       "      <td>0.052</td>\n",
       "      <td>22.789</td>\n",
       "      <td>17.969</td>\n",
       "      <td>865.991</td>\n",
       "      <td>7371.82</td>\n",
       "      <td>8237.811</td>\n",
       "    </tr>\n",
       "  </tbody>\n",
       "</table>\n",
       "</div>"
      ],
      "text/plain": [
       "          servers    rho     wq       lq     ws       ls  clientes      copo  \\\n",
       "sistema                                                                        \n",
       "control        20  0.898  0.365  158.941  0.407  176.909    17.969  6722.554   \n",
       "alt1_s21       21  0.856  0.245  106.509  0.286  124.478    17.969  4730.153   \n",
       "alt1_s22       22  0.817  0.184   80.089  0.225   98.058    17.969  3726.196   \n",
       "alt1_s23       23  0.781  0.148   64.171  0.189   82.140    17.969  3121.316   \n",
       "alt1_s24       24  0.749  0.123   53.532  0.164   71.500    17.969  2717.013   \n",
       "alt1_s25       25  0.719  0.106   45.918  0.147   63.887    17.969  2427.710   \n",
       "alt2           20  0.898  0.011    4.821  0.052   22.789    17.969   865.991   \n",
       "\n",
       "             cope       ctot  \n",
       "sistema                       \n",
       "control   5897.80  12620.354  \n",
       "alt1_s21  6366.99  11097.143  \n",
       "alt1_s22  6670.18  10396.376  \n",
       "alt1_s23  6973.37  10094.686  \n",
       "alt1_s24  7276.56   9993.573  \n",
       "alt1_s25  7579.75  10007.460  \n",
       "alt2      7371.82   8237.811  "
      ]
     },
     "execution_count": 9,
     "metadata": {},
     "output_type": "execute_result"
    }
   ],
   "source": [
    "sist_name = []\n",
    "servers = []\n",
    "rho = []\n",
    "wq = []\n",
    "lq = []\n",
    "ws = []\n",
    "ls = []\n",
    "cl_en_sist = []\n",
    "copo = []\n",
    "cope = []\n",
    "ctot = []\n",
    "\n",
    "for key, value in sistemas.items():\n",
    "\n",
    "    sist_name.append(key)\n",
    "    servers.append(value.s)\n",
    "    rho.append(value.rho)\n",
    "    wq.append(value.calcular_wq())\n",
    "    ws.append(value.calcular_ws()) \n",
    "\n",
    "    cope_v = costo_operativo(value.s, costos[key][\"cm\"], costos[key][\"ci\"], costos[key][\"ca\"])\n",
    "    \n",
    "    if \"alt2\" in key:\n",
    "        lq.append(value.calcular_lq())\n",
    "        ls.append(value.calcular_ls())\n",
    "        cl_en_sist.append(value.calcular_ls() - value.calcular_lq())\n",
    "        copo_v = costo_oportunidad(value.lambd, value.calcular_ws(), costos[key][\"e\"])\n",
    "    else:\n",
    "        lq.append(value.calcular_lq() * value.s)\n",
    "        ls.append(value.calcular_ls() * value.s)\n",
    "        cl_en_sist.append((value.calcular_ls() - value.calcular_lq()) * value.s) \n",
    "        copo_v = value.s * costo_oportunidad(value.lambd, value.calcular_ws(), costos[key][\"e\"])\n",
    "        \n",
    "    copo.append(copo_v)\n",
    "    cope.append(cope_v)\n",
    "    ctot.append(copo_v + cope_v)\n",
    "    \n",
    "    \n",
    "    \n",
    "result_df = pd.DataFrame({\"sistema\": sist_name,\n",
    "                          \"servers\": servers,\n",
    "                          \"rho\": rho,\n",
    "                          \"wq\": wq,\n",
    "                          \"lq\": lq,\n",
    "                          \"ws\": ws,\n",
    "                          \"ls\": ls,\n",
    "                          \"clientes\": cl_en_sist,\n",
    "                          \"copo\": copo,\n",
    "                          \"cope\": cope,\n",
    "                          \"ctot\": ctot})\n",
    "\n",
    "result_df.set_index(\"sistema\", inplace=True)\n",
    "\n",
    "result_df = result_df.round(3) \n",
    "\n",
    "result_df"
   ]
  },
  {
   "cell_type": "code",
   "execution_count": 10,
   "metadata": {},
   "outputs": [
    {
     "data": {
      "image/png": "[encoded data removed]",
      "text/plain": [
       "<Figure size 1600x800 with 5 Axes>"
      ]
     },
     "metadata": {},
     "output_type": "display_data"
    }
   ],
   "source": [
    "# Resultados para parámetros de filas:\n",
    "plt.figure(num=None, figsize=(20, 10), dpi=80, facecolor='w', edgecolor='k')\n",
    "\n",
    "for key, idx in zip([\"lq\", \"ls\"], [231, 232]):\n",
    "    plt.subplot(idx)\n",
    "    plt.title(key)\n",
    "    plt.ylabel('clientes')\n",
    "    plt.xticks(rotation=30)\n",
    "    plt.bar(result_df.index, result_df[key].values, color=['r','b','g','k','c', 'y', 'm'])\n",
    "    plt.ylim(0, max(result_df[key].values) + 10)\n",
    "    \n",
    "# Rho\n",
    "plt.subplot(233)\n",
    "plt.title(\"rho\")\n",
    "plt.xticks(rotation=30)\n",
    "plt.bar(result_df.index, result_df[\"rho\"].values, color=['r','b','g','k','c', 'y', 'm'])\n",
    "\n",
    "# Tiempo de espera\n",
    "for key, idx in zip([\"wq\", \"ws\"], [234, 235]):\n",
    "    plt.subplot(idx)\n",
    "    plt.title(key)\n",
    "    plt.ylabel('horas')\n",
    "    plt.xticks(rotation=30)\n",
    "    plt.bar(result_df.index, result_df[key].values, color=['r','b','g','k','c', 'y', 'm'])\n",
    "    plt.ylim(0, 0.5)\n",
    "    \n",
    "plt.tight_layout()\n",
    "plt.show()\n",
    "    \n"
   ]
  },
  {
   "cell_type": "code",
   "execution_count": 11,
   "metadata": {},
   "outputs": [
    {
     "data": {
      "image/png": "[encoded data removed]",
      "text/plain": [
       "<Figure size 1600x640 with 3 Axes>"
      ]
     },
     "metadata": {},
     "output_type": "display_data"
    }
   ],
   "source": [
    "# Resultados para costos:\n",
    "\n",
    "plt.figure(num=None, figsize=(20, 8), dpi=80, facecolor='w', edgecolor='k')\n",
    "\n",
    "for key, idx in zip([\"copo\", \"cope\", \"ctot\"], list(range(131, 134))):\n",
    "\n",
    "    plt.subplot(idx)\n",
    "    plt.title(key)\n",
    "    plt.xticks(rotation=30)\n",
    "    plt.bar(result_df.index, result_df[key].values, color=['r','b','g','k','c', 'y', 'm'])\n",
    "    plt.ylim(0, 13000)\n",
    "    plt.ylabel('$')\n",
    "\n",
    "plt.tight_layout()\n",
    "\n",
    "plt.show()"
   ]
  },
  {
   "cell_type": "markdown",
   "metadata": {},
   "source": [
    "A continuación variamos el parámetro de llegadas para encontrar el impacto en cada métrica de los dos sistemas de filas. Particularmente queremos ver en para qué lambda es mejor un sistema sobre otro."
   ]
  },
  {
   "cell_type": "code",
   "execution_count": null,
   "metadata": {},
   "outputs": [],
   "source": []
  },
  {
   "cell_type": "code",
   "execution_count": null,
   "metadata": {},
   "outputs": [],
   "source": []
  },
  {
   "cell_type": "code",
   "execution_count": null,
   "metadata": {},
   "outputs": [],
   "source": []
  }
 ],
 "metadata": {
  "kernelspec": {
   "display_name": "Python 3",
   "language": "python",
   "name": "python3"
  },
  "language_info": {
   "codemirror_mode": {
    "name": "ipython",
    "version": 3
   },
   "file_extension": ".py",
   "mimetype": "text/x-python",
   "name": "python",
   "nbconvert_exporter": "python",
   "pygments_lexer": "ipython3",
   "version": "3.8.13"
  },
  "toc": {
   "base_numbering": 1,
   "nav_menu": {},
   "number_sections": true,
   "sideBar": true,
   "skip_h1_title": true,
   "title_cell": "Table of Contents",
   "title_sidebar": "Contents",
   "toc_cell": true,
   "toc_position": {},
   "toc_section_display": true,
   "toc_window_display": false
  },
  "varInspector": {
   "cols": {
    "lenName": 16,
    "lenType": 16,
    "lenVar": 40
   },
   "kernels_config": {
    "python": {
     "delete_cmd_postfix": "",
     "delete_cmd_prefix": "del ",
     "library": "var_list.py",
     "varRefreshCmd": "print(var_dic_list())"
    },
    "r": {
     "delete_cmd_postfix": ") ",
     "delete_cmd_prefix": "rm(",
     "library": "var_list.r",
     "varRefreshCmd": "cat(var_dic_list()) "
    }
   },
   "types_to_exclude": [
    "module",
    "function",
    "builtin_function_or_method",
    "instance",
    "_Feature"
   ],
   "window_display": false
  }
 },
 "nbformat": 4,
 "nbformat_minor": 2
}
