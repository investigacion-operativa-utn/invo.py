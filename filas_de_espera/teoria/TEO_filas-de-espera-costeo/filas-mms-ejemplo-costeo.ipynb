{
 "cells": [
  {
   "cell_type": "markdown",
   "id": "740a7182",
   "metadata": {},
   "source": [
    "---\n",
    "__Universidad Tecnológica Nacional, Buenos Aires__\\\n",
    "__Ingeniería Industrial__\\\n",
    "__Investigación Operativa I4051__\\\n",
    "__Autor: Rodrigo Maranzana__, Rmaranzana@frba.utn.edu.ar\n",
    "\n",
    "---"
   ]
  },
  {
   "cell_type": "markdown",
   "id": "d85b31ff",
   "metadata": {},
   "source": [
    "# Filas de espera M/M/S"
   ]
  },
  {
   "cell_type": "code",
   "execution_count": 62,
   "id": "e4132106",
   "metadata": {},
   "outputs": [],
   "source": [
    "from math import factorial\n",
    "import matplotlib.pyplot as plt\n",
    "import numpy as np\n",
    "from scipy.interpolate import CubicSpline"
   ]
  },
  {
   "cell_type": "markdown",
   "id": "7bf4f469",
   "metadata": {},
   "source": [
    "## Funciones de métricas"
   ]
  },
  {
   "cell_type": "markdown",
   "id": "0dd53432",
   "metadata": {},
   "source": [
    "### Factor de tráfico ($\\rho$)\n",
    "\n",
    "$\\rho = \\frac{\\lambda}{S*\\mu}$"
   ]
  },
  {
   "cell_type": "code",
   "execution_count": 2,
   "id": "c7d0225b",
   "metadata": {},
   "outputs": [],
   "source": [
    "# Factor de tráfico.\n",
    "def calcular_rho(lambd, mu, s):\n",
    "    \n",
    "    return lambd / (s * mu)"
   ]
  },
  {
   "cell_type": "markdown",
   "id": "277fac43",
   "metadata": {},
   "source": [
    "### Probabilidad de sistema ocioso ($P_0$)\n",
    "\n",
    "$P_0 = \\frac{1}{\\sum_{i=0}^{M-1} \\frac{\\frac{\\lambda}{\\mu}^i}{i!} + \\frac{\\frac{\\lambda}{\\mu}^M}{M!(1-\\rho)}} $"
   ]
  },
  {
   "cell_type": "code",
   "execution_count": 3,
   "id": "220ea634",
   "metadata": {},
   "outputs": [],
   "source": [
    "# Probabilidad de sistema ocioso.\n",
    "def calcular_p0(lambd, mu, s):\n",
    "    \n",
    "    # Calculamos a sumatoria del numerador como la suma de un array.\n",
    "    array = [((lambd/mu)**i)/factorial(i) for i in range(0, s-1)]\n",
    "    sumatoria = sum(array)\n",
    "    \n",
    "    # Calculamos factor de tráfico.\n",
    "    rho = calcular_rho(lambd, mu, s)\n",
    "    \n",
    "    # Calculamos p0.\n",
    "    p0 = 1 / ( sumatoria + (lambd/mu)**s / (factorial(s) * (1 - rho)))\n",
    "    \n",
    "    # Retornamos p0.\n",
    "    return p0"
   ]
  },
  {
   "cell_type": "markdown",
   "id": "e82fb0b4",
   "metadata": {},
   "source": [
    "### Cantidad media de personas en la fila ($L_q$)\n",
    "\n",
    "$L_q = \\frac{P_0(\\frac{\\lambda}{\\mu}^m)\\rho}{M!(1-\\rho)^2}$"
   ]
  },
  {
   "cell_type": "code",
   "execution_count": 4,
   "id": "21134515",
   "metadata": {},
   "outputs": [],
   "source": [
    "# Cantidad media de personas en la fila:\n",
    "def calcular_lq(lambd, mu, s):\n",
    "    \n",
    "    # Calculamos p0.\n",
    "    p0 = calcular_p0(lambd, mu, s)\n",
    "    \n",
    "    # Calculamos rho.\n",
    "    rho = calcular_rho(lambd, mu, s)\n",
    "    \n",
    "    # Calculamos Lq.\n",
    "    Lq = ((lambd/mu)**s) * rho * p0 / (factorial(s) * ((1 - rho))**2)\n",
    "    \n",
    "    # Retornamos Lq.\n",
    "    return Lq"
   ]
  },
  {
   "cell_type": "markdown",
   "id": "0ab710ac",
   "metadata": {},
   "source": [
    "### Tiempo de espera medio en la fila ($W_q$)\n",
    "\n",
    "$W_q = \\frac{L_q}{\\lambda}$"
   ]
  },
  {
   "cell_type": "code",
   "execution_count": 5,
   "id": "8aabc612",
   "metadata": {},
   "outputs": [],
   "source": [
    "## Tiempo medio de espera en la fila:\n",
    "def calcular_wq(lambd, mu, s):\n",
    "    \n",
    "    # Calculamos Lq.\n",
    "    Lq = calcular_lq(lambd, mu, s)\n",
    "    \n",
    "    # Calculamos wq\n",
    "    Wq = Lq / lambd\n",
    "    \n",
    "    return Wq"
   ]
  },
  {
   "cell_type": "markdown",
   "id": "7aecb183",
   "metadata": {},
   "source": [
    "### Cantidad media de personas en el sistema ($W_s$)\n",
    "\n",
    "$W_s = L_q + \\frac{\\lambda}{\\mu}$"
   ]
  },
  {
   "cell_type": "code",
   "execution_count": 6,
   "id": "dac4660b",
   "metadata": {},
   "outputs": [],
   "source": [
    "## Cantidad media de personas en el sistema:\n",
    "def calcular_ls(lambd, mu, s):\n",
    "    \n",
    "    # Calculamos Lq.\n",
    "    Lq = calcular_lq(lambd, mu, s)\n",
    "    \n",
    "    # Calculamos Ls.\n",
    "    Ls = Lq + (lambd / mu)\n",
    "    \n",
    "    # Retornamos Ls.\n",
    "    return Ls"
   ]
  },
  {
   "cell_type": "markdown",
   "id": "db10b1eb",
   "metadata": {},
   "source": [
    "### Cantidad de tiempo medio en el sistema ($W_s$)\n",
    "\n",
    "$W_s = W_q + \\frac{1}{\\mu}$"
   ]
  },
  {
   "cell_type": "code",
   "execution_count": 7,
   "id": "f6c25b9c",
   "metadata": {},
   "outputs": [],
   "source": [
    "## Tiempo medio en el sistema:\n",
    "def calcular_ws(lambd, mu, s):\n",
    "    \n",
    "    # Calculamos Wq.\n",
    "    Wq = calcular_wq(lambd, mu, s)\n",
    "    \n",
    "    # Calculamos Ws.\n",
    "    Ws = Wq + 1 / mu\n",
    "    \n",
    "    # Retornamos Ws.\n",
    "    return Ws"
   ]
  },
  {
   "cell_type": "markdown",
   "id": "6ddaed59",
   "metadata": {},
   "source": [
    "## Funciones de costos\n",
    "### Costo de oportunidad ($C_O$)\n",
    "$C_O = W_s * \\lambda * e$"
   ]
  },
  {
   "cell_type": "code",
   "execution_count": 18,
   "id": "6a7e65af",
   "metadata": {},
   "outputs": [],
   "source": [
    "def calcular_costo_oportunidad(lambd, e, s):\n",
    "    \n",
    "    # Calculamos Ws.\n",
    "    Ws = calcular_ws(lambd, mu, s)\n",
    "    \n",
    "    # Calculamos costo de oportunidad.\n",
    "    Co = Ws * lambd * e\n",
    "    \n",
    "    # Retornamos costo de oportunidad.\n",
    "    return Co"
   ]
  },
  {
   "cell_type": "markdown",
   "id": "6a773e74",
   "metadata": {},
   "source": [
    "### Costo de operacion ($C_E$)\n",
    "$C_E = M * C_m$"
   ]
  },
  {
   "cell_type": "code",
   "execution_count": 21,
   "id": "7877f828",
   "metadata": {},
   "outputs": [],
   "source": [
    "def calcular_costo_operacion(s, Cm):\n",
    "\n",
    "    # Calculamos costo de operación.\n",
    "    Ce = s * Cm\n",
    "    \n",
    "    # Retornamos costo de operación.\n",
    "    return Ce"
   ]
  },
  {
   "attachments": {},
   "cell_type": "markdown",
   "id": "8fde86ea",
   "metadata": {},
   "source": [
    "## Ejemplo:\n",
    "\n",
    "Una línea automatizada tiene tres tornos CNC idénticos.\n",
    "La materia forma una única fila de espera al pie de las 3 máquinas esperando ser procesada.\n",
    "Las cantidades que arriban y se procesan siguen una distribución de Poisson.\n",
    "Además se sabe que la tasa de procesamiento de los tornos es de 𝜇=6 u/hora, y la materia prima llega con una tasa de 𝜆=16 𝑢/ℎ𝑜𝑟𝑎.\n",
    "\n",
    "Si la ganancia por unidad despachada es de 1100 usd y costo de operación de cada CNC es de 300 usd ¿Es necesario invertir en más CNC o vender alguno?"
   ]
  },
  {
   "cell_type": "code",
   "execution_count": 22,
   "id": "cd4b9dd4",
   "metadata": {},
   "outputs": [],
   "source": [
    "# Datos:\n",
    "lambd = 16\n",
    "mu = 6\n",
    "\n",
    "e = 1100\n",
    "Cm = 300"
   ]
  },
  {
   "cell_type": "code",
   "execution_count": 30,
   "id": "67f35e1a",
   "metadata": {},
   "outputs": [
    {
     "name": "stdout",
     "output_type": "stream",
     "text": [
      "[1, 2, 3, 4, 5, 6, 7]\n"
     ]
    }
   ],
   "source": [
    "servidores = range(1, 8)\n",
    "print(list(servidores))"
   ]
  },
  {
   "cell_type": "code",
   "execution_count": 31,
   "id": "d16b11e3",
   "metadata": {},
   "outputs": [
    {
     "name": "stdout",
     "output_type": "stream",
     "text": [
      "1 CNC\n",
      "Factor de tráfico: 2.6666666666666665\n",
      "Sistema inestable\n",
      "\n",
      "2 CNC\n",
      "Factor de tráfico: 1.3333333333333333\n",
      "Sistema inestable\n",
      "\n",
      "3 CNC\n",
      "Factor de tráfico: 0.8888888888888888\n",
      "Tiempo en el sistema: 0.6095732410611301\n",
      "Costo de oportunidad: 10728.48904267589\n",
      "Costo de operación: 900\n",
      "Costo total: 11628.48904267589\n",
      "\n",
      "4 CNC\n",
      "Factor de tráfico: 0.6666666666666666\n",
      "Tiempo en el sistema: 0.22500759647523547\n",
      "Costo de oportunidad: 3960.133697964144\n",
      "Costo de operación: 1200\n",
      "Costo total: 5160.133697964144\n",
      "\n",
      "5 CNC\n",
      "Factor de tráfico: 0.5333333333333333\n",
      "Tiempo en el sistema: 0.18011389875617478\n",
      "Costo de oportunidad: 3170.0046181086764\n",
      "Costo de operación: 1500\n",
      "Costo total: 4670.004618108676\n",
      "\n",
      "6 CNC\n",
      "Factor de tráfico: 0.4444444444444444\n",
      "Tiempo en el sistema: 0.17002391988273655\n",
      "Costo de oportunidad: 2992.420989936163\n",
      "Costo de operación: 1800\n",
      "Costo total: 4792.420989936163\n",
      "\n",
      "7 CNC\n",
      "Factor de tráfico: 0.38095238095238093\n",
      "Tiempo en el sistema: 0.16751582632499548\n",
      "Costo de oportunidad: 2948.2785433199206\n",
      "Costo de operación: 2100\n",
      "Costo total: 5048.278543319921\n",
      "\n"
     ]
    }
   ],
   "source": [
    "for i in servidores:\n",
    "    \n",
    "    print(f'{i} CNC')\n",
    "    \n",
    "    # Factor de tráfico.\n",
    "    rho = calcular_rho(lambd, mu, i)\n",
    "    \n",
    "    print(f'Factor de tráfico: {rho}')\n",
    "    \n",
    "    if rho > 1:\n",
    "        print('Sistema inestable\\n')\n",
    "    \n",
    "    else:\n",
    "        # Tiempo en el sistema.\n",
    "        Ws = calcular_ws(lambd, mu, i)\n",
    "\n",
    "        # Costo de oportunidad.\n",
    "        Co = calcular_costo_oportunidad(lambd, e, i)\n",
    "\n",
    "        # Costo de operación.\n",
    "        Ce = calcular_costo_operacion(i, Cm)\n",
    "        \n",
    "        print(f'Tiempo en el sistema: {Ws}')\n",
    "        print(f'Costo de oportunidad: {Co}')\n",
    "        print(f'Costo de operación: {Ce}')\n",
    "        print(f'Costo total: {Co + Ce}\\n')"
   ]
  },
  {
   "cell_type": "markdown",
   "id": "40e73d75",
   "metadata": {},
   "source": [
    "## Plots"
   ]
  },
  {
   "cell_type": "code",
   "execution_count": 74,
   "id": "59593131",
   "metadata": {},
   "outputs": [
    {
     "data": {
      "image/png": "[encoded data removed]",
      "text/plain": [
       "<Figure size 864x504 with 1 Axes>"
      ]
     },
     "metadata": {
      "needs_background": "light"
     },
     "output_type": "display_data"
    }
   ],
   "source": [
    "## Costo de oportunidad.\n",
    "Co = [calcular_costo_oportunidad(lambd, e, i) for i in servidores[2:]]\n",
    "\n",
    "## Costo de operación.\n",
    "Ce = [calcular_costo_operacion(i, Cm) for i in servidores[2:]]\n",
    "\n",
    "## Costo total.\n",
    "Ct = [Ce_i + Co_i for Ce_i, Co_i in zip(Ce, Co)]\n",
    "\n",
    "## Plot\n",
    "plt.subplots(figsize=(12, 7))\n",
    "plt.scatter(servidores[2:], Co, color='r', label='Costo de oportunidad')\n",
    "plt.plot(servidores[2:], Ce, color='b', label='Costo de operacion')\n",
    "plt.scatter(servidores[2:], Ct, color='g', label='Costo total')\n",
    "plt.xticks(range(3, 8, 1))\n",
    "\n",
    "plt.xlabel('Servidores (M)')\n",
    "plt.ylabel('Costo')\n",
    "plt.title('Costo de fila de espera CNC')\n",
    "plt.legend()\n",
    "plt.show()"
   ]
  },
  {
   "cell_type": "code",
   "execution_count": 58,
   "id": "7d26fa4e",
   "metadata": {},
   "outputs": [
    {
     "data": {
      "text/plain": [
       "[3, 4, 5, 6, 7]"
      ]
     },
     "execution_count": 58,
     "metadata": {},
     "output_type": "execute_result"
    }
   ],
   "source": []
  }
 ],
 "metadata": {
  "kernelspec": {
   "display_name": "Python 3",
   "language": "python",
   "name": "python3"
  },
  "language_info": {
   "codemirror_mode": {
    "name": "ipython",
    "version": 3
   },
   "file_extension": ".py",
   "mimetype": "text/x-python",
   "name": "python",
   "nbconvert_exporter": "python",
   "pygments_lexer": "ipython3",
   "version": "3.8.13"
  }
 },
 "nbformat": 4,
 "nbformat_minor": 5
}
