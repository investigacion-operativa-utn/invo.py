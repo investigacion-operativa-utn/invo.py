{
 "cells": [
  {
   "cell_type": "markdown",
   "id": "740a7182",
   "metadata": {},
   "source": [
    "---\n",
    "__Universidad Tecnológica Nacional, Buenos Aires__\\\n",
    "__Ingeniería Industrial__\\\n",
    "__Investigación Operativa I4051__\\\n",
    "__Autor: Rodrigo Maranzana__, Rmaranzana@frba.utn.edu.ar\n",
    "\n",
    "---"
   ]
  },
  {
   "cell_type": "markdown",
   "id": "d85b31ff",
   "metadata": {},
   "source": [
    "# Filas de espera M/M/S"
   ]
  },
  {
   "cell_type": "code",
   "execution_count": 5,
   "id": "e4132106",
   "metadata": {},
   "outputs": [],
   "source": [
    "from math import factorial"
   ]
  },
  {
   "cell_type": "markdown",
   "id": "7bf4f469",
   "metadata": {},
   "source": [
    "## Funciones de métricas"
   ]
  },
  {
   "cell_type": "markdown",
   "id": "0dd53432",
   "metadata": {},
   "source": [
    "### Factor de tráfico ($\\rho$)\n",
    "\n",
    "$\\rho = \\frac{\\lambda}{S*\\mu}$"
   ]
  },
  {
   "cell_type": "code",
   "execution_count": 6,
   "id": "c7d0225b",
   "metadata": {},
   "outputs": [],
   "source": [
    "# Factor de tráfico.\n",
    "def calcular_rho(lambd, mu, s):\n",
    "    \n",
    "    return lambd / (s * mu)"
   ]
  },
  {
   "cell_type": "markdown",
   "id": "277fac43",
   "metadata": {},
   "source": [
    "### Probabilidad de sistema ocioso ($P_0$)\n",
    "\n",
    "$P_0 = \\frac{1}{\\sum_{i=0}^{M-1} \\frac{\\frac{\\lambda}{\\mu}^i}{i!} + \\frac{\\frac{\\lambda}{\\mu}^M}{M!(1-\\rho)}} $"
   ]
  },
  {
   "cell_type": "code",
   "execution_count": 7,
   "id": "220ea634",
   "metadata": {},
   "outputs": [],
   "source": [
    "# Probabilidad de sistema ocioso.\n",
    "def calcular_p0(lambd, mu, s):\n",
    "    \n",
    "    # Calculamos a sumatoria del numerador como la suma de un array.\n",
    "    array = [((lambd/mu)**i)/factorial(i) for i in range(0, s-1)]\n",
    "    sumatoria = sum(array)\n",
    "    \n",
    "    # Calculamos factor de tráfico.\n",
    "    rho = calcular_rho(lambd, mu, s)\n",
    "    \n",
    "    # Calculamos p0.\n",
    "    p0 = 1 / ( sumatoria + (lambd/mu)**s / (factorial(s) * (1 - rho)))\n",
    "    \n",
    "    # Retornamos p0.\n",
    "    return p0"
   ]
  },
  {
   "cell_type": "markdown",
   "id": "e82fb0b4",
   "metadata": {},
   "source": [
    "### Cantidad media de personas en la fila ($L_q$)\n",
    "\n",
    "$L_q = \\frac{P_0(\\frac{\\lambda}{\\mu}^m)\\rho}{M!(1-\\rho)^2}$"
   ]
  },
  {
   "cell_type": "code",
   "execution_count": 8,
   "id": "21134515",
   "metadata": {},
   "outputs": [],
   "source": [
    "# Cantidad media de personas en la fila:\n",
    "def calcular_lq(lambd, mu, s):\n",
    "    \n",
    "    # Calculamos p0.\n",
    "    p0 = calcular_p0(lambd, mu, s)\n",
    "    \n",
    "    # Calculamos rho.\n",
    "    rho = calcular_rho(lambd, mu, s)\n",
    "    \n",
    "    # Calculamos Lq.\n",
    "    Lq = ((lambd/mu)**s) * rho * p0 / (factorial(s) * ((1 - rho))**2)\n",
    "    \n",
    "    # Retornamos Lq.\n",
    "    return Lq"
   ]
  },
  {
   "cell_type": "markdown",
   "id": "0ab710ac",
   "metadata": {},
   "source": [
    "### Tiempo de espera medio en la fila ($W_q$)\n",
    "\n",
    "$W_q = \\frac{L_q}{\\lambda}$"
   ]
  },
  {
   "cell_type": "code",
   "execution_count": 9,
   "id": "8aabc612",
   "metadata": {},
   "outputs": [],
   "source": [
    "## Tiempo medio de espera en la fila:\n",
    "def calcular_wq(lambd, mu, s):\n",
    "    \n",
    "    # Calculamos Lq.\n",
    "    Lq = calcular_lq(lambd, mu, s)\n",
    "    \n",
    "    # Calculamos wq\n",
    "    Wq = Lq / lambd\n",
    "    \n",
    "    return Wq"
   ]
  },
  {
   "cell_type": "markdown",
   "id": "7aecb183",
   "metadata": {},
   "source": [
    "### Cantidad media de personas en el sistema ($W_s$)\n",
    "\n",
    "$W_s = L_q + \\frac{\\lambda}{\\mu}$"
   ]
  },
  {
   "cell_type": "code",
   "execution_count": 10,
   "id": "dac4660b",
   "metadata": {},
   "outputs": [],
   "source": [
    "## Cantidad media de personas en el sistema:\n",
    "def calcular_ls(lambd, mu, s):\n",
    "    \n",
    "    # Calculamos Lq.\n",
    "    Lq = calcular_lq(lambd, mu, s)\n",
    "    \n",
    "    # Calculamos Ls.\n",
    "    Ls = Lq + (lambd / mu)\n",
    "    \n",
    "    # Retornamos Ls.\n",
    "    return Ls"
   ]
  },
  {
   "cell_type": "markdown",
   "id": "db10b1eb",
   "metadata": {},
   "source": [
    "### Cantidad de tiempo medio en el sistema ($W_s$)\n",
    "\n",
    "$W_s = W_q + \\frac{1}{\\mu}$"
   ]
  },
  {
   "cell_type": "code",
   "execution_count": 11,
   "id": "f6c25b9c",
   "metadata": {},
   "outputs": [],
   "source": [
    "## Tiempo medio en el sistema:\n",
    "def calcular_ws(lambd, mu, s):\n",
    "    \n",
    "    # Calculamos Wq.\n",
    "    Wq = calcular_wq(lambd, mu, s)\n",
    "    \n",
    "    # Calculamos Ws.\n",
    "    Ws = Wq + 1 / mu\n",
    "    \n",
    "    # Retornamos Ws.\n",
    "    return Ws"
   ]
  },
  {
   "cell_type": "markdown",
   "id": "8fde86ea",
   "metadata": {},
   "source": [
    "## Ejemplo:\n",
    "\n",
    "Una línea automatizada tiene tres tornos CNC idénticos.\n",
    "La materia forma una única fila de espera al pie de las 3 máquinas esperando ser procesada.\n",
    "Las cantidades que arriban y se procesan siguen una distribución de Poisson.\n",
    "Además se sabe que la tasa de procesamiento de los tornos es de 𝜇=6 u/hora, y la materia prima llega con una tasa de 𝜆=16 𝑢/ℎ𝑜𝑟𝑎.\n",
    "\n",
    "1. ¿El sistema es estable?\n",
    "2. Largo de la fila promedio.\n",
    "3. Tiempo que una unidad pasa en el sistema."
   ]
  },
  {
   "cell_type": "code",
   "execution_count": 12,
   "id": "cd4b9dd4",
   "metadata": {},
   "outputs": [],
   "source": [
    "# Datos:\n",
    "lambd = 16\n",
    "mu = 6\n",
    "s = 3"
   ]
  },
  {
   "cell_type": "code",
   "execution_count": 14,
   "id": "67f35e1a",
   "metadata": {},
   "outputs": [
    {
     "name": "stdout",
     "output_type": "stream",
     "text": [
      "Sistema estable con rho: 0.8888888888888888\n"
     ]
    }
   ],
   "source": [
    "# Punto 1.\n",
    "\n",
    "rho = calcular_rho(lambd, mu, s)\n",
    "\n",
    "if rho < 1:\n",
    "    print(f'Sistema estable con rho: {rho}')\n",
    "else:\n",
    "    print(f'Sistema inestable con rho: {rho}')"
   ]
  },
  {
   "cell_type": "code",
   "execution_count": 26,
   "id": "d16b11e3",
   "metadata": {},
   "outputs": [
    {
     "name": "stdout",
     "output_type": "stream",
     "text": [
      "P0 es 0.02803738317757011\n",
      "El largo de la fila es de 6.380062305295946 unidades.\n"
     ]
    }
   ],
   "source": [
    "# Punto 2.\n",
    "\n",
    "p0 = calcular_p0(lambd, mu, s)\n",
    "\n",
    "print(f'P0 es {p0}')\n",
    "\n",
    "Lq = calcular_lq(lambd, mu, s)\n",
    "\n",
    "print(f'El largo de la fila es de {Lq} unidades.')"
   ]
  },
  {
   "cell_type": "code",
   "execution_count": 27,
   "id": "1e4ef5e2",
   "metadata": {},
   "outputs": [
    {
     "name": "stdout",
     "output_type": "stream",
     "text": [
      "El tiempo que una unidad pasa en el sistema es de 0.5654205607476633\n"
     ]
    }
   ],
   "source": [
    "# Punto 3.\n",
    "\n",
    "Ws = calcular_ws(lambd, mu, s)\n",
    "\n",
    "print(f'El tiempo que una unidad pasa en el sistema es de {Ws}')"
   ]
  },
  {
   "cell_type": "code",
   "execution_count": null,
   "id": "00121b45",
   "metadata": {},
   "outputs": [],
   "source": []
  }
 ],
 "metadata": {
  "kernelspec": {
   "display_name": "Python 3",
   "language": "python",
   "name": "python3"
  },
  "language_info": {
   "codemirror_mode": {
    "name": "ipython",
    "version": 3
   },
   "file_extension": ".py",
   "mimetype": "text/x-python",
   "name": "python",
   "nbconvert_exporter": "python",
   "pygments_lexer": "ipython3",
   "version": "3.8.13"
  }
 },
 "nbformat": 4,
 "nbformat_minor": 5
}
