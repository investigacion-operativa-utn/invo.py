{
 "cells": [
  {
   "cell_type": "markdown",
   "id": "d3673011",
   "metadata": {},
   "source": [
    "---\n",
    "__Universidad Tecnológica Nacional, Buenos Aires__\\\n",
    "__Ingeniería Industrial__\\\n",
    "__Investigación Operativa I4051__\\\n",
    "__Autor: Rodrigo Maranzana__, Rmaranzana@frba.utn.edu.ar\n",
    "\n",
    "---"
   ]
  },
  {
   "cell_type": "markdown",
   "id": "b3e5b147",
   "metadata": {},
   "source": [
    "# Taller de Introducción a Python"
   ]
  },
  {
   "cell_type": "markdown",
   "id": "1318be58",
   "metadata": {},
   "source": [
    "¿Por qué Python?\n",
    "\n",
    "La clave está en la interpretación y facilidad del código.\n",
    "- Es un lenguaje **interpretado**, no necesita compilación a lenguaje de máquina.\n",
    "- Es un lenguaje **dinámico** y **sin tipo**, no es necesario declarar el tipo de las variables."
   ]
  },
  {
   "cell_type": "markdown",
   "id": "4c75db33",
   "metadata": {},
   "source": [
    "## Conceptos básicos\n",
    "\n",
    "### Variables\n",
    "Variables\n",
    "- Float, Int.\n",
    "- String.\n",
    "- Bool\n",
    "- Check type."
   ]
  },
  {
   "cell_type": "code",
   "execution_count": 1,
   "id": "82ae5f54",
   "metadata": {},
   "outputs": [],
   "source": [
    "variable1 = 2.3"
   ]
  },
  {
   "cell_type": "markdown",
   "id": "89bb07f4",
   "metadata": {},
   "source": [
    "### Prints"
   ]
  },
  {
   "cell_type": "code",
   "execution_count": 2,
   "id": "1499cec6",
   "metadata": {},
   "outputs": [
    {
     "data": {
      "text/plain": [
       "2.3"
      ]
     },
     "execution_count": 2,
     "metadata": {},
     "output_type": "execute_result"
    }
   ],
   "source": [
    "variable1"
   ]
  },
  {
   "cell_type": "markdown",
   "id": "1bc6c304",
   "metadata": {},
   "source": [
    "### Operations\n",
    "- Operaciones Matemáticas.\n",
    "- Operaciones Lógicas."
   ]
  },
  {
   "cell_type": "code",
   "execution_count": 3,
   "id": "46028b3d",
   "metadata": {},
   "outputs": [],
   "source": [
    "variable2 = 2 + 3.8"
   ]
  },
  {
   "cell_type": "code",
   "execution_count": 4,
   "id": "444c558b",
   "metadata": {},
   "outputs": [
    {
     "data": {
      "text/plain": [
       "float"
      ]
     },
     "execution_count": 4,
     "metadata": {},
     "output_type": "execute_result"
    }
   ],
   "source": [
    "variable3 = 2.5 + 2.5\n",
    "\n",
    "type(variable3)"
   ]
  },
  {
   "cell_type": "markdown",
   "id": "3c44fda5",
   "metadata": {},
   "source": [
    "### Lists\n",
    "- Crear una lista.\n",
    "- Modificar un valor por índice.\n",
    "- Agregar nuevos valores.\n",
    "- Diferencias con tuplas.\n",
    "- len() command."
   ]
  },
  {
   "cell_type": "code",
   "execution_count": 5,
   "id": "30c74801",
   "metadata": {},
   "outputs": [
    {
     "data": {
      "text/plain": [
       "[5, 6, 2.3]"
      ]
     },
     "execution_count": 5,
     "metadata": {},
     "output_type": "execute_result"
    }
   ],
   "source": [
    "lista1 = [5, 'hola', 2.3]\n",
    "\n",
    "lista1[1] = 6\n",
    "\n",
    "lista1"
   ]
  },
  {
   "cell_type": "code",
   "execution_count": 6,
   "id": "1fa72d92",
   "metadata": {},
   "outputs": [],
   "source": [
    "lista1 = lista1 + [4.8]"
   ]
  },
  {
   "cell_type": "code",
   "execution_count": 7,
   "id": "cbc18690",
   "metadata": {},
   "outputs": [
    {
     "data": {
      "text/plain": [
       "[5, 6, 2.3, 4.8]"
      ]
     },
     "execution_count": 7,
     "metadata": {},
     "output_type": "execute_result"
    }
   ],
   "source": [
    "lista1"
   ]
  },
  {
   "cell_type": "code",
   "execution_count": 8,
   "id": "2930d44c",
   "metadata": {},
   "outputs": [],
   "source": [
    "lista1.append(10.4)"
   ]
  },
  {
   "cell_type": "code",
   "execution_count": 9,
   "id": "a0f11446",
   "metadata": {},
   "outputs": [
    {
     "data": {
      "text/plain": [
       "[5, 6, 2.3, 4.8, 10.4]"
      ]
     },
     "execution_count": 9,
     "metadata": {},
     "output_type": "execute_result"
    }
   ],
   "source": [
    "lista1"
   ]
  },
  {
   "cell_type": "code",
   "execution_count": 10,
   "id": "315f0a9e",
   "metadata": {},
   "outputs": [],
   "source": [
    "tupla1 = (2, 5, 7, 10.4)"
   ]
  },
  {
   "cell_type": "code",
   "execution_count": 11,
   "id": "e46f2148",
   "metadata": {},
   "outputs": [
    {
     "ename": "AttributeError",
     "evalue": "'tuple' object has no attribute 'append'",
     "output_type": "error",
     "traceback": [
      "\u001b[1;31m---------------------------------------------------------------------------\u001b[0m",
      "\u001b[1;31mAttributeError\u001b[0m                            Traceback (most recent call last)",
      "\u001b[1;32m<ipython-input-11-aff0de7f4553>\u001b[0m in \u001b[0;36m<module>\u001b[1;34m\u001b[0m\n\u001b[1;32m----> 1\u001b[1;33m \u001b[0mtupla1\u001b[0m\u001b[1;33m.\u001b[0m\u001b[0mappend\u001b[0m\u001b[1;33m(\u001b[0m\u001b[1;36m4.8\u001b[0m\u001b[1;33m)\u001b[0m\u001b[1;33m\u001b[0m\u001b[1;33m\u001b[0m\u001b[0m\n\u001b[0m",
      "\u001b[1;31mAttributeError\u001b[0m: 'tuple' object has no attribute 'append'"
     ]
    }
   ],
   "source": [
    "tupla1.append(4.8)"
   ]
  },
  {
   "cell_type": "code",
   "execution_count": 12,
   "id": "9b5ba695",
   "metadata": {},
   "outputs": [
    {
     "data": {
      "text/plain": [
       "(5.8, 3.8)"
      ]
     },
     "execution_count": 12,
     "metadata": {},
     "output_type": "execute_result"
    }
   ],
   "source": [
    "tupla2 = (variable2, 3.8)\n",
    "\n",
    "tupla2"
   ]
  },
  {
   "cell_type": "code",
   "execution_count": 13,
   "id": "c9eec0e7",
   "metadata": {},
   "outputs": [
    {
     "data": {
      "text/plain": [
       "(5.8, 3.8)"
      ]
     },
     "execution_count": 13,
     "metadata": {},
     "output_type": "execute_result"
    }
   ],
   "source": [
    "variable2 = 6\n",
    "\n",
    "tupla2"
   ]
  },
  {
   "cell_type": "code",
   "execution_count": null,
   "id": "fe8b3f22",
   "metadata": {},
   "outputs": [],
   "source": []
  },
  {
   "cell_type": "markdown",
   "id": "b4ca2f01",
   "metadata": {},
   "source": [
    "## Flow Control\n",
    "\n",
    "### Condicionales\n",
    "- if-else\n",
    "- elif\n",
    "- Nested."
   ]
  },
  {
   "cell_type": "code",
   "execution_count": 14,
   "id": "81089781",
   "metadata": {},
   "outputs": [
    {
     "data": {
      "text/plain": [
       "18"
      ]
     },
     "execution_count": 14,
     "metadata": {},
     "output_type": "execute_result"
    }
   ],
   "source": [
    "variable2 = 'producto a'\n",
    "subcategoria = 'supermercado'\n",
    "\n",
    "\n",
    "def if_categoria(subcategoria):\n",
    "    \n",
    "    if subcategoria == 'supermercado':\n",
    "        precio = 18\n",
    "    else:\n",
    "        precio = 1\n",
    "        \n",
    "    return precio\n",
    "    \n",
    "\n",
    "if variable2 == 'producto a':\n",
    "    precio = if_categoria(subcategoria)\n",
    "    \n",
    "elif variable2 == 'producto b':\n",
    "    precio = 6\n",
    "    \n",
    "elif variable2 == 'producto c':\n",
    "    precio = 10\n",
    "    \n",
    "else:\n",
    "    precio = 15\n",
    "    \n",
    "precio "
   ]
  },
  {
   "cell_type": "code",
   "execution_count": null,
   "id": "f9d81c0b",
   "metadata": {},
   "outputs": [],
   "source": []
  },
  {
   "cell_type": "markdown",
   "id": "0f798eb6",
   "metadata": {},
   "source": [
    "### For loop\n",
    "- Iterar con range().\n",
    "- Operar con iterables directamente.\n",
    "- List comprehension."
   ]
  },
  {
   "cell_type": "code",
   "execution_count": 15,
   "id": "cc54450d",
   "metadata": {},
   "outputs": [
    {
     "name": "stdout",
     "output_type": "stream",
     "text": [
      "5\n",
      "6\n",
      "7\n",
      "8\n",
      "9\n",
      "10\n",
      "11\n",
      "12\n",
      "13\n",
      "14\n",
      "15\n",
      "16\n",
      "17\n",
      "18\n",
      "19\n"
     ]
    }
   ],
   "source": [
    "lista4 = [0, 4, 8, 23]\n",
    "\n",
    "for i in range(5, 20):\n",
    "    print(i)"
   ]
  },
  {
   "cell_type": "code",
   "execution_count": 16,
   "id": "0f752ac1",
   "metadata": {},
   "outputs": [
    {
     "name": "stdout",
     "output_type": "stream",
     "text": [
      "5\n",
      "6\n",
      "7\n",
      "8\n",
      "9\n",
      "10\n",
      "11\n",
      "12\n",
      "13\n",
      "14\n",
      "15\n",
      "16\n",
      "17\n",
      "18\n",
      "19\n"
     ]
    },
    {
     "data": {
      "text/plain": [
       "[None,\n",
       " None,\n",
       " None,\n",
       " None,\n",
       " None,\n",
       " None,\n",
       " None,\n",
       " None,\n",
       " None,\n",
       " None,\n",
       " None,\n",
       " None,\n",
       " None,\n",
       " None,\n",
       " None]"
      ]
     },
     "execution_count": 16,
     "metadata": {},
     "output_type": "execute_result"
    }
   ],
   "source": [
    "[print(i) for i in range(5, 20)]"
   ]
  },
  {
   "cell_type": "markdown",
   "id": "176ac2cc",
   "metadata": {},
   "source": [
    "### While loop\n",
    "- counter."
   ]
  },
  {
   "cell_type": "code",
   "execution_count": 17,
   "id": "bc83e20d",
   "metadata": {},
   "outputs": [
    {
     "name": "stdout",
     "output_type": "stream",
     "text": [
      "hola\n",
      "hola\n",
      "hola\n",
      "hola\n",
      "hola\n",
      "hola\n",
      "hola\n",
      "hola\n",
      "hola\n",
      "hola\n"
     ]
    }
   ],
   "source": [
    "j = 0\n",
    "\n",
    "while j != 10:\n",
    "    \n",
    "    print('hola')\n",
    "    \n",
    "    j = j + 1"
   ]
  },
  {
   "cell_type": "markdown",
   "id": "9f7e31e0",
   "metadata": {},
   "source": [
    "## Functions\n",
    "- Funciones básicas.\n",
    "- Múltiples inputs.\n",
    "- Múltiples outputs."
   ]
  },
  {
   "cell_type": "code",
   "execution_count": 18,
   "id": "e8b73459",
   "metadata": {},
   "outputs": [],
   "source": [
    "def funcion1(input1, input2):\n",
    "    \n",
    "    resultado = input1 + input2\n",
    "    \n",
    "    return resultado, input1\n",
    "    \n",
    "resultado1, resultado2 = funcion1(2.8, 5.3)"
   ]
  },
  {
   "cell_type": "code",
   "execution_count": 19,
   "id": "9892d89e",
   "metadata": {},
   "outputs": [
    {
     "name": "stdout",
     "output_type": "stream",
     "text": [
      "8.1 2.8\n"
     ]
    }
   ],
   "source": [
    "print(resultado1, resultado2)"
   ]
  },
  {
   "cell_type": "markdown",
   "id": "d81fc383",
   "metadata": {},
   "source": [
    "## Python libraries\n",
    "\n",
    "### Numpy\n",
    "- Numpy array.\n",
    "- Sum list vs. sum np.array.\n",
    "- Matrix, modify values.\n",
    "- Iterate matrices.\n",
    "- shape command.\n",
    "- Matrix operations.\n",
    "- linspace command."
   ]
  },
  {
   "cell_type": "code",
   "execution_count": 20,
   "id": "2da77999",
   "metadata": {},
   "outputs": [
    {
     "data": {
      "text/plain": [
       "array([ 3,  7, 13])"
      ]
     },
     "execution_count": 20,
     "metadata": {},
     "output_type": "execute_result"
    }
   ],
   "source": [
    "import numpy as np\n",
    "\n",
    "lista5 = np.array([2, 3, 8])\n",
    "lista6 = np.array([1, 4, 5])\n",
    "\n",
    "lista5 + lista6"
   ]
  },
  {
   "cell_type": "markdown",
   "id": "35651ceb",
   "metadata": {},
   "source": [
    "### Matplotlib.\n",
    "- plot.\n",
    "- scatter."
   ]
  },
  {
   "cell_type": "code",
   "execution_count": 21,
   "id": "e655ff24",
   "metadata": {},
   "outputs": [
    {
     "data": {
      "text/plain": [
       "[<matplotlib.lines.Line2D at 0x1a37ffd8a30>]"
      ]
     },
     "execution_count": 21,
     "metadata": {},
     "output_type": "execute_result"
    },
    {
     "data": {
      "image/png": "[encoded data removed]",
      "text/plain": [
       "<Figure size 432x288 with 1 Axes>"
      ]
     },
     "metadata": {
      "needs_background": "light"
     },
     "output_type": "display_data"
    }
   ],
   "source": [
    "import matplotlib.pyplot as plt\n",
    "\n",
    "plt.plot([0, 1, 2, 3], [2.8, 3.4, 10.5, 6.1])"
   ]
  },
  {
   "cell_type": "code",
   "execution_count": null,
   "id": "261a616c",
   "metadata": {},
   "outputs": [],
   "source": []
  }
 ],
 "metadata": {
  "kernelspec": {
   "display_name": "Python 3",
   "language": "python",
   "name": "python3"
  },
  "language_info": {
   "codemirror_mode": {
    "name": "ipython",
    "version": 3
   },
   "file_extension": ".py",
   "mimetype": "text/x-python",
   "name": "python",
   "nbconvert_exporter": "python",
   "pygments_lexer": "ipython3",
   "version": "3.8.13"
  }
 },
 "nbformat": 4,
 "nbformat_minor": 5
}
