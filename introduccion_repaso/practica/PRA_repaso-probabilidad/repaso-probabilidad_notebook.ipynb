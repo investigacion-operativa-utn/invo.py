{
 "cells": [
  {
   "cell_type": "markdown",
   "metadata": {},
   "source": [
    "---\n",
    "__Universidad Tecnológica Nacional, Buenos Aires__\\\n",
    "__Ingeniería Industrial__\\\n",
    "__Cátedra de Investigación Operativa__\\\n",
    "__Autor: Rodrigo Maranzana__, Rmaranzana@frba.utn.edu.ar\n",
    "\n",
    "---"
   ]
  },
  {
   "cell_type": "markdown",
   "metadata": {},
   "source": [
    "# Repaso de probabilidad"
   ]
  },
  {
   "cell_type": "markdown",
   "metadata": {},
   "source": [
    "## Ejercicio distribución Normal"
   ]
  },
  {
   "cell_type": "markdown",
   "metadata": {},
   "source": [
    "<img src=\"tomates.jpg\">\n",
    "\n",
    "Una empresa comercializa tomates cherry premium. En su línea de producción automatizada, una unidad con un pistón y una cámara conectada a un modelo de visión artificial, selecciona tomates de entre 3.3 y 3.9 cm de diámetro; valor que la compañía considera aceptable para ser considerados de esa gama.\n",
    "\n",
    "Se sabe que la media de los tomates es de 3.5cm y el desvío 0.35 cm. Además, se sabe que el diámetro en cada batch es una variable aleatoria que sigue una distribución normal.\n",
    "\n",
    "Una nueva oportunidad de negocio, obliga a ingeniería a dimensionar un depósito de productos seleccionados bajo las anteriores características. \n",
    "\n",
    "Sabemos que el próximo batch de producción incluye 153000 unidades variadas, se busca saber qué cantidad de esas unidades se almacenarán como premium. En base a ese dato, se alquilará un nuevo depósito."
   ]
  },
  {
   "cell_type": "markdown",
   "metadata": {},
   "source": [
    "Importamos el método norm de la librería Scipy: https://docs.scipy.org/doc/scipy/reference/generated/scipy.stats.norm.html.\n",
    "Además la librería math."
   ]
  },
  {
   "cell_type": "code",
   "execution_count": 16,
   "metadata": {},
   "outputs": [],
   "source": [
    "from scipy.stats import norm\n",
    "import math"
   ]
  },
  {
   "cell_type": "markdown",
   "metadata": {},
   "source": [
    "Escribimos los datos:\n",
    "- tot: total de productos involucrados en el stock\n",
    "- xmin: límite mínimo\n",
    "- xmax: límite máximo\n",
    "- mean: media\n",
    "- std: distribución estándar"
   ]
  },
  {
   "cell_type": "code",
   "execution_count": 17,
   "metadata": {},
   "outputs": [],
   "source": [
    "tot = 153000\n",
    "\n",
    "xmin = 3.3\n",
    "xmax = 3.9\n",
    "mean = 3.5\n",
    "std = 0.35"
   ]
  },
  {
   "cell_type": "markdown",
   "metadata": {},
   "source": [
    "Calculamos los Z-Scores como:\n",
    "\n",
    "$Z = \\frac{X - \\bar{X}}{\\sigma}$\n",
    "\n",
    "Siendo $Z$ el Z-Score, $X$ el valor límite, $\\bar{X}$ la media y $\\sigma$ el desvío."
   ]
  },
  {
   "cell_type": "code",
   "execution_count": 18,
   "metadata": {},
   "outputs": [
    {
     "name": "stdout",
     "output_type": "stream",
     "text": [
      "zscore_min: -0.571428571428572; zscore_max: 1.1428571428571426\n"
     ]
    }
   ],
   "source": [
    "zmin = (xmin - mean) / std\n",
    "zmax = (xmax - mean) / std\n",
    "\n",
    "print(f\"zscore_min: {zmin}; zscore_max: {zmax}\")"
   ]
  },
  {
   "cell_type": "markdown",
   "metadata": {},
   "source": [
    "Usamos la *norm* de *Scipy* para calcular la probabilidad en cada límite. \n",
    "\n",
    "Este método llama a la acumulada de la función estándar, es decir $X \\sim \\mathcal{N[0, 1]}$:"
   ]
  },
  {
   "cell_type": "code",
   "execution_count": 19,
   "metadata": {},
   "outputs": [
    {
     "name": "stdout",
     "output_type": "stream",
     "text": [
      "Probabilidad min: 0.28385458309867606; Probabilidad max: 0.8734510455264421\n"
     ]
    }
   ],
   "source": [
    "pmin = norm.cdf(zmin)\n",
    "pmax = norm.cdf(zmax)\n",
    "\n",
    "print(f\"Probabilidad min: {pmin}; Probabilidad max: {pmax}\")"
   ]
  },
  {
   "cell_type": "markdown",
   "metadata": {},
   "source": [
    "Restamos ambos valores obtenidos para calcular el área bajo la curva que representa la probabilidad entre los dos valores límites."
   ]
  },
  {
   "cell_type": "code",
   "execution_count": 20,
   "metadata": {},
   "outputs": [
    {
     "name": "stdout",
     "output_type": "stream",
     "text": [
      "Probabilidad entre 3.3 y 3.9: 0.5895964624277661\n"
     ]
    }
   ],
   "source": [
    "auc = (pmax - pmin)\n",
    "\n",
    "print(f\"Probabilidad entre {xmin} y {xmax}: {auc}\")"
   ]
  },
  {
   "cell_type": "markdown",
   "metadata": {},
   "source": [
    "Multiplicamos la probabilidad obtenida por la cantidad total de producto:"
   ]
  },
  {
   "cell_type": "code",
   "execution_count": 21,
   "metadata": {},
   "outputs": [
    {
     "name": "stdout",
     "output_type": "stream",
     "text": [
      "Cantidad: 90209\n"
     ]
    }
   ],
   "source": [
    "q = math.ceil(auc * tot)\n",
    "\n",
    "print(f\"Cantidad: {q}\")"
   ]
  },
  {
   "cell_type": "markdown",
   "metadata": {},
   "source": [
    "Por lo tanto, * productos tienen que reservarse como stock de seguridad."
   ]
  },
  {
   "cell_type": "markdown",
   "metadata": {},
   "source": [
    "Gráficamente, calculamos lo siguiente:"
   ]
  },
  {
   "cell_type": "code",
   "execution_count": 22,
   "metadata": {},
   "outputs": [
    {
     "data": {
      "image/png": "[encoded data removed]",
      "text/plain": [
       "<Figure size 432x288 with 1 Axes>"
      ]
     },
     "metadata": {
      "needs_background": "light"
     },
     "output_type": "display_data"
    }
   ],
   "source": [
    "import numpy as np\n",
    "import matplotlib.pyplot as plt\n",
    "\n",
    "# PDF:\n",
    "x = np.linspace(mean-4*std, mean+4*std, 100)\n",
    "y = norm.pdf(x,mean,std)\n",
    "plt.plot(x,y, color='black')\n",
    "\n",
    "# Fill:\n",
    "ptx = np.linspace(xmin, xmax, 20)\n",
    "pty = norm.pdf(ptx,mean,std)\n",
    "plt.fill_between(ptx, pty, color='b', alpha=1.0)\n",
    "\n",
    "plt.xlim([mean-4*std, mean+4*std])\n",
    "plt.show()"
   ]
  },
  {
   "attachments": {},
   "cell_type": "markdown",
   "metadata": {},
   "source": [
    "## Ejercicio distribución de Poisson\n",
    "\n",
    "Siguiendo con el caso anterior. En mantenimiento industrial, surge la necesidad de presupuestar mensualmente los servicios de reparación correctivos del robot seleccionador.\n",
    "\n",
    "Particularmente nos interesa centrarnos en el pistón. Sabemos que el robot tiene una media de fallas graves de 1 cada 20 días por desajuste del pistón. Se trabaja 24 días al mes. La cantidad de fallas es una variable que sigue una distribución Poisson.\n",
    "\n",
    "Al ocurrir por lo menos dos fallas, el servicio de mantenimiento para la línea y hace los ajustes correspondientes.\n",
    "\n",
    "El costo de reparación es de 500 dólares."
   ]
  },
  {
   "cell_type": "markdown",
   "metadata": {},
   "source": [
    "Importamos el método poisson de la librería Scipy:\n",
    "https://docs.scipy.org/doc/scipy/reference/generated/scipy.stats.poisson.html"
   ]
  },
  {
   "cell_type": "code",
   "execution_count": 62,
   "metadata": {},
   "outputs": [],
   "source": [
    "from scipy.stats import poisson"
   ]
  },
  {
   "cell_type": "markdown",
   "metadata": {},
   "source": [
    "Datos:"
   ]
  },
  {
   "cell_type": "code",
   "execution_count": 70,
   "metadata": {},
   "outputs": [
    {
     "data": {
      "text/plain": [
       "1.2000000000000002"
      ]
     },
     "execution_count": 70,
     "metadata": {},
     "output_type": "execute_result"
    }
   ],
   "source": [
    "mu = 1/20 * 24 # 1 falla/15 días x 20 días\n",
    "\n",
    "costo = 500\n",
    "\n",
    "mu"
   ]
  },
  {
   "cell_type": "markdown",
   "metadata": {},
   "source": [
    "Dado que es Poisson es una función de probabilidad discreta, podemos calcularlo de dos formas: \n",
    "\n",
    "### 1. Partiendo de la Función de Masa de Probabilidad: "
   ]
  },
  {
   "cell_type": "code",
   "execution_count": 64,
   "metadata": {},
   "outputs": [
    {
     "name": "stdout",
     "output_type": "stream",
     "text": [
      "Probabilidad de que no ocurran eventos: 0.301194211912202,\n",
      "Probabilidad de que ocurra 1 evento: 0.36143305429464256\n"
     ]
    }
   ],
   "source": [
    "pmfx0 = poisson.pmf(0, mu)\n",
    "pmfx1 = poisson.pmf(1, mu)\n",
    "\n",
    "print(f\"Probabilidad de que no ocurran eventos: {pmfx0},\\nProbabilidad de que ocurra 1 evento: {pmfx1}\")"
   ]
  },
  {
   "cell_type": "code",
   "execution_count": 65,
   "metadata": {},
   "outputs": [
    {
     "name": "stdout",
     "output_type": "stream",
     "text": [
      "Probabilidad de tener por lo menos 2 eventos: 0.33737273379315535\n"
     ]
    }
   ],
   "source": [
    "cdfxgeq2_a = 1 - (pmfx0 + pmfx1)\n",
    "\n",
    "print(f\"Probabilidad de tener por lo menos 2 eventos: {cdfxgeq2_a}\")"
   ]
  },
  {
   "cell_type": "markdown",
   "metadata": {},
   "source": [
    "Graficamente podemos ver la función de masa de Probabilidad:"
   ]
  },
  {
   "cell_type": "code",
   "execution_count": 66,
   "metadata": {},
   "outputs": [
    {
     "data": {
      "image/png": "[encoded data removed]",
      "text/plain": [
       "<Figure size 720x360 with 1 Axes>"
      ]
     },
     "metadata": {
      "needs_background": "light"
     },
     "output_type": "display_data"
    }
   ],
   "source": [
    "fig, ax = plt.subplots(1, 1, figsize=(10,5))\n",
    "\n",
    "for x, c in zip(range(15), ['b']*2 + ['r']*13):\n",
    "    ax.plot(x, poisson.pmf(x, mu), 'bo', ms=8, label='poisson pmf', color=c)\n",
    "    ax.vlines(x, 0, poisson.pmf(x, mu), colors='k', linestyles='-', lw=1, label='frozen pmf')\n",
    "    ax.vlines(x, 0, poisson.pmf(x, mu), colors=c, lw=5, alpha=0.5)\n",
    "\n",
    "ax.set_xlabel('x')\n",
    "ax.set_ylabel('$pmf(x)$')\n",
    "\n",
    "plt.show()"
   ]
  },
  {
   "cell_type": "markdown",
   "metadata": {},
   "source": [
    "### 2. Partiendo de la Función de Distribución Acumulada:"
   ]
  },
  {
   "cell_type": "code",
   "execution_count": 67,
   "metadata": {},
   "outputs": [
    {
     "name": "stdout",
     "output_type": "stream",
     "text": [
      "Probabilidad de tener 0 o 1 eventos: 0.6626272662068446\n"
     ]
    }
   ],
   "source": [
    "cdfxleq1 = poisson.cdf(1, mu)\n",
    "\n",
    "print(f\"Probabilidad de tener 0 o 1 eventos: {cdfxleq1}\")"
   ]
  },
  {
   "cell_type": "code",
   "execution_count": 68,
   "metadata": {},
   "outputs": [
    {
     "name": "stdout",
     "output_type": "stream",
     "text": [
      "Probabilidad de tener por lo menos 2 eventos: 0.33737273379315535\n"
     ]
    }
   ],
   "source": [
    "cdfxgeq2_b = 1 - cdfxleq1\n",
    "\n",
    "print(f\"Probabilidad de tener por lo menos 2 eventos: {cdfxgeq2_b}\")"
   ]
  },
  {
   "cell_type": "markdown",
   "metadata": {},
   "source": [
    "Multiplicamos la probabilidad por el costo y obtenemos el presupuesto estimado:"
   ]
  },
  {
   "cell_type": "code",
   "execution_count": 69,
   "metadata": {},
   "outputs": [
    {
     "name": "stdout",
     "output_type": "stream",
     "text": [
      "Presupuesto de mantenimiento correctivo: 168.69 usd\n"
     ]
    }
   ],
   "source": [
    "print(f\"Presupuesto de mantenimiento correctivo: {cdfxgeq2_b * costo:.2f} usd\")"
   ]
  },
  {
   "cell_type": "code",
   "execution_count": null,
   "metadata": {},
   "outputs": [],
   "source": []
  }
 ],
 "metadata": {
  "kernelspec": {
   "display_name": "Python 3",
   "language": "python",
   "name": "python3"
  },
  "language_info": {
   "codemirror_mode": {
    "name": "ipython",
    "version": 3
   },
   "file_extension": ".py",
   "mimetype": "text/x-python",
   "name": "python",
   "nbconvert_exporter": "python",
   "pygments_lexer": "ipython3",
   "version": "3.8.5"
  }
 },
 "nbformat": 4,
 "nbformat_minor": 4
}
