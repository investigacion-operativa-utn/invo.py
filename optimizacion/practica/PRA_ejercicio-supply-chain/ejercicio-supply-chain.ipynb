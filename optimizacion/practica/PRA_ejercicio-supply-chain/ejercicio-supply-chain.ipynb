{
 "cells": [
  {
   "cell_type": "markdown",
   "id": "9c2fe73e",
   "metadata": {},
   "source": [
    "---\n",
    "__Universidad Tecnológica Nacional, Buenos Aires__\\\n",
    "__Ingeniería Industrial__\\\n",
    "__Cátedra de Investigación Operativa__\\\n",
    "__Autor: Rodrigo Maranzana__, Rmaranzana@frba.utn.edu.ar\n",
    "\n",
    "---"
   ]
  },
  {
   "cell_type": "code",
   "execution_count": 1,
   "id": "ec3a7c80",
   "metadata": {},
   "outputs": [],
   "source": [
    "import pulp"
   ]
  },
  {
   "cell_type": "code",
   "execution_count": 2,
   "id": "59440dbe",
   "metadata": {},
   "outputs": [
    {
     "name": "stdout",
     "output_type": "stream",
     "text": [
      "Optimal\n",
      "x_a1a2 = 0.00\n",
      "x_p1a1 = 0.00\n",
      "x_p1a2 = 0.00\n",
      "x_p1t1 = 160.00\n",
      "x_p1t2 = 0.00\n",
      "x_p2a1 = 200.00\n",
      "x_p2a2 = 0.00\n",
      "x_p2t1 = 20.00\n",
      "x_p2t2 = 0.00\n",
      "x_t1a1 = 0.00\n",
      "x_t1a2 = 180.00\n",
      "x_t1t2 = 0.00\n",
      "x_t2a1 = 0.00\n",
      "x_t2a2 = 0.00\n",
      "Función objetivo: 5320.0\n"
     ]
    }
   ],
   "source": [
    "lp01 = pulp.LpProblem(\"ejercicio-supply-chain\", pulp.LpMinimize)\n",
    "\n",
    "# Arcos:\n",
    "arcos = [\n",
    "    'p1t1', 'p1t2', 'p1a1', 'p1a2', 'p2t1', 'p2t2', 'p2a1', 'p2a2', \n",
    "    't1t2', 't1a1', 't1a2', 't2a1', 't2a2', 'a1a2'\n",
    "]\n",
    "\n",
    "# Variables:\n",
    "X = pulp.LpVariable.dicts('x', arcos, 0, None, cat='Continuous')\n",
    "\n",
    "# Función objetivo:\n",
    "lp01 += 12*X['p1t1'] + 22*X['p1t2'] + 65*X['p1a1'] + 31*X['p1a2'] + 8*X['p2t1'] +\\\n",
    "        22*X['p2t2'] + 30*X['p2a2'] + 4*X['t1t2'] + 20*X['t1a1'] + 18*X['t1a2'] +\\\n",
    "        15*X['t2a1'] + 20*X['t2a2'] + 14*X['a1a2'], \"Z\"\n",
    "\n",
    "# # Restricciones:\n",
    "lp01 +=  X['p1t1'] + X['p1t2'] + X['p1a1'] + X['p1a2'] == 160\n",
    "lp01 +=  X['p2t1'] + X['p2t2'] + X['p2a1'] + X['p2a2'] == 220\n",
    "lp01 +=  X['t1a1'] + X['t1a2'] + X['t1t2'] - X['p1t1'] - X['p2t1'] == 0\n",
    "lp01 +=  X['t2a1'] + X['t2a2'] - X['p1t2'] - X['p2t2'] == 0\n",
    "lp01 +=  X['a1a2'] - X['t1a1'] - X['t2a1'] - X['p1a1'] - X['p2a1'] == -200\n",
    "lp01 +=  - X['t1a2'] - X['t2a2'] - X['p1a2'] - X['p2a2'] == -180\n",
    "\n",
    "# Resolucion:\n",
    "lp01.solve()\n",
    "\n",
    "# Imprimimos el status del problema:\n",
    "print(pulp.LpStatus[lp01.status])\n",
    "\n",
    "# Imprimimos las variables en su valor óptimo:\n",
    "for variable in lp01.variables():\n",
    "    print(\"%s = %.2f\" % (variable.name, variable.varValue))\n",
    "    \n",
    "# Imprimimos el funcional óptimo:\n",
    "print(f'Función objetivo: {pulp.value(lp01.objective)}')"
   ]
  },
  {
   "cell_type": "code",
   "execution_count": null,
   "id": "7e37898e",
   "metadata": {},
   "outputs": [],
   "source": []
  }
 ],
 "metadata": {
  "kernelspec": {
   "display_name": "Python 3",
   "language": "python",
   "name": "python3"
  },
  "language_info": {
   "codemirror_mode": {
    "name": "ipython",
    "version": 3
   },
   "file_extension": ".py",
   "mimetype": "text/x-python",
   "name": "python",
   "nbconvert_exporter": "python",
   "pygments_lexer": "ipython3",
   "version": "3.8.13"
  }
 },
 "nbformat": 4,
 "nbformat_minor": 5
}
