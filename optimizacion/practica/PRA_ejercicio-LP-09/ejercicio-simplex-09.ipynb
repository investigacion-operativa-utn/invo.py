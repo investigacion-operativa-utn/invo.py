{
 "cells": [
  {
   "cell_type": "markdown",
   "metadata": {},
   "source": [
    "---\n",
    "__Universidad Tecnológica Nacional, Buenos Aires__\\\n",
    "__Ingeniería Industrial__\\\n",
    "__Cátedra de Investigación Operativa__\\\n",
    "__Autor: Rodrigo Maranzana__, Rmaranzana@frba.utn.edu.ar\n",
    "\n",
    "---"
   ]
  },
  {
   "cell_type": "code",
   "execution_count": 3,
   "metadata": {},
   "outputs": [
    {
     "name": "stdout",
     "output_type": "stream",
     "text": [
      "Optimal\n",
      "x = 0.00\n",
      "y = 4000.00\n",
      "3200.0\n"
     ]
    }
   ],
   "source": [
    "import pulp\n",
    "\n",
    "lp = pulp.LpProblem(\"ejercicio-09\", pulp.LpMaximize)\n",
    "\n",
    "# Variables:\n",
    "x = pulp.LpVariable('x', lowBound=0, cat='Continuous')\n",
    "y = pulp.LpVariable('y', lowBound=0, cat='Continuous')\n",
    "\n",
    "# Función objetivo:\n",
    "lp += 0.3*x + 0.8*y, \"Z\"\n",
    "\n",
    "# Restricciones\n",
    "lp += 0.1*x <= 200\n",
    "lp += 0.113398*y <= 800\n",
    "lp += 2*x + 3*y <= 12000\n",
    "\n",
    "# Resolvemos:\n",
    "lp.solve()\n",
    "\n",
    "# Imprimimos el status del problema:\n",
    "print(pulp.LpStatus[lp.status])\n",
    "\n",
    "# Imprimimos las variables en su valor óptimo:\n",
    "for variable in lp.variables():\n",
    "    print(f\"{variable.name:s} = {variable.varValue:.2f}\")\n",
    "\n",
    "# Imprimimos el funcional óptimo:\n",
    "print(pulp.value(lp.objective))"
   ]
  },
  {
   "cell_type": "code",
   "execution_count": null,
   "metadata": {},
   "outputs": [],
   "source": []
  }
 ],
 "metadata": {
  "kernelspec": {
   "display_name": "Python 3",
   "language": "python",
   "name": "python3"
  },
  "language_info": {
   "codemirror_mode": {
    "name": "ipython",
    "version": 3
   },
   "file_extension": ".py",
   "mimetype": "text/x-python",
   "name": "python",
   "nbconvert_exporter": "python",
   "pygments_lexer": "ipython3",
   "version": "3.8.13"
  },
  "toc": {
   "base_numbering": 1,
   "nav_menu": {},
   "number_sections": true,
   "sideBar": true,
   "skip_h1_title": false,
   "title_cell": "Table of Contents",
   "title_sidebar": "Contents",
   "toc_cell": false,
   "toc_position": {},
   "toc_section_display": true,
   "toc_window_display": false
  },
  "varInspector": {
   "cols": {
    "lenName": 16,
    "lenType": 16,
    "lenVar": 40
   },
   "kernels_config": {
    "python": {
     "delete_cmd_postfix": "",
     "delete_cmd_prefix": "del ",
     "library": "var_list.py",
     "varRefreshCmd": "print(var_dic_list())"
    },
    "r": {
     "delete_cmd_postfix": ") ",
     "delete_cmd_prefix": "rm(",
     "library": "var_list.r",
     "varRefreshCmd": "cat(var_dic_list()) "
    }
   },
   "types_to_exclude": [
    "module",
    "function",
    "builtin_function_or_method",
    "instance",
    "_Feature"
   ],
   "window_display": false
  }
 },
 "nbformat": 4,
 "nbformat_minor": 2
}
