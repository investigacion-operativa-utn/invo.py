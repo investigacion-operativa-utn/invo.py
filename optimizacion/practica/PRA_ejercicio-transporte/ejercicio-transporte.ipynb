{
 "cells": [
  {
   "cell_type": "markdown",
   "metadata": {},
   "source": [
    "---\n",
    "__Universidad Tecnológica Nacional, Buenos Aires__\\\n",
    "__Ingeniería Industrial__\\\n",
    "__Cátedra de Investigación Operativa__\\\n",
    "__Autor: Rodrigo Maranzana__, Rmaranzana@frba.utn.edu.ar\n",
    "\n",
    "---"
   ]
  },
  {
   "cell_type": "markdown",
   "metadata": {},
   "source": [
    "# Ejemplo de Transporte con Programación Matemática\n",
    "Se busca transportar por arcos que unen nodos proveedores con nodos clientes, una cantidad determinada de un solo producto. La oferta y demanda de los clientes está balanceada."
   ]
  },
  {
   "cell_type": "code",
   "execution_count": 1,
   "metadata": {},
   "outputs": [],
   "source": [
    "import numpy as np\n",
    "from scipy.optimize import linprog"
   ]
  },
  {
   "cell_type": "markdown",
   "metadata": {},
   "source": [
    "## Datos del ejemplo\n",
    "El ejemplo está representado por:\n",
    "- Una matriz Nodo-Arco.\n",
    "- Un vector de pesos o costos de los arcos.\n",
    "- Un vector de oferta y demanda.\n",
    "- Cotas"
   ]
  },
  {
   "cell_type": "code",
   "execution_count": 2,
   "metadata": {},
   "outputs": [
    {
     "name": "stdout",
     "output_type": "stream",
     "text": [
      "Matriz Nodo-Arco \n",
      " [[ 1  1  1  1  0  0  0  0  0  0  0  0]\n",
      " [ 0  0  0  0  1  1  1  1  0  0  0  0]\n",
      " [ 0  0  0  0  0  0  0  0  1  1  1  1]\n",
      " [-1  0  0  0 -1  0  0  0 -1  0  0  0]\n",
      " [ 0 -1  0  0  0 -1  0  0  0 -1  0  0]\n",
      " [ 0  0 -1  0  0  0 -1  0  0  0 -1  0]\n",
      " [ 0  0  0 -1  0  0  0 -1  0  0  0 -1]] \n",
      "\n",
      "Costos \n",
      " [434 523 640 850 323 480 670 770 997 680 390 590] \n",
      "\n",
      "Oferta/Demanda \n",
      " [ 75 100 125 -80 -70 -70 -80] \n",
      "\n",
      "Cotas \n",
      " ((0, None), (0, None), (0, None), (0, None), (0, None), (0, None), (0, None), (0, None), (0, None), (0, None), (0, None), (0, None)) \n",
      "\n"
     ]
    }
   ],
   "source": [
    "# Matriz nodo-arco:\n",
    "Aeq = np.array([[ 1, 1, 1, 1, 0, 0, 0, 0, 0, 0, 0, 0],\n",
    "                [ 0, 0, 0, 0, 1, 1, 1, 1, 0, 0, 0, 0],\n",
    "                [ 0, 0, 0, 0, 0, 0, 0, 0, 1, 1, 1, 1],\n",
    "                [-1, 0, 0, 0,-1, 0, 0, 0,-1, 0, 0, 0],\n",
    "                [ 0,-1, 0, 0, 0,-1, 0, 0, 0,-1, 0, 0],\n",
    "                [ 0, 0,-1, 0, 0, 0,-1, 0, 0, 0,-1, 0],\n",
    "                [ 0, 0, 0,-1, 0, 0, 0,-1, 0, 0, 0,-1]])\n",
    "\n",
    "# Vector de costos por arco:\n",
    "C = np.array([434, 523, 640, 850, 323, 480, 670, 770, 997, 680, 390, 590])\n",
    "\n",
    "# Vector de oferta y demanda:\n",
    "beq = np.array([75, 100, 125, -80, -70, -70, -80])\n",
    "\n",
    "# Cotas:\n",
    "bounds = tuple([(0, None) for arcs in range(0, C.shape[0])])\n",
    "\n",
    "# Imprimimos:\n",
    "print('Matriz Nodo-Arco \\n', Aeq,'\\n')\n",
    "print('Costos \\n', C,'\\n')\n",
    "print('Oferta/Demanda \\n', beq,'\\n')\n",
    "print('Cotas \\n', bounds,'\\n')"
   ]
  },
  {
   "cell_type": "markdown",
   "metadata": {},
   "source": [
    "## Optimizamos con scipy"
   ]
  },
  {
   "cell_type": "code",
   "execution_count": 3,
   "metadata": {},
   "outputs": [],
   "source": [
    "# Optimizamos:\n",
    "res = linprog(C, A_eq=Aeq, b_eq=beq, bounds=bounds)"
   ]
  },
  {
   "cell_type": "markdown",
   "metadata": {},
   "source": [
    "## Imprimimos los resultados"
   ]
  },
  {
   "cell_type": "code",
   "execution_count": 4,
   "metadata": {},
   "outputs": [
    {
     "name": "stdout",
     "output_type": "stream",
     "text": [
      "Cantidad para cada arco: [ 0. 70.  5.  0. 80.  0.  0. 20.  0.  0. 65. 60.]\n",
      "Costo mínimo total: 141800.0\n"
     ]
    }
   ],
   "source": [
    "print('Cantidad para cada arco:', res.x)\n",
    "print('Costo mínimo total:', res.fun)"
   ]
  },
  {
   "cell_type": "code",
   "execution_count": null,
   "metadata": {},
   "outputs": [],
   "source": []
  }
 ],
 "metadata": {
  "kernelspec": {
   "display_name": "Python 3",
   "language": "python",
   "name": "python3"
  },
  "language_info": {
   "codemirror_mode": {
    "name": "ipython",
    "version": 3
   },
   "file_extension": ".py",
   "mimetype": "text/x-python",
   "name": "python",
   "nbconvert_exporter": "python",
   "pygments_lexer": "ipython3",
   "version": "3.8.13"
  }
 },
 "nbformat": 4,
 "nbformat_minor": 4
}
