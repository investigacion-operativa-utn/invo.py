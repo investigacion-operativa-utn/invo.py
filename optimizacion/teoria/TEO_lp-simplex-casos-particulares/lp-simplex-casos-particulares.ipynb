{
 "cells": [
  {
   "cell_type": "markdown",
   "metadata": {},
   "source": [
    "---\n",
    "__Universidad Tecnológica Nacional, Buenos Aires__\\\n",
    "__Ingeniería Industrial__\\\n",
    "__Cátedra de Investigación Operativa__\\\n",
    "__Autor: Rodrigo Maranzana__, Rmaranzana@frba.utn.edu.ar\n",
    "\n",
    "---"
   ]
  },
  {
   "cell_type": "markdown",
   "metadata": {},
   "source": [
    "# Soluciones alternativas"
   ]
  },
  {
   "cell_type": "code",
   "execution_count": 13,
   "metadata": {},
   "outputs": [
    {
     "name": "stdout",
     "output_type": "stream",
     "text": [
      "Optimal\n",
      "x = 1.60\n",
      "y = 2.40\n",
      "12.0\n"
     ]
    }
   ],
   "source": [
    "import pulp\n",
    "\n",
    "lp01 = pulp.LpProblem(\"soluciones-alternativas\", pulp.LpMaximize)\n",
    "\n",
    "# Variables:\n",
    "x = pulp.LpVariable('x', lowBound=0, cat='Continuous')\n",
    "y = pulp.LpVariable('y', lowBound=0, cat='Continuous')\n",
    "\n",
    "# Función objetivo:\n",
    "lp01 += 3*x + 3*y, \"Z\"\n",
    "\n",
    "# Restricciones:\n",
    "lp01 +=  6*x + 16*y <= 48\n",
    "lp01 += 12*x +  6*y <= 42\n",
    "lp01 +=  9*x +  9*y <= 36\n",
    "\n",
    "# Resolucion:\n",
    "lp01.solve()\n",
    "\n",
    "# Imprimimos el status del problema:\n",
    "print(pulp.LpStatus[lp01.status])\n",
    "\n",
    "# Imprimimos las variables en su valor óptimo:\n",
    "for variable in lp01.variables():\n",
    "    print(\"%s = %.2f\" % (variable.name, variable.varValue))\n",
    "    \n",
    "# Imprimimos el funcional óptimo:\n",
    "print(pulp.value(lp01.objective))"
   ]
  },
  {
   "cell_type": "markdown",
   "metadata": {},
   "source": [
    "# Puntos degenerados"
   ]
  },
  {
   "cell_type": "code",
   "execution_count": 14,
   "metadata": {},
   "outputs": [
    {
     "name": "stdout",
     "output_type": "stream",
     "text": [
      "Optimal\n",
      "x = 3.50\n",
      "y = 0.00\n",
      "42.0\n"
     ]
    }
   ],
   "source": [
    "import pulp\n",
    "\n",
    "lp01 = pulp.LpProblem(\"solución-degenerada\", pulp.LpMaximize)\n",
    "\n",
    "# Variables:\n",
    "x = pulp.LpVariable('x', lowBound=0, cat='Continuous')\n",
    "y = pulp.LpVariable('y', lowBound=0, cat='Continuous')\n",
    "\n",
    "# Función objetivo:\n",
    "lp01 += 12*x + 4*y, \"Z\"\n",
    "\n",
    "# Restricciones:\n",
    "lp01 +=  10*x + 4*y <= 35\n",
    "lp01 += 12*x +  6*y <= 42\n",
    "lp01 +=  9*x +  9*y <= 36\n",
    "\n",
    "# Resolucion:\n",
    "lp01.solve()\n",
    "\n",
    "# Imprimimos el status del problema:\n",
    "print(pulp.LpStatus[lp01.status])\n",
    "\n",
    "# Imprimimos las variables en su valor óptimo:\n",
    "for variable in lp01.variables():\n",
    "    print(\"%s = %.2f\" % (variable.name, variable.varValue))\n",
    "    \n",
    "# Imprimimos el funcional óptimo:\n",
    "print(pulp.value(lp01.objective))"
   ]
  },
  {
   "cell_type": "markdown",
   "metadata": {},
   "source": [
    "# Problema incompatible"
   ]
  },
  {
   "cell_type": "code",
   "execution_count": 16,
   "metadata": {},
   "outputs": [
    {
     "name": "stdout",
     "output_type": "stream",
     "text": [
      "Infeasible\n",
      "x = 1.60\n",
      "y = 2.40\n",
      "13.6\n"
     ]
    }
   ],
   "source": [
    "import pulp\n",
    "\n",
    "lp01 = pulp.LpProblem(\"problema-incompatible\", pulp.LpMaximize)\n",
    "\n",
    "# Variables:\n",
    "x = pulp.LpVariable('x', lowBound=0, cat='Continuous')\n",
    "y = pulp.LpVariable('y', lowBound=0, cat='Continuous')\n",
    "\n",
    "# Función objetivo:\n",
    "lp01 += 4*x + 3*y, \"Z\"\n",
    "\n",
    "# Restricciones:\n",
    "lp01 += 6*x + 16*y >= 48\n",
    "lp01 += 12*x + 6*y >= 42\n",
    "lp01 += 9*x + 9*y <= 36\n",
    "\n",
    "# Resolvemos:\n",
    "lp01.solve()\n",
    "\n",
    "# Imprimimos el status del problema:\n",
    "print(pulp.LpStatus[lp01.status])\n",
    "\n",
    "# Imprimimos las variables en su valor óptimo:\n",
    "for variable in lp01.variables():\n",
    "    print(\"%s = %.2f\" % (variable.name, variable.varValue))\n",
    "\n",
    "# Imprimimos el funcional óptimo:\n",
    "print(pulp.value(lp01.objective))"
   ]
  },
  {
   "cell_type": "markdown",
   "metadata": {},
   "source": [
    "# Problema no acotado"
   ]
  },
  {
   "cell_type": "code",
   "execution_count": 17,
   "metadata": {},
   "outputs": [
    {
     "name": "stdout",
     "output_type": "stream",
     "text": [
      "Unbounded\n",
      "x = 0.00\n",
      "y = 0.00\n",
      "0.0\n"
     ]
    }
   ],
   "source": [
    "import pulp\n",
    "\n",
    "lp01 = pulp.LpProblem(\"problema-no-acotado\", pulp.LpMaximize)\n",
    "\n",
    "# Variables:\n",
    "x = pulp.LpVariable('x', lowBound=0, cat='Continuous')\n",
    "y = pulp.LpVariable('y', lowBound=0, cat='Continuous')\n",
    "\n",
    "# Función objetivo:\n",
    "lp01 += x + y, \"Z\"\n",
    "\n",
    "# Restricciones:\n",
    "lp01 += -x + y <= 2\n",
    "lp01 +=  x - y >= 2\n",
    "\n",
    "# Resolvemos:\n",
    "lp01.solve()\n",
    "\n",
    "# Imprimimos el status del problema:\n",
    "print(pulp.LpStatus[lp01.status])\n",
    "\n",
    "# Imprimimos las variables en su valor óptimo:\n",
    "for variable in lp01.variables():\n",
    "    print(\"%s = %.2f\" % (variable.name, variable.varValue))\n",
    "    \n",
    "# Imprimimos el funcional óptimo:\n",
    "print(pulp.value(lp01.objective))"
   ]
  },
  {
   "cell_type": "code",
   "execution_count": null,
   "metadata": {},
   "outputs": [],
   "source": []
  }
 ],
 "metadata": {
  "kernelspec": {
   "display_name": "Python 3",
   "language": "python",
   "name": "python3"
  },
  "language_info": {
   "codemirror_mode": {
    "name": "ipython",
    "version": 3
   },
   "file_extension": ".py",
   "mimetype": "text/x-python",
   "name": "python",
   "nbconvert_exporter": "python",
   "pygments_lexer": "ipython3",
   "version": "3.8.13"
  }
 },
 "nbformat": 4,
 "nbformat_minor": 2
}
