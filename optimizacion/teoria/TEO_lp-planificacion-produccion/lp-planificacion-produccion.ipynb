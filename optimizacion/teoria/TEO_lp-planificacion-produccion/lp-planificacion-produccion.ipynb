{
 "cells": [
  {
   "cell_type": "markdown",
   "id": "9c2fe73e",
   "metadata": {},
   "source": [
    "---\n",
    "__Universidad Tecnológica Nacional, Buenos Aires__\\\n",
    "__Ingeniería Industrial__\\\n",
    "__Cátedra de Investigación Operativa__\\\n",
    "__Autor: Rodrigo Maranzana__, Rmaranzana@frba.utn.edu.ar\n",
    "\n",
    "---"
   ]
  },
  {
   "cell_type": "code",
   "execution_count": 8,
   "id": "ec3a7c80",
   "metadata": {},
   "outputs": [],
   "source": [
    "import pulp\n",
    "import matplotlib.pyplot as plt\n",
    "import numpy as np"
   ]
  },
  {
   "cell_type": "markdown",
   "id": "586e768e",
   "metadata": {},
   "source": [
    "Modelizamos con PuLP"
   ]
  },
  {
   "cell_type": "code",
   "execution_count": 3,
   "id": "59440dbe",
   "metadata": {},
   "outputs": [
    {
     "name": "stdout",
     "output_type": "stream",
     "text": [
      "Optimal\n",
      "FHE_0 = 1500.00\n",
      "FHE_1 = 2500.00\n",
      "FHE_2 = 200.00\n",
      "FHE_3 = 0.00\n",
      "FHE_4 = 1700.00\n",
      "FHE_5 = 2500.00\n",
      "FHR_0 = 13000.00\n",
      "FHR_1 = 13000.00\n",
      "FHR_2 = 13000.00\n",
      "FHR_3 = 12100.00\n",
      "FHR_4 = 13000.00\n",
      "FHR_5 = 13000.00\n",
      "SF_0 = -0.00\n",
      "SF_1 = 0.00\n",
      "SF_2 = 0.00\n",
      "SF_3 = 0.00\n",
      "SF_4 = 500.00\n",
      "SF_5 = 0.00\n",
      "Función objetivo: 10826000.0\n"
     ]
    }
   ],
   "source": [
    "lp01 = pulp.LpProblem(\"planificacion-produccion\", pulp.LpMinimize)\n",
    "\n",
    "# Sets:\n",
    "meses = range(6)\n",
    "meses_1 = range(1, 6)\n",
    "\n",
    "# Variables:\n",
    "FHR = pulp.LpVariable.dicts('FHR', meses, 0, None, cat='Continuous')\n",
    "FHE = pulp.LpVariable.dicts('FHE', meses, 0, None, cat='Continuous')\n",
    "SF = pulp.LpVariable.dicts('SF', meses, 0, None, cat='Continuous')\n",
    "\n",
    "# Parámetros:\n",
    "D = [14_500, 15_500, 13_200, 12_100, 14_200, 16_000]\n",
    "CHR = 125\n",
    "CHE = 140\n",
    "LFHR = 13_000\n",
    "LFHE = 2_500\n",
    "CS = 25\n",
    "I0 = 0\n",
    "\n",
    "# Función objetivo:\n",
    "Z = [FHR[m] * CHR + FHE[m] * CHE + SF[m] * CS for m in meses]\n",
    "lp01 += pulp.lpSum(Z), 'Z'\n",
    "\n",
    "# Restricciones:\n",
    "## Balance productivo 1er mes:\n",
    "lp01 += FHR[0] + FHE[0] + I0 == SF[0] + D[0]\n",
    "\n",
    "## Balance productivo meses siguientes:\n",
    "for m in meses_1:\n",
    "    lp01 += FHR[m] + FHE[m] + SF[m-1] == SF[m] + D[m]\n",
    "\n",
    "## Capacidad:\n",
    "for m in meses:\n",
    "    lp01 += FHR[m] <= LFHR\n",
    "    lp01 += FHE[m] <= LFHE\n",
    "\n",
    "# Resolucion:\n",
    "lp01.solve()\n",
    "\n",
    "# Imprimimos el status del problema:\n",
    "print(pulp.LpStatus[lp01.status])\n",
    "\n",
    "# Imprimimos las variables en su valor óptimo:\n",
    "for variable in lp01.variables():\n",
    "    print(\"%s = %.2f\" % (variable.name, variable.varValue))\n",
    "    \n",
    "# Imprimimos el funcional óptimo:\n",
    "print(f'Función objetivo: {pulp.value(lp01.objective)}')"
   ]
  },
  {
   "cell_type": "code",
   "execution_count": 29,
   "id": "7e37898e",
   "metadata": {},
   "outputs": [
    {
     "data": {
      "image/png": "[encoded data removed]",
      "text/plain": [
       "<Figure size 432x288 with 1 Axes>"
      ]
     },
     "metadata": {
      "needs_background": "light"
     },
     "output_type": "display_data"
    }
   ],
   "source": [
    "# Ploteo:\n",
    "FHRa = np.array([v.varValue for v in FHR.values()])\n",
    "FHEa = np.array([v.varValue for v in FHE.values()])\n",
    "SFa = np.array([v.varValue for v in SF.values()])\n",
    "SFa_desfase = np.insert(SFa, 0, 0)\n",
    "SFa_desfase = SFa_desfase[:-1]\n",
    "\n",
    "plt.bar(meses, FHRa, label=\"Producción regular\")\n",
    "plt.bar(meses, FHEa, bottom=FHRa, label=\"Producción extra\")\n",
    "plt.bar(meses, SFa_desfase, bottom=FHRa + FHEa, label=\"Stock inicial\")\n",
    "plt.plot(meses, D, label=\"Demanda\", color='r')\n",
    "plt.title(\"Producción y Stock mensual vs. Demanda\")\n",
    "plt.xlabel(\"Cantidad\")\n",
    "plt.xlabel(\"Mes\")\n",
    "plt.legend()\n",
    "plt.show()"
   ]
  },
  {
   "cell_type": "code",
   "execution_count": 27,
   "id": "dceaa1d2",
   "metadata": {},
   "outputs": [
    {
     "data": {
      "text/plain": [
       "[13000.0,\n",
       " 13000.0,\n",
       " 13000.0,\n",
       " 12100.0,\n",
       " 13000.0,\n",
       " 13000.0,\n",
       " 1500.0,\n",
       " 2500.0,\n",
       " 200.0,\n",
       " 0.0,\n",
       " 1700.0,\n",
       " 2500.0]"
      ]
     },
     "execution_count": 27,
     "metadata": {},
     "output_type": "execute_result"
    }
   ],
   "source": [
    "FHRa + FHEa"
   ]
  }
 ],
 "metadata": {
  "kernelspec": {
   "display_name": "Python 3",
   "language": "python",
   "name": "python3"
  },
  "language_info": {
   "codemirror_mode": {
    "name": "ipython",
    "version": 3
   },
   "file_extension": ".py",
   "mimetype": "text/x-python",
   "name": "python",
   "nbconvert_exporter": "python",
   "pygments_lexer": "ipython3",
   "version": "3.8.13"
  }
 },
 "nbformat": 4,
 "nbformat_minor": 5
}
