{
 "cells": [
  {
   "cell_type": "markdown",
   "metadata": {},
   "source": [
    "---\n",
    "__Universidad Tecnológica Nacional, Buenos Aires__\\\n",
    "__Ingeniería Industrial__\\\n",
    "__Cátedra de Investigación Operativa__\\\n",
    "__Autor: Rodrigo Maranzana__, Rmaranzana@frba.utn.edu.ar\n",
    "\n",
    "---"
   ]
  },
  {
   "cell_type": "code",
   "execution_count": 1,
   "metadata": {},
   "outputs": [
    {
     "name": "stdout",
     "output_type": "stream",
     "text": [
      "Optimal\n",
      "x = 46.67\n",
      "y = 66.67\n",
      "386.66666899999996\n"
     ]
    }
   ],
   "source": [
    "import pulp\n",
    "\n",
    "lp01 = pulp.LpProblem(\"variables-ficticias\", pulp.LpMaximize)\n",
    "\n",
    "# Variables:\n",
    "x = pulp.LpVariable('x', lowBound=0, cat='Continuous')\n",
    "y = pulp.LpVariable('y', lowBound=0, cat='Continuous')\n",
    "\n",
    "# Función objetivo:\n",
    "lp01 += 4*x + 3*y, \"Z\"\n",
    "\n",
    "# Restricciones:\n",
    "lp01 +=  6*x + 16*y >= 108\n",
    "lp01 +=  12*x + 6*y >= 89\n",
    "lp01 +=  2*x + 1*y <= 160\n",
    "lp01 +=  1*x + 2*y <= 180\n",
    "\n",
    "# Resolver:\n",
    "lp01.solve()\n",
    "\n",
    "# Imprimir resultados:\n",
    "pulp.LpStatus[lp01.status]\n",
    "print(pulp.LpStatus[lp01.status])\n",
    "\n",
    "for variable in lp01.variables():\n",
    "    print(\"%s = %.2f\" % (variable.name, variable.varValue))\n",
    "print(pulp.value(lp01.objective))"
   ]
  },
  {
   "cell_type": "code",
   "execution_count": null,
   "metadata": {},
   "outputs": [],
   "source": []
  }
 ],
 "metadata": {
  "kernelspec": {
   "display_name": "Python 3",
   "language": "python",
   "name": "python3"
  },
  "language_info": {
   "codemirror_mode": {
    "name": "ipython",
    "version": 3
   },
   "file_extension": ".py",
   "mimetype": "text/x-python",
   "name": "python",
   "nbconvert_exporter": "python",
   "pygments_lexer": "ipython3",
   "version": "3.8.13"
  }
 },
 "nbformat": 4,
 "nbformat_minor": 2
}
