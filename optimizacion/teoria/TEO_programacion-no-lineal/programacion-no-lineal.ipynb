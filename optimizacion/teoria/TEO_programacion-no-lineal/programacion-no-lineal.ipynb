{
 "cells": [
  {
   "cell_type": "markdown",
   "id": "dd57fe05",
   "metadata": {},
   "source": [
    "---\n",
    "__Universidad Tecnológica Nacional, Buenos Aires__\\\n",
    "__Ingeniería Industrial__\\\n",
    "__Cátedra de Investigación Operativa__\\\n",
    "__Autor: Rodrigo Maranzana__, Rmaranzana@frba.utn.edu.ar\n",
    "\n",
    "---"
   ]
  },
  {
   "cell_type": "markdown",
   "id": "beb106a3",
   "metadata": {},
   "source": [
    "# Ejemplo de optimización no lineal"
   ]
  },
  {
   "cell_type": "markdown",
   "id": "48764720",
   "metadata": {},
   "source": [
    "Ejemplo de optimización de problema con curva precio-demanda, corresponde a un modelo NLP box-constrained."
   ]
  },
  {
   "cell_type": "code",
   "execution_count": 2,
   "id": "2c04d5a4",
   "metadata": {},
   "outputs": [],
   "source": [
    "from scipy.optimize import minimize"
   ]
  },
  {
   "cell_type": "markdown",
   "id": "e66fca01",
   "metadata": {},
   "source": [
    "Parámetros del problema."
   ]
  },
  {
   "cell_type": "code",
   "execution_count": 20,
   "id": "42a47d67",
   "metadata": {},
   "outputs": [],
   "source": [
    "# Parámetros\n",
    "## Demanda:\n",
    "region1 = {\"low\": 40, \"med\": 31, \"high\": 25}\n",
    "region2 = {\"low\": 33, \"med\": 28, \"high\": 13}\n",
    "region3 = {\"low\": 22, \"med\": 16, \"high\": 10}\n",
    "\n",
    "## Precio:\n",
    "p = [5.20, 5.45, 5.74]\n",
    "\n",
    "## Costo:\n",
    "cv = 4.23\n",
    "\n",
    "regiones = [region1, region2, region3]"
   ]
  },
  {
   "cell_type": "markdown",
   "id": "ecfa9497",
   "metadata": {},
   "source": [
    "Construcción de función piecewise precio-demanda por región."
   ]
  },
  {
   "cell_type": "code",
   "execution_count": 21,
   "id": "41d2a498",
   "metadata": {},
   "outputs": [],
   "source": [
    "# Función piecewise por region:\n",
    "def fi(x, region):\n",
    "    if x <= p[1]:\n",
    "        return (region[\"med\"] - region[\"low\"]) / (p[1] - p[0]) * (x - p[0]) + region[\"low\"]\n",
    "    else:\n",
    "        return (region[\"high\"] - region[\"med\"]) / (p[2] - p[1]) * (x - p[1]) + region[\"med\"]"
   ]
  },
  {
   "cell_type": "markdown",
   "id": "d62cca03",
   "metadata": {},
   "source": [
    "Construcción de modelo de optimización box constrained y minimización con scipy.optimize"
   ]
  },
  {
   "cell_type": "code",
   "execution_count": 22,
   "id": "ddd01f2d",
   "metadata": {},
   "outputs": [
    {
     "name": "stdout",
     "output_type": "stream",
     "text": [
      "      fun: -93.09612499999997\n",
      " hess_inv: <1x1 LbfgsInvHessProduct with dtype=float64>\n",
      "      jac: array([1.42108548e-06])\n",
      "  message: 'CONVERGENCE: NORM_OF_PROJECTED_GRADIENT_<=_PGTOL'\n",
      "     nfev: 8\n",
      "      nit: 2\n",
      "     njev: 4\n",
      "   status: 0\n",
      "  success: True\n",
      "        x: array([5.30875])\n"
     ]
    }
   ],
   "source": [
    "# Función de optimización:\n",
    "def f(x):\n",
    "    return - (x - cv) * sum(fi(x, region_i) for region_i in regiones)\n",
    "\n",
    "# Punto de inicio de búsqueda:\n",
    "x0 = p[0]\n",
    "\n",
    "# Optimización:\n",
    "res = minimize(fun=f, x0=x0, bounds=[(p[0], p[2])])\n",
    "\n",
    "# Salida:\n",
    "print(res)"
   ]
  },
  {
   "cell_type": "markdown",
   "id": "141530bb",
   "metadata": {},
   "source": [
    "Visualización de óptimo"
   ]
  },
  {
   "cell_type": "code",
   "execution_count": 23,
   "id": "99dae4b8",
   "metadata": {},
   "outputs": [
    {
     "data": {
      "image/png": "[encoded data removed]",
      "text/plain": [
       "<Figure size 432x288 with 1 Axes>"
      ]
     },
     "metadata": {
      "needs_background": "light"
     },
     "output_type": "display_data"
    }
   ],
   "source": [
    "# Ploteo:\n",
    "import matplotlib.pyplot as plt\n",
    "import numpy as np\n",
    "\n",
    "x = np.linspace(p[0], p[2], 100)\n",
    "\n",
    "plt.plot(x, [-f(xi) for xi in x])\n",
    "plt.scatter(res.x, -f(res.x), color=\"r\")\n",
    "plt.xlabel(\"precio\")\n",
    "plt.ylabel(\"facturación\")\n",
    "plt.title(\"Facturación esperada por cada precio\")\n",
    "plt.show()"
   ]
  },
  {
   "cell_type": "markdown",
   "id": "1dab8f27",
   "metadata": {},
   "source": [
    "# Ejemplo de optimizacion convexa de Floor plan\n",
    "\n",
    "En este ejemplo aplicamos la librería CVXPY de Python para resolver el caso de floorplanning cuadrático.\n",
    "\n",
    "Link a libería: https://github.com/cvxpy/cvxpy"
   ]
  },
  {
   "cell_type": "code",
   "execution_count": 2,
   "id": "39baf9b3",
   "metadata": {},
   "outputs": [
    {
     "name": "stdout",
     "output_type": "stream",
     "text": [
      "(CVXPY) Sep 16 07:36:15 PM: Encountered unexpected exception importing solver GLOP:\n",
      "RuntimeError('Unrecognized new version of ortools (9.5.2237). Expected < 9.5.0.Please open a feature request on cvxpy to enable support for this version.')\n",
      "(CVXPY) Sep 16 07:36:15 PM: Encountered unexpected exception importing solver PDLP:\n",
      "RuntimeError('Unrecognized new version of ortools (9.5.2237). Expected < 9.5.0.Please open a feature request on cvxpy to enable support for this version.')\n"
     ]
    }
   ],
   "source": [
    "import matplotlib.pyplot as plt\n",
    "import matplotlib.patches as pac\n",
    "import cvxpy as cp\n",
    "import numpy as np"
   ]
  },
  {
   "cell_type": "markdown",
   "id": "1ca1f7db",
   "metadata": {},
   "source": [
    "Cargamos parámetros y variables"
   ]
  },
  {
   "cell_type": "code",
   "execution_count": 3,
   "id": "e0393f41",
   "metadata": {},
   "outputs": [],
   "source": [
    "# Parametros\n",
    "rho = 2.5 # Espacio entre cajas\n",
    "gamma_max = 5 # Aspect ratio superior\n",
    "gamma_min = 1/5 # Aspect ratio inferior\n",
    "Amin = np.array([350., 300., 200., 300., 300.])\n",
    "\n",
    "# Variables\n",
    "W = cp.Variable(shape=(1)) # Ancho \n",
    "H = cp.Variable(shape=(1)) # Largo\n",
    "x = cp.Variable(shape=(5)) # Posición x del vértice inferior izquierdo\n",
    "y = cp.Variable(shape=(5)) # Posición y del vértice inferior izquierdo\n",
    "w = cp.Variable(shape=(5)) # Ancho de la caja\n",
    "h = cp.Variable(shape=(5)) # Largo de la caja"
   ]
  },
  {
   "cell_type": "markdown",
   "id": "b645007b",
   "metadata": {},
   "source": [
    "Cargamos función objetivo y restricciones"
   ]
  },
  {
   "cell_type": "code",
   "execution_count": 4,
   "id": "be8f2854",
   "metadata": {},
   "outputs": [],
   "source": [
    "# Indicamos la función objetivo:\n",
    "objective = cp.Minimize(H + W) # Minimizar perímetro total\n",
    "\n",
    "# Indicamos las restricciones:\n",
    "## Restricciones de dependencia entre cajas en x:\n",
    "constraints = [\n",
    "    x[0] + w[0] + rho <= x[4],\n",
    "    x[1] + w[1] + rho <= x[3],\n",
    "    x[2] + w[2] + rho <= x[3],\n",
    "    x[3] + w[3] + rho <= x[4],\n",
    "    x[4] + w[4]       <= W\n",
    "]\n",
    "\n",
    "## Restricciones de dependencia entre cajas de y:\n",
    "constraints += [\n",
    "    y[2] + h[2] + rho <= y[1],\n",
    "    y[1] + h[1] + rho <= y[0],\n",
    "    y[3] + h[3] + rho <= y[0],\n",
    "    y[0] + h[0] <= H,\n",
    "    y[4] + h[4] <= H\n",
    "]\n",
    "\n",
    "# Restricción de área mínima para cada caja:\n",
    "constraints.append(cp.log(Amin) <= cp.log(w) + cp.log(h)) \n",
    "    \n",
    "# Restricción de aspect ratio:\n",
    "constraints.append(h <= cp.multiply(gamma_max, w)) # multiplicacion elemento por elemento\n",
    "constraints.append(h >= cp.multiply(gamma_min, w)) # multiplicacion elemento por elemento\n",
    "    \n",
    "# Restricciones de positividad:\n",
    "constraints += [\n",
    "    W >= 0,\n",
    "    H >= 0,\n",
    "    x >= 0,\n",
    "    y >= 0,\n",
    "    w >= 0,\n",
    "    h >= 0,\n",
    "]"
   ]
  },
  {
   "cell_type": "markdown",
   "id": "53241e9a",
   "metadata": {},
   "source": [
    "Creamos el problema de optimización y resolvemos"
   ]
  },
  {
   "cell_type": "code",
   "execution_count": 5,
   "id": "3530ba87",
   "metadata": {},
   "outputs": [
    {
     "name": "stdout",
     "output_type": "stream",
     "text": [
      "Perímetro: 167.96\n",
      "Área: 1752.59\n"
     ]
    }
   ],
   "source": [
    "# Armamos el problema:\n",
    "prob = cp.Problem(objective, constraints)\n",
    "\n",
    "# Resolvemos\n",
    "result = prob.solve()\n",
    "\n",
    "# Obtenemos los valores optimos de perímetro y área:\n",
    "print(f'Perímetro: {2 * prob.value:.2f}')\n",
    "print(f'Área: {H.value[0] * W.value[0]:.2f}')"
   ]
  },
  {
   "cell_type": "markdown",
   "id": "0439afd1",
   "metadata": {},
   "source": [
    "## Visualización\n",
    "\n",
    "Utilizamos la librería Matplotlib para visualizar el resultado."
   ]
  },
  {
   "cell_type": "code",
   "execution_count": 6,
   "id": "161546aa",
   "metadata": {},
   "outputs": [
    {
     "data": {
      "image/png": "[encoded data removed]",
      "text/plain": [
       "<Figure size 864x576 with 1 Axes>"
      ]
     },
     "metadata": {
      "needs_background": "light"
     },
     "output_type": "display_data"
    }
   ],
   "source": [
    "# Ploteamos la solución:\n",
    "def texto(rotate):\n",
    "    plt.text(xi+wi/7, yi+hi/3, f\"{str(i)}\\nSup: {round(wi*hi, 0)} m2\\\n",
    "                \\nDims: {round(wi, 1)}x{round(hi, 1)} m\", rotation=rotate)\n",
    "\n",
    "plt.subplots(figsize=(12, 8))\n",
    "\n",
    "areas = [\"Materia Prima\", \"Procesamiento\", \"Tratamiento Térmico\", \"Almacen Final\", \"Despacho\"]\n",
    "for i, xi, yi, wi, hi in zip(areas, x.value, y.value, w.value, h.value):\n",
    "    rectangle = pac.Rectangle((xi, yi), wi, hi)\n",
    "    plt.gca().add_patch(rectangle)\n",
    "    texto(0) if wi > hi else texto(90)\n",
    "    \n",
    "plt.axis('scaled')\n",
    "plt.xlabel(\"x\")\n",
    "plt.ylabel(\"y\")\n",
    "plt.title(\"Distribución de planta\")\n",
    "plt.show()"
   ]
  },
  {
   "cell_type": "code",
   "execution_count": 72,
   "id": "369373dc",
   "metadata": {},
   "outputs": [
    {
     "data": {
      "text/plain": [
       "array([4.11247048e-07, 2.45240181e-07, 3.67542649e-07, 2.35690696e+01,\n",
       "       3.75057139e+01])"
      ]
     },
     "execution_count": 72,
     "metadata": {},
     "output_type": "execute_result"
    }
   ],
   "source": [
    "x.value"
   ]
  }
 ],
 "metadata": {
  "kernelspec": {
   "display_name": "Python 3",
   "language": "python",
   "name": "python3"
  },
  "language_info": {
   "codemirror_mode": {
    "name": "ipython",
    "version": 3
   },
   "file_extension": ".py",
   "mimetype": "text/x-python",
   "name": "python",
   "nbconvert_exporter": "python",
   "pygments_lexer": "ipython3",
   "version": "3.8.13"
  }
 },
 "nbformat": 4,
 "nbformat_minor": 5
}
