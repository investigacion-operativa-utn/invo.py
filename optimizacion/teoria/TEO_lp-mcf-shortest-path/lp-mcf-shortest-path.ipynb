{
 "cells": [
  {
   "cell_type": "markdown",
   "id": "e11c6b1a",
   "metadata": {},
   "source": [
    "---\n",
    "__Universidad Tecnológica Nacional, Buenos Aires__\\\n",
    "__Ingeniería Industrial__\\\n",
    "__Cátedra de Investigación Operativa__\\\n",
    "__Autor: Rodrigo Maranzana__, Rmaranzana@frba.utn.edu.ar\n",
    "\n",
    "---"
   ]
  },
  {
   "cell_type": "code",
   "execution_count": 1,
   "id": "75eccec1",
   "metadata": {},
   "outputs": [],
   "source": [
    "import numpy as np\n",
    "import pulp\n",
    "from scipy.optimize import linprog"
   ]
  },
  {
   "cell_type": "markdown",
   "id": "d0a42b86",
   "metadata": {},
   "source": [
    "# Resolución FMC matricial con scipy.optimize.linprog"
   ]
  },
  {
   "cell_type": "code",
   "execution_count": 4,
   "id": "b97d19ea",
   "metadata": {},
   "outputs": [
    {
     "name": "stdout",
     "output_type": "stream",
     "text": [
      "• Vector de costos: \n",
      " [2 2 2 5 2 1 2]\n",
      "\n",
      "• Matriz nodo-arco:\n",
      " [[ 1  1  0  0  0  0  0]\n",
      " [-1  0  1  1  0  0  0]\n",
      " [ 0 -1  0  0  1  0  0]\n",
      " [ 0  0 -1  0  0  1  0]\n",
      " [ 0  0  0  0 -1  0  1]\n",
      " [ 0  0  0 -1  0 -1 -1]]\n",
      "\n",
      "• Vector de término de lado derecho: \n",
      " [ 1  0  0  0  0 -1]\n"
     ]
    }
   ],
   "source": [
    "# Matriz nodo-arco.\n",
    "A = np.array(\n",
    " [[ 1, 1, 0, 0, 0, 0, 0],\n",
    "  [-1, 0, 1, 1, 0, 0, 0],\n",
    "  [ 0,-1, 0, 0, 1, 0, 0],\n",
    "  [ 0, 0,-1, 0, 0, 1, 0],\n",
    "  [ 0, 0, 0, 0,-1, 0, 1],\n",
    "  [ 0, 0, 0,-1, 0,-1,-1]]\n",
    ")\n",
    "\n",
    "# Vector de costos o distancias.\n",
    "C = np.array([2, 2, 2, 5, 2, 1, 2])\n",
    "\n",
    "# Vector de términos del lado derecho.\n",
    "b = np.array([1, 0, 0, 0, 0, -1])\n",
    "\n",
    "# print the parameters.\n",
    "print(f\"• Vector de costos: \\n {C}\\n\")\n",
    "print(f\"• Matriz nodo-arco:\\n {A}\\n\")\n",
    "print(f\"• Vector de término de lado derecho: \\n {b}\")"
   ]
  },
  {
   "cell_type": "code",
   "execution_count": 11,
   "id": "46c27b4c",
   "metadata": {},
   "outputs": [],
   "source": [
    "# Obtenemos cantidad de arcos:\n",
    "dim_arcos = A.shape[1]\n",
    "\n",
    "# Cargamos las cotas x>=0 como lista de tuplas, una para cada arco:\n",
    "cotas = []\n",
    "\n",
    "for arco_i in range(0, dim_arcos):\n",
    "    \n",
    "    cotas.append((0, np.inf))"
   ]
  },
  {
   "cell_type": "code",
   "execution_count": 10,
   "id": "f48645f8",
   "metadata": {},
   "outputs": [
    {
     "name": "stdout",
     "output_type": "stream",
     "text": [
      "Arcos seleccionados: [ 1. -0.  1.  0. -0.  1.  0.]\n",
      "Mínima distancia: 5.0\n"
     ]
    }
   ],
   "source": [
    "# Resolvemos con scipy linprog:\n",
    "res = linprog(C, A_eq=A, b_eq=b, bounds=cotas)\n",
    "\n",
    "print(f'Arcos seleccionados: {res.x}')\n",
    "print(f'Mínima distancia: {res.fun}')"
   ]
  },
  {
   "cell_type": "markdown",
   "id": "78664585",
   "metadata": {},
   "source": [
    "# Resolución FMC algebraico con PuLP"
   ]
  },
  {
   "cell_type": "code",
   "execution_count": 23,
   "id": "cb387f20",
   "metadata": {},
   "outputs": [
    {
     "name": "stdout",
     "output_type": "stream",
     "text": [
      "Optimal\n",
      "x_24 = 1.00\n",
      "x_2t = 0.00\n",
      "x_35 = 0.00\n",
      "x_4t = 1.00\n",
      "x_5t = 0.00\n",
      "x_s2 = 1.00\n",
      "x_s3 = 0.00\n",
      "Función objetivo: 5.0\n"
     ]
    }
   ],
   "source": [
    "import pulp\n",
    "\n",
    "lp01 = pulp.LpProblem(\"ejercicio-inicial-fmc-shortest-path\", pulp.LpMinimize)\n",
    "\n",
    "# Arcos:\n",
    "arcos = ['s2', 's3', '24', '2t', '35', '4t', '5t']\n",
    "\n",
    "# Variables:\n",
    "X = pulp.LpVariable.dicts('x', arcos, 0, None, cat='Continuous')\n",
    "\n",
    "# Función objetivo:\n",
    "lp01 += 2*X['s2'] + 2*X['s3'] + 2*X['24'] + 5*X['2t'] + 2*X['35'] + 1*X['4t'] + 2*X['5t'], \"Z\"\n",
    "\n",
    "# # Restricciones:\n",
    "lp01 +=  X['s2'] + X['s3'] == 1\n",
    "lp01 +=  X['24'] + X['2t'] - X['s2'] == 0\n",
    "lp01 +=  X['35'] - X['s3'] == 0\n",
    "lp01 +=  X['4t'] - X['24'] == 0\n",
    "lp01 +=  X['5t'] - X['35'] == 0\n",
    "lp01 +=  -X['2t'] - X['4t'] - X['5t'] == -1\n",
    "\n",
    "# Resolucion:\n",
    "lp01.solve()\n",
    "\n",
    "# Imprimimos el status del problema:\n",
    "print(pulp.LpStatus[lp01.status])\n",
    "\n",
    "# Imprimimos las variables en su valor óptimo:\n",
    "for variable in lp01.variables():\n",
    "    print(\"%s = %.2f\" % (variable.name, variable.varValue))\n",
    "    \n",
    "# Imprimimos el funcional óptimo:\n",
    "print(f'Función objetivo: {pulp.value(lp01.objective)}')"
   ]
  },
  {
   "cell_type": "code",
   "execution_count": null,
   "id": "865f6d95",
   "metadata": {},
   "outputs": [],
   "source": []
  }
 ],
 "metadata": {
  "kernelspec": {
   "display_name": "Python 3",
   "language": "python",
   "name": "python3"
  },
  "language_info": {
   "codemirror_mode": {
    "name": "ipython",
    "version": 3
   },
   "file_extension": ".py",
   "mimetype": "text/x-python",
   "name": "python",
   "nbconvert_exporter": "python",
   "pygments_lexer": "ipython3",
   "version": "3.8.13"
  }
 },
 "nbformat": 4,
 "nbformat_minor": 5
}
