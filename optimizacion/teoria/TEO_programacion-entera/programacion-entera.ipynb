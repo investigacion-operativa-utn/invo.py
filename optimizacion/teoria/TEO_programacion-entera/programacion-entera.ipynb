{
 "cells": [
  {
   "cell_type": "markdown",
   "id": "9c2fe73e",
   "metadata": {},
   "source": [
    "---\n",
    "__Universidad Tecnológica Nacional, Buenos Aires__\\\n",
    "__Ingeniería Industrial__\\\n",
    "__Cátedra de Investigación Operativa__\\\n",
    "__Autor: Rodrigo Maranzana__, Rmaranzana@frba.utn.edu.ar\n",
    "\n",
    "---"
   ]
  },
  {
   "cell_type": "code",
   "execution_count": 1,
   "id": "ec3a7c80",
   "metadata": {},
   "outputs": [],
   "source": [
    "import pulp"
   ]
  },
  {
   "cell_type": "markdown",
   "id": "586e768e",
   "metadata": {},
   "source": [
    "# Problema de Set Cover"
   ]
  },
  {
   "cell_type": "code",
   "execution_count": 6,
   "id": "59440dbe",
   "metadata": {},
   "outputs": [
    {
     "name": "stdout",
     "output_type": "stream",
     "text": [
      "Optimal\n",
      "x_1 = 0\n",
      "x_10 = 0\n",
      "x_11 = 0\n",
      "x_12 = 1\n",
      "x_2 = 1\n",
      "x_3 = 0\n",
      "x_4 = 0\n",
      "x_5 = 0\n",
      "x_6 = 0\n",
      "x_7 = 0\n",
      "x_8 = 0\n",
      "x_9 = 1\n",
      "Función objetivo: 3.0\n"
     ]
    }
   ],
   "source": [
    "lp01 = pulp.LpProblem(\"set-cover\", pulp.LpMinimize)\n",
    "\n",
    "# Sets:\n",
    "estaciones = range(1, 13)\n",
    "\n",
    "# Variables:\n",
    "x = pulp.LpVariable.dicts('x', estaciones, 0, None, cat='Binary')\n",
    "\n",
    "# Función objetivo:\n",
    "lp01 += pulp.lpSum(x), 'Z'\n",
    "\n",
    "# Restricciones:\n",
    "lp01 += x[1] + x[2] + x[3] + x[7] + x[12] >= 1\n",
    "lp01 += x[1] + x[2] + x[6] + x[9] + x[10] >= 1\n",
    "lp01 += x[1] + x[3] + x[5] + x[9] + x[10] + x[11] >= 1\n",
    "lp01 += x[4] + x[6] + x[12] >= 1\n",
    "lp01 += x[3] + x[5] + x[8] + x[12] >= 1\n",
    "lp01 += x[2] + x[4] + x[6] >= 1\n",
    "lp01 += x[1] + x[7] + x[12] >= 1\n",
    "lp01 += x[5] + x[8] + x[9] + x[10] >= 1\n",
    "lp01 += x[2] + x[3] + x[8] + x[9] + x[11] >= 1\n",
    "lp01 += x[2] + x[3] + x[8] + x[10] >= 1\n",
    "lp01 += x[3] + x[9] + x[11] >= 1\n",
    "lp01 += x[1] + x[4] + x[5] + x[7] + x[12] >= 1\n",
    "\n",
    "\n",
    "# Resolucion:\n",
    "lp01.solve()\n",
    "\n",
    "# Imprimimos el status del problema:\n",
    "print(pulp.LpStatus[lp01.status])\n",
    "\n",
    "# Imprimimos las variables en su valor óptimo:\n",
    "for variable in lp01.variables():\n",
    "    print(\"%s = %i\" % (variable.name, variable.varValue))\n",
    "    \n",
    "# Imprimimos el funcional óptimo:\n",
    "print(f'Función objetivo: {pulp.value(lp01.objective)}')"
   ]
  },
  {
   "cell_type": "markdown",
   "id": "2c37e5ee",
   "metadata": {},
   "source": [
    "# Problema de Warehouse Location"
   ]
  },
  {
   "cell_type": "code",
   "execution_count": 15,
   "id": "50c9e9d1",
   "metadata": {},
   "outputs": [
    {
     "name": "stdout",
     "output_type": "stream",
     "text": [
      "Optimal\n",
      "x_11 = 80\n",
      "x_12 = 70\n",
      "x_13 = 25\n",
      "x_14 = 0\n",
      "x_21 = 0\n",
      "x_22 = 0\n",
      "x_23 = 0\n",
      "x_24 = 0\n",
      "x_31 = 0\n",
      "x_32 = 0\n",
      "x_33 = 45\n",
      "x_34 = 80\n",
      "y_0 = 1\n",
      "y_1 = 0\n",
      "y_2 = 1\n",
      "Función objetivo: 255080.0\n"
     ]
    }
   ],
   "source": [
    "lp01 = pulp.LpProblem(\"warehouse-location\", pulp.LpMinimize)\n",
    "\n",
    "# Sets:\n",
    "arcos = ['11', '12', '13', '14', '21', '22', '23', '24', '31', '32', '33', '34']\n",
    "centros = range(3)\n",
    "M = 99999\n",
    "\n",
    "# Variables:\n",
    "x = pulp.LpVariable.dicts('x', arcos, 0, None, cat='Continous')\n",
    "y = pulp.LpVariable.dicts('y', centros, 0, None, cat='Binary')\n",
    "\n",
    "# Función objetivo:\n",
    "lp01 += 434 * x['11'] + 523 * x['12'] + 640 * x['13'] + 850 * x['14'] + \\\n",
    "        323 * x['21'] + 480 * x['22'] + 670 * x['23'] + 770 * x['24'] + \\\n",
    "        997 * x['31'] + 680 * x['32'] + 390 * x['33'] + 590 * x['34'] + \\\n",
    "        55000 * y[0] + 45000 * y[1] + 48000 * y[2], 'Z'\n",
    "\n",
    "# Restricciones:\n",
    "## Cumplimiento de oferta\n",
    "lp01 += x['11'] + x['12'] + x['13'] + x['14'] <= 175\n",
    "lp01 += x['21'] + x['22'] + x['23'] + x['24'] <= 100\n",
    "lp01 += x['31'] + x['32'] + x['33'] + x['34'] <= 125\n",
    "\n",
    "## Cumplimiento de demanda\n",
    "lp01 += x['11'] + x['21'] + x['31'] == 80\n",
    "lp01 += x['12'] + x['22'] + x['32'] == 70\n",
    "lp01 += x['13'] + x['23'] + x['33'] == 70\n",
    "lp01 += x['14'] + x['24'] + x['34'] == 80\n",
    "\n",
    "## Restricciones condicionales\n",
    "lp01 += x['11'] + x['12'] + x['13'] + x['14'] <= M * y[0]\n",
    "lp01 += x['21'] + x['22'] + x['23'] + x['24'] <= M * y[1]\n",
    "lp01 += x['31'] + x['32'] + x['33'] + x['34'] <= M * y[2]\n",
    "\n",
    "\n",
    "# Resolucion:\n",
    "lp01.solve()\n",
    "\n",
    "# Imprimimos el status del problema:\n",
    "print(pulp.LpStatus[lp01.status])\n",
    "\n",
    "# Imprimimos las variables en su valor óptimo:\n",
    "for variable in lp01.variables():\n",
    "    print(\"%s = %i\" % (variable.name, variable.varValue))\n",
    "    \n",
    "# Imprimimos el funcional óptimo:\n",
    "print(f'Función objetivo: {pulp.value(lp01.objective)}')"
   ]
  },
  {
   "cell_type": "code",
   "execution_count": null,
   "id": "3032f988",
   "metadata": {},
   "outputs": [],
   "source": []
  }
 ],
 "metadata": {
  "kernelspec": {
   "display_name": "Python 3",
   "language": "python",
   "name": "python3"
  },
  "language_info": {
   "codemirror_mode": {
    "name": "ipython",
    "version": 3
   },
   "file_extension": ".py",
   "mimetype": "text/x-python",
   "name": "python",
   "nbconvert_exporter": "python",
   "pygments_lexer": "ipython3",
   "version": "3.8.13"
  }
 },
 "nbformat": 4,
 "nbformat_minor": 5
}
