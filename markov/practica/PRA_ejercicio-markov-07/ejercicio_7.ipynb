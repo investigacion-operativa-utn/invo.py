{
 "cells": [
  {
   "cell_type": "markdown",
   "metadata": {},
   "source": [
    "---\n",
    "__Universidad Tecnológica Nacional, Buenos Aires__\\\n",
    "__Ingeniería Industrial__\\\n",
    "__Cátedra de Investigación Operativa__\\\n",
    "__Autor: Rodrigo Maranzana__, Rmaranzana@frba.utn.edu.ar\n",
    "\n",
    "---"
   ]
  },
  {
   "attachments": {},
   "cell_type": "markdown",
   "metadata": {},
   "source": [
    "# Ejercicio 7\n",
    "\n",
    "En el mercado, existen tres marcas líderes de café: A, B, C. En marzo se hizo una encuesta \n",
    "en lo que entrevistó a las 8450 personas que compran café y los resultados fueron:\n",
    "\n",
    "| Desde/Hasta| A | B  | C  |\n",
    "|--:|--:|---:|---:|\n",
    "| A |507|845 |338 |\n",
    "| B |676|2028|676|\n",
    "| C |845|845 |1690 |\n",
    "\n",
    "1. Si las compras se hacen mensualmente, ¿cuál será la distribución del mercado de café \n",
    "en el mes de junio?\n",
    "2. A la larga, ¿cómo se distribuirán los clientes en las distintas marcas?\n",
    "3. En junio, cual es la proporción de clientes leales a sus marcas?"
   ]
  },
  {
   "cell_type": "markdown",
   "metadata": {},
   "source": [
    "## Datos Iniciales"
   ]
  },
  {
   "cell_type": "markdown",
   "metadata": {},
   "source": [
    "Importamos las librerías necesarias."
   ]
  },
  {
   "cell_type": "code",
   "execution_count": 1,
   "metadata": {},
   "outputs": [],
   "source": [
    "import numpy as np"
   ]
  },
  {
   "cell_type": "markdown",
   "metadata": {},
   "source": [
    "Ingresamos el vector de estado inicial:"
   ]
  },
  {
   "cell_type": "code",
   "execution_count": 2,
   "metadata": {},
   "outputs": [
    {
     "name": "stdout",
     "output_type": "stream",
     "text": [
      "Vector de estado inicial: \n",
      "[0.2 0.4 0.4]\n"
     ]
    }
   ],
   "source": [
    "# Ingreso de vector de estado inicial absulto:\n",
    "p_0 = np.array([1690, 3380, 3380])\n",
    "\n",
    "# Relativizamos respecto a la suma de cada fila:\n",
    "p_0 = p_0 / sum(p_0) # Relativizar\n",
    "\n",
    "# Printeamos\n",
    "print(f'Vector de estado inicial: \\n{p_0}')"
   ]
  },
  {
   "cell_type": "markdown",
   "metadata": {},
   "source": [
    "Ingresamos los datos de la matriz de transición en una matriz numpy:"
   ]
  },
  {
   "cell_type": "code",
   "execution_count": 3,
   "metadata": {},
   "outputs": [
    {
     "name": "stdout",
     "output_type": "stream",
     "text": [
      "Matriz de transición: \n",
      "[[0.3  0.5  0.2 ]\n",
      " [0.2  0.6  0.2 ]\n",
      " [0.25 0.25 0.5 ]]\n"
     ]
    }
   ],
   "source": [
    "# Ingreso de matriz de transición absoluta:\n",
    "M_abs = np.array([[507, 845, 338], \n",
    "                  [676, 2028, 676], \n",
    "                  [845, 845, 1690]])\n",
    "\n",
    "\n",
    "# Relativizamos respecto a la suma de cada fila:\n",
    "T = np.dot(np.diag(1/np.sum(M_abs, axis=1)), M_abs)\n",
    "\n",
    "# Printeamos:\n",
    "print(f'Matriz de transición: \\n{T}')"
   ]
  },
  {
   "cell_type": "code",
   "execution_count": 4,
   "metadata": {},
   "outputs": [
    {
     "data": {
      "text/plain": [
       "array([[0.3 , 0.5 , 0.2 ],\n",
       "       [0.2 , 0.6 , 0.2 ],\n",
       "       [0.25, 0.25, 0.5 ]])"
      ]
     },
     "execution_count": 4,
     "metadata": {},
     "output_type": "execute_result"
    }
   ],
   "source": [
    "M_abs = np.array([[507, 845, 338], [676, 2028, 676], [845, 845, 1690]])\n",
    "T = np.zeros(M_abs.shape)\n",
    "for i in range(0, T.shape[0]):\n",
    "    T[i] = M_abs[i] / sum(M_abs[i])\n",
    "    \n",
    "T"
   ]
  },
  {
   "cell_type": "markdown",
   "metadata": {},
   "source": [
    "## Punto A: Distribución del mercado en junio"
   ]
  },
  {
   "cell_type": "markdown",
   "metadata": {},
   "source": [
    "En primer lugar, calculamos la matriz de transición habiendo pasado 3 meses desde Marzo: elevamos la matriz al cubo usando el método de la potencia de álgebra lineal de la librería Numpy."
   ]
  },
  {
   "cell_type": "code",
   "execution_count": 5,
   "metadata": {},
   "outputs": [
    {
     "name": "stdout",
     "output_type": "stream",
     "text": [
      "Matriz de transición a tiempo 3: \n",
      "[[0.237  0.485  0.278 ]\n",
      " [0.236  0.486  0.278 ]\n",
      " [0.2425 0.4525 0.305 ]]\n"
     ]
    }
   ],
   "source": [
    "# Primer punto: distribución en el mes de junio (3 meses desde marzo):\n",
    "# Matriz de transición de 3 meses:\n",
    "T_3 = np.linalg.matrix_power(T, 3)\n",
    "\n",
    "# Printeamos la matriz de transicion de 3 pasos:\n",
    "print(f'Matriz de transición a tiempo 3: \\n{T_3}')"
   ]
  },
  {
   "cell_type": "markdown",
   "metadata": {},
   "source": [
    "Calculamos: $ p_0 T^3 = p_3 $"
   ]
  },
  {
   "cell_type": "code",
   "execution_count": 6,
   "metadata": {},
   "outputs": [
    {
     "name": "stdout",
     "output_type": "stream",
     "text": [
      "Vector de probabilidades a t=3: \n",
      "[0.2388 0.4724 0.2888]\n"
     ]
    }
   ],
   "source": [
    "# Estado final a 3 meses:\n",
    "p_3 = np.dot(p_0, T_3)\n",
    "\n",
    "# Printeamos el vector de estado final:\n",
    "print(f'Vector de probabilidades a t=3: \\n{p_3}')"
   ]
  },
  {
   "cell_type": "markdown",
   "metadata": {},
   "source": [
    "## Punto B: Cálculo de estado estable:"
   ]
  },
  {
   "cell_type": "markdown",
   "metadata": {},
   "source": [
    "### Método con sistema de ecuaciones ya cargadas:\n",
    "Dado el siguiente sistema para encontrar el estado estable:\n",
    "$$\\pi T = \\pi$$\n",
    "$$ \\sum_i{\\pi_i} = 1$$\n",
    "\n",
    "Lo reordenamos y lo escribimos de la siguiente forma:\n",
    "$$ Ax = b $$"
   ]
  },
  {
   "cell_type": "markdown",
   "metadata": {},
   "source": [
    "Cargamos la Matriz A:"
   ]
  },
  {
   "cell_type": "code",
   "execution_count": 7,
   "metadata": {},
   "outputs": [
    {
     "name": "stdout",
     "output_type": "stream",
     "text": [
      "Matriz asociada al sistema lineal de ecuaciones: \n",
      "[[-0.7   0.2   0.25]\n",
      " [ 0.5  -0.4   0.25]\n",
      " [ 0.2   0.2  -0.5 ]\n",
      " [ 1.    1.    1.  ]]\n"
     ]
    }
   ],
   "source": [
    "# Matriz A:\n",
    "A = np.array([[-0.70, 0.20, 0.25],\n",
    "              [ 0.50,-0.40, 0.25],\n",
    "              [ 0.20, 0.20,-0.50],\n",
    "              [ 1.00, 1.00, 1.00]])\n",
    "\n",
    "# Printeamos A:\n",
    "print(f'Matriz asociada al sistema lineal de ecuaciones: \\n{A}')"
   ]
  },
  {
   "cell_type": "markdown",
   "metadata": {},
   "source": [
    "Cargamos el vector b:"
   ]
  },
  {
   "cell_type": "code",
   "execution_count": 8,
   "metadata": {},
   "outputs": [
    {
     "name": "stdout",
     "output_type": "stream",
     "text": [
      "Vector de términos independientes: \n",
      "[0 0 0 1]\n"
     ]
    }
   ],
   "source": [
    "# Vector B:\n",
    "B = np.array([0, 0, 0, 1])\n",
    "\n",
    "# Printeamos B:\n",
    "print(f'Vector de términos independientes: \\n{B}')"
   ]
  },
  {
   "cell_type": "markdown",
   "metadata": {},
   "source": [
    "Dado que el solver de numpy solamente admite sistemas lineales cuadrados por el algoritmo que usa para la resolución [1], debemos eliminar una de las filas (cualquiera) de la matriz homogénea y quedarnos con la fila relacionada a la ecuación $ \\sum_i{\\pi_i} = 1$.\n",
    "Hacemos lo mismo para el vector de términos independientes B.\n",
    "\n",
    "Para hacer esto usamos la función el método delete de numpy, indicando la posición a eliminar y el eje (axis) al que pertenece.\n",
    "\n",
    "\n",
    "[1] https://docs.scipy.org/doc/numpy-1.15.0/reference/generated/numpy.linalg.solve.html"
   ]
  },
  {
   "cell_type": "code",
   "execution_count": 9,
   "metadata": {},
   "outputs": [
    {
     "name": "stdout",
     "output_type": "stream",
     "text": [
      "Matriz asociada al sistema lineal de ecuaciones: \n",
      "[[ 0.5  -0.4   0.25]\n",
      " [ 0.2   0.2  -0.5 ]\n",
      " [ 1.    1.    1.  ]]\n",
      "\n",
      " -> Dimensión: (3, 3)\n"
     ]
    }
   ],
   "source": [
    "# Copio la matriz A original, para que no se modifique.\n",
    "A_s = A.copy() \n",
    "\n",
    "# Eliminamos la primer fila de la matriz A:\n",
    "A_s = np.delete(A_s, 0, 0)\n",
    "\n",
    "# Printeamos:\n",
    "print(f'Matriz asociada al sistema lineal de ecuaciones: \\n{A_s}')\n",
    "print(f'\\n -> Dimensión: {A_s.shape}')"
   ]
  },
  {
   "cell_type": "code",
   "execution_count": 10,
   "metadata": {},
   "outputs": [
    {
     "name": "stdout",
     "output_type": "stream",
     "text": [
      "\n",
      "Vector de términos independientes: \n",
      "[0 0 1]\n",
      "\n",
      " -> Dimensión: (3,)\n"
     ]
    }
   ],
   "source": [
    "# Copio el vector B original, para que no se modifique.\n",
    "B_s = B.copy() \n",
    "\n",
    "# Eliminamos la primera componente del vector B:\n",
    "B_s = np.delete(B_s, 0, 0)\n",
    "\n",
    "print(f'\\nVector de términos independientes: \\n{B_s}')\n",
    "print(f'\\n -> Dimensión: {B_s.shape}')"
   ]
  },
  {
   "cell_type": "markdown",
   "metadata": {},
   "source": [
    "Cumpliendo con un sistema cuadrado, usamos el método solve de numpy para obtener $x$ del sistema $Ax = B$"
   ]
  },
  {
   "cell_type": "code",
   "execution_count": 11,
   "metadata": {},
   "outputs": [
    {
     "name": "stdout",
     "output_type": "stream",
     "text": [
      "\n",
      " ** Vector solución de estado estable: \n",
      " [0.23809524 0.47619048 0.28571429]\n"
     ]
    }
   ],
   "source": [
    "x = np.linalg.solve(A_s, B_s)\n",
    "print('\\n ** Vector solución de estado estable: \\n %s' % x)"
   ]
  },
  {
   "cell_type": "markdown",
   "metadata": {},
   "source": [
    "### Forma alternativa 1: usando una matriz no cuadrada\n",
    "Como explicamos anteriormente no podemos usar el método $solve$ en matrices no cuadradas. En su lugar podemos usar el método de los mínimos cuadrados para aproximar la solución[2]. Este método no tiene restricciones en cuanto a la dimensión de la matriz.\n",
    "\n",
    "El desarrollo del método no forma parte de la materia, siendo contenido de Análisis Numérico y Cálculo Avanzado.\n",
    "\n",
    "[2] https://docs.scipy.org/doc/numpy/reference/generated/numpy.linalg.lstsq.html"
   ]
  },
  {
   "cell_type": "code",
   "execution_count": 12,
   "metadata": {},
   "outputs": [
    {
     "name": "stdout",
     "output_type": "stream",
     "text": [
      "\n",
      " ** Vector solución de estado estable: \n",
      " [0.23809524 0.47619048 0.28571429]\n"
     ]
    }
   ],
   "source": [
    "x_lstsq, _, _, _ = np.linalg.lstsq(A, B, rcond=None)\n",
    "print('\\n ** Vector solución de estado estable: \\n %s' % x_lstsq)"
   ]
  },
  {
   "cell_type": "markdown",
   "metadata": {},
   "source": [
    "### Forma alternativa 2: cargando directamente desde los datos"
   ]
  },
  {
   "cell_type": "markdown",
   "metadata": {},
   "source": [
    "En la resolución original, usamos una matriz A relacionada al sistema lineal de ecuaciones que resolvimos a mano. Ahora veremos otra forma de llegar a la solución solamente con los datos dados y tratamiento de matrices.\n",
    "\n",
    "Partiendo del sistema original: $\\pi T = \\pi$\n",
    "\n",
    "Despejando $\\pi$ obtenemos:\n",
    "\n",
    "$(T^T - I) \\pi^T = 0 $\n",
    "\n",
    "Podemos transformar lo anterior en la notación que usamos más arriba para que tenga consistencia:\n",
    "\n",
    "$A = (T^T - I)$\n",
    "\n",
    "$X = \\pi^T$\n",
    "\n",
    "$B = 0$\n",
    "\n",
    "Por lo tanto, llegamos a la misma expresión $Ax = B$"
   ]
  },
  {
   "cell_type": "markdown",
   "metadata": {},
   "source": [
    "Entonces, comenzamos calculando: $A = (T^T - I)$"
   ]
  },
  {
   "cell_type": "code",
   "execution_count": 13,
   "metadata": {},
   "outputs": [
    {
     "name": "stdout",
     "output_type": "stream",
     "text": [
      "\n",
      "T traspuesta: \n",
      "[[0.3  0.2  0.25]\n",
      " [0.5  0.6  0.25]\n",
      " [0.2  0.2  0.5 ]]\n",
      "\n",
      "Matriz A: \n",
      "[[-0.7   0.2   0.25]\n",
      " [ 0.5  -0.4   0.25]\n",
      " [ 0.2   0.2  -0.5 ]]\n"
     ]
    }
   ],
   "source": [
    "# Primero calculamos la traspuesta de la matriz de transición:\n",
    "Tt = np.transpose(T)\n",
    "\n",
    "print(f'\\nT traspuesta: \\n{Tt}')\n",
    "\n",
    "# Luego con calculamos la matriz A, sabiendo que es la traspuesta de T menos la identidad.\n",
    "A1 = Tt - np.identity(Tt.shape[0])\n",
    "\n",
    "print(f'\\nMatriz A: \\n{A1}')"
   ]
  },
  {
   "cell_type": "markdown",
   "metadata": {},
   "source": [
    "Seguimos con: $B = 0$"
   ]
  },
  {
   "cell_type": "code",
   "execution_count": 14,
   "metadata": {},
   "outputs": [
    {
     "name": "stdout",
     "output_type": "stream",
     "text": [
      "\n",
      "Vector B: \n",
      "[0. 0. 0.]\n"
     ]
    }
   ],
   "source": [
    "# El vector B, es un vector de ceros:\n",
    "B1 = np.zeros(3)\n",
    "\n",
    "print(f'\\nVector B: \\n{B1}')"
   ]
  },
  {
   "cell_type": "markdown",
   "metadata": {},
   "source": [
    "A partir de aca, simplemente aplicamos el método que ya sabemos. Agregamos la información correspondiente a: $\\sum_i{\\pi_i} = 1$. "
   ]
  },
  {
   "cell_type": "code",
   "execution_count": 15,
   "metadata": {},
   "outputs": [
    {
     "name": "stdout",
     "output_type": "stream",
     "text": [
      "Matriz A: \n",
      "[[-0.7   0.2   0.25]\n",
      " [ 0.5  -0.4   0.25]\n",
      " [ 0.2   0.2  -0.5 ]\n",
      " [ 1.    1.    1.  ]]\n"
     ]
    }
   ],
   "source": [
    "# Copio la matriz A1 original, para que no se modifique.\n",
    "A1_s = A1.copy() \n",
    "\n",
    "# Agregamos las probabilidades a la matriz A\n",
    "eq_suma_p = np.array([[1, 1, 1]])\n",
    "\n",
    "A1_s = np.concatenate((A1_s, eq_suma_p), axis=0)\n",
    "\n",
    "# Printeamos:\n",
    "print(f'Matriz A: \\n{A1_s}')"
   ]
  },
  {
   "cell_type": "code",
   "execution_count": 16,
   "metadata": {},
   "outputs": [
    {
     "name": "stdout",
     "output_type": "stream",
     "text": [
      "\n",
      "Vector B: \n",
      "[0. 0. 0. 1.]\n"
     ]
    }
   ],
   "source": [
    "# Copio el vector B1 original, para que no se modifique.\n",
    "B1_s = B1.copy() \n",
    "\n",
    "# Agregamos 1 al vector B:\n",
    "B1_s = np.append(B1_s, 1)\n",
    "\n",
    "# Printeamos:\n",
    "print(f'\\nVector B: \\n{B1_s}')"
   ]
  },
  {
   "cell_type": "markdown",
   "metadata": {},
   "source": [
    "Resolvemos por mínimos cuadrados:"
   ]
  },
  {
   "cell_type": "code",
   "execution_count": 17,
   "metadata": {},
   "outputs": [
    {
     "name": "stdout",
     "output_type": "stream",
     "text": [
      "\n",
      "Vector solución de estado estable: [0.23809524 0.47619048 0.28571429]\n"
     ]
    }
   ],
   "source": [
    "# Resolvemos con método de mínimos cuadrados:\n",
    "x_lstsq, _, _, _ = np.linalg.lstsq(A1_s, B1_s, rcond=None)\n",
    "\n",
    "# Printeamos la solucion:\n",
    "print(f'\\nVector solución de estado estable: {x_lstsq}')"
   ]
  },
  {
   "cell_type": "markdown",
   "metadata": {},
   "source": [
    "## Punto C: Clientes leales:"
   ]
  },
  {
   "cell_type": "markdown",
   "metadata": {},
   "source": [
    "Los clientes leales los podemos encontrar en la diagonal de la matriz de transicion de tres pasos $T^3$. En este caso estamos considerando clientes que dejaron la marca en pasos anteriores pero que volvieron al 3er mes."
   ]
  },
  {
   "cell_type": "code",
   "execution_count": 18,
   "metadata": {},
   "outputs": [
    {
     "name": "stdout",
     "output_type": "stream",
     "text": [
      "Clientes que elegirían la marca nuevamente en junio: \n",
      "[0.237 0.486 0.305]\n",
      "\n"
     ]
    }
   ],
   "source": [
    "# Tercer punto: clientes leales a sus marcas en junio:\n",
    "p_leal = np.diag(T_3)\n",
    "\n",
    "print(f'Clientes que elegirían la marca nuevamente en junio: \\n{p_leal}\\n')"
   ]
  },
  {
   "cell_type": "markdown",
   "metadata": {},
   "source": [
    "Una alternativa interesante, es ver solamente quienes quedaron en cada estado sin migrar. Es decir considerar solamente como leales a los que atravesaron todos los meses sin cambiar. En este caso, recalculamos $T^3$ pero con la diagonal de T:\n",
    "\n",
    "$T_{leal}^3 = [Diag(T)]^3$"
   ]
  },
  {
   "cell_type": "code",
   "execution_count": 19,
   "metadata": {},
   "outputs": [
    {
     "name": "stdout",
     "output_type": "stream",
     "text": [
      "Matriz de transición de clientes leales: \n",
      "[[0.3 0.  0. ]\n",
      " [0.  0.6 0. ]\n",
      " [0.  0.  0.5]]\n",
      "\n",
      "Distribución de clientes leales: \n",
      "[0.0054 0.0864 0.05  ]\n",
      "\n"
     ]
    }
   ],
   "source": [
    "# los clientes leales están ubicados sobre la diagonal de la matriz:\n",
    "T_leal = np.diag(np.diag(T))\n",
    "\n",
    "print(f'Matriz de transición de clientes leales: \\n{T_leal}\\n')\n",
    "# Vamos a t=3 solamente con los leales:\n",
    "T_leal_3 = np.linalg.matrix_power(T_leal, 3)\n",
    "\n",
    "# Los clientes leales a t=3 son los ubicados sobre la diagonal:\n",
    "prop_leales = np.dot(p_0, T_leal_3)\n",
    "print(f'Distribución de clientes leales: \\n{prop_leales}\\n')"
   ]
  },
  {
   "cell_type": "code",
   "execution_count": null,
   "metadata": {},
   "outputs": [],
   "source": []
  },
  {
   "cell_type": "code",
   "execution_count": null,
   "metadata": {},
   "outputs": [],
   "source": []
  }
 ],
 "metadata": {
  "kernelspec": {
   "display_name": "Python 3",
   "language": "python",
   "name": "python3"
  },
  "language_info": {
   "codemirror_mode": {
    "name": "ipython",
    "version": 3
   },
   "file_extension": ".py",
   "mimetype": "text/x-python",
   "name": "python",
   "nbconvert_exporter": "python",
   "pygments_lexer": "ipython3",
   "version": "3.8.5"
  },
  "toc": {
   "base_numbering": 1,
   "nav_menu": {},
   "number_sections": true,
   "sideBar": true,
   "skip_h1_title": true,
   "title_cell": "Table of Contents",
   "title_sidebar": "Contents",
   "toc_cell": false,
   "toc_position": {},
   "toc_section_display": true,
   "toc_window_display": false
  },
  "varInspector": {
   "cols": {
    "lenName": 16,
    "lenType": 16,
    "lenVar": 40
   },
   "kernels_config": {
    "python": {
     "delete_cmd_postfix": "",
     "delete_cmd_prefix": "del ",
     "library": "var_list.py",
     "varRefreshCmd": "print(var_dic_list())"
    },
    "r": {
     "delete_cmd_postfix": ") ",
     "delete_cmd_prefix": "rm(",
     "library": "var_list.r",
     "varRefreshCmd": "cat(var_dic_list()) "
    }
   },
   "types_to_exclude": [
    "module",
    "function",
    "builtin_function_or_method",
    "instance",
    "_Feature"
   ],
   "window_display": false
  }
 },
 "nbformat": 4,
 "nbformat_minor": 2
}
