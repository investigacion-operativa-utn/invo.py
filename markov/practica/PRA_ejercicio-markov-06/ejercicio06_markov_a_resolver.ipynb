{
  "nbformat": 4,
  "nbformat_minor": 0,
  "metadata": {
    "kernelspec": {
      "display_name": "Python 3",
      "language": "python",
      "name": "python3"
    },
    "language_info": {
      "codemirror_mode": {
        "name": "ipython",
        "version": 3
      },
      "file_extension": ".py",
      "mimetype": "text/x-python",
      "name": "python",
      "nbconvert_exporter": "python",
      "pygments_lexer": "ipython3",
      "version": "3.8.5"
    },
    "colab": {
      "name": "ioperativ_clase04_ejercicio06_markov_a_resolver.ipynb",
      "provenance": []
    }
  },
  "cells": [
    {
      "cell_type": "markdown",
      "metadata": {
        "id": "XN-8hEftfgeF"
      },
      "source": [
        "**Universidad Tecnologica Nacional - Facultad Buenos Aires** <br>\n",
        "**Ingenieria Industrial**<br>\n",
        "**Investigacion Operativa** <br>\n",
        "**Tema: Markov Ejercicio 6 <br>**\n",
        "**Elaborado por: Juan Piro** <br>\n",
        "Curso I4051 (Palazzo)<br>"
      ]
    },
    {
      "cell_type": "markdown",
      "metadata": {
        "id": "XzjQz0PffgeQ"
      },
      "source": [
        "# Ejercicio 06 - Practica Cadenas de Markov"
      ]
    },
    {
      "cell_type": "markdown",
      "metadata": {
        "id": "rMNSCiOffgeQ"
      },
      "source": [
        "**Consigna**\n",
        "\n",
        "En una comunidad hay 3 supermercados (S1, S2, S3) existe la movilidad de un cliente de uno a otro. El 1 de septiembre, 1/4 de los clientes va al S1, 1/3 al S2 y 5/12 al S3 de un total de 10.000 personas. Cada mes el S1 retiene el 90 % de sus clientes y pierde el 10 % que se va al S2. Se averiguó que el S2 solo retiene el 5 % y pierde el 85 % que va a S1 y el resto se va a S3, el S3 retiene solo el 40 %, pierde el 50 % que va al S1 y el 10 % va al S2.\n",
        "\n",
        "1. Establecer la matriz de transición\n",
        "2. ¿Cuál es la proporción de clientes para los supermercados el 1 de noviembre?\n",
        "3. Hallar el vector de probabilidad estable.\n"
      ]
    },
    {
      "cell_type": "markdown",
      "metadata": {
        "id": "4WlKt-3zfgeR"
      },
      "source": [
        "Guia de Ejercicios & GitHub: https://github.com/investigacion-operativa/pyOperativ"
      ]
    },
    {
      "cell_type": "markdown",
      "metadata": {
        "id": "QTQIA0vAfgeS"
      },
      "source": [
        "Guia Python Markov realizada por Gabriel Boso:https://github.com/investigacion-operativa/pyOperativ/blob/main/04_markov/casos_codigo/ioperativ_clase03_markov_ejercicio3.ipynb"
      ]
    },
    {
      "cell_type": "markdown",
      "metadata": {
        "id": "QtdoYKShfgeS"
      },
      "source": [
        "## **Resolucion:**"
      ]
    },
    {
      "cell_type": "markdown",
      "metadata": {
        "id": "KJUJGhPyfgeT"
      },
      "source": [
        "**Importamos las Librerías:**"
      ]
    },
    {
      "cell_type": "code",
      "metadata": {
        "id": "P2eozIs-fgeT"
      },
      "source": [
        "# Importa la librerias que creas necesarias para trabajar.\n",
        "# Recorda importal aquella utilizada para realizar calculos matriciales"
      ],
      "execution_count": null,
      "outputs": []
    },
    {
      "cell_type": "markdown",
      "metadata": {
        "id": "MRi56Lp9fgeU"
      },
      "source": [
        "#### **Analizamos los datos:**"
      ]
    },
    {
      "cell_type": "markdown",
      "metadata": {
        "id": "TxI_exxofgeU"
      },
      "source": [
        "***Consigna -*** Dada la oracion ***El 1 de septiembre, 1/4 de los clientes va al S1, 1/3 al S2 y 5/12 al S3 de un total de 10.000 personas.***"
      ]
    },
    {
      "cell_type": "markdown",
      "metadata": {
        "id": "yp2xitEtfgeU"
      },
      "source": [
        "Generar el vector probabilidad de estado incial al 1 de Septiembre:"
      ]
    },
    {
      "cell_type": "code",
      "metadata": {
        "id": "dBIqX6nxfgeV"
      },
      "source": [
        "#Aca escribi como seria el vector [p0]\n",
        "#Mostra el resultado por cada uno de los supermercados\n",
        "\n",
        "\n"
      ],
      "execution_count": null,
      "outputs": []
    },
    {
      "cell_type": "markdown",
      "metadata": {
        "id": "8abReIAefgeV"
      },
      "source": [
        "# 1. Establecer la matriz de transición"
      ]
    },
    {
      "cell_type": "markdown",
      "metadata": {
        "id": "UqCAR5bcfgeV"
      },
      "source": [
        "Teniendo en cuenta el parrafo: \n",
        "***Cada mes el S1 retiene el 90 % de sus clientes y pierde el 10 % que se va al S2. Se averiguó que el S2 solo retiene el 5 % y pierde el 85 % que va a S1 y el resto se va a S3, el S3 retiene solo el 40 %, pierde el 50 % que va al S1 y el 10 % va al S2.*** \n"
      ]
    },
    {
      "cell_type": "markdown",
      "metadata": {
        "id": "BrSvXoGMfgeW"
      },
      "source": [
        "Generar la Matriz de Transicion de un paso:"
      ]
    },
    {
      "cell_type": "code",
      "metadata": {
        "id": "rEINskQ3fgeW"
      },
      "source": [
        "#Aca escribi como seria la Matriz de Transicion de un paso [P]\n",
        "\n",
        "\n",
        "\n"
      ],
      "execution_count": null,
      "outputs": []
    },
    {
      "cell_type": "markdown",
      "metadata": {
        "id": "6TZryBbxfgeW"
      },
      "source": [
        "**Al haber obtenido la Matriz de Transicion de un paso, hemos respondido la pregunta 1.**"
      ]
    },
    {
      "cell_type": "markdown",
      "metadata": {
        "id": "YWHku6qSfgeW"
      },
      "source": [
        "# 2. ¿Cuál es la proporción de clientes para los supermercados el 1 de Noviembre?\n",
        "Cuando decimos la proporcion del clientes al 1 de Noviembre, lo que queremos averiguar es el vector probabilidad de estado en tal fecha. Vamos a considerar dos saltos entre el 1 de Septiembre al 1 de Noviembre es decir, n=2."
      ]
    },
    {
      "cell_type": "markdown",
      "metadata": {
        "id": "Tk3YxhrBfgeX"
      },
      "source": [
        "Para calcular el vector probabilidad de estado al 1 de Noviembre, necesitamos el vector probabilidad de estado incial **[p0]** y la Matriz de Transicion de dos pasos **[P2]**."
      ]
    },
    {
      "cell_type": "code",
      "metadata": {
        "id": "tv4kveq7fgeX"
      },
      "source": [
        "# Aca escribi como obtener la Matriz de Transicion de dos pasos [P2] a partir de la Matriz de Transicion de un paso [P0] \n",
        "\n",
        "\n",
        "\n"
      ],
      "execution_count": null,
      "outputs": []
    },
    {
      "cell_type": "markdown",
      "metadata": {
        "id": "ioTAWWQifgeY"
      },
      "source": [
        "Una vez que tengamos Matriz de Transicion de dos pasos [P2], podemos calcular el vector probabilidad de estado al primero de Noviembre (n=2) **[p2]**"
      ]
    },
    {
      "cell_type": "code",
      "metadata": {
        "id": "6J8WtSk7fgeY"
      },
      "source": [
        "# Aca escribi como obtener el vector de probabilidad de estado al primero de Noviembre [p2].\n",
        "# Mostra el resultado por cada uno de los supermercados\n",
        "\n",
        "\n",
        "\n"
      ],
      "execution_count": null,
      "outputs": []
    },
    {
      "cell_type": "markdown",
      "metadata": {
        "id": "DT4W7BFefgeY"
      },
      "source": [
        "# 3. Hallar el vector de probabilidad estable.\n",
        "Para hallar el vector de probabilidad estable, necesitamos calcular el vector de probabilidad de estado valuado en un N infito, es decir p(n)."
      ]
    },
    {
      "cell_type": "markdown",
      "metadata": {
        "id": "txnJC0wGfgeY"
      },
      "source": [
        "Tambien recordamos que una de las posibles formas de calcular pn es:\n"
      ]
    },
    {
      "cell_type": "markdown",
      "metadata": {
        "id": "9KH2HYnzfgeZ"
      },
      "source": [
        "Para resolver este punto podes guiarte por el Ejercicio 5 resuelto por Rodrigo Maranzana:"
      ]
    },
    {
      "cell_type": "markdown",
      "metadata": {
        "id": "lLSE4Cy4fgeZ"
      },
      "source": [
        "https://github.com/investigacion-operativa/pyOperativ/blob/main/04_markov/casos_codigo/clase05_ejercicios_codigo/ejercicio_5.ipynb"
      ]
    },
    {
      "cell_type": "markdown",
      "metadata": {
        "id": "_qVX2tqMfgea"
      },
      "source": [
        "### ***pn=pn x P0***"
      ]
    },
    {
      "cell_type": "markdown",
      "metadata": {
        "id": "TiefbBOjfgea"
      },
      "source": [
        "Abriendo pn:\n"
      ]
    },
    {
      "cell_type": "markdown",
      "metadata": {
        "id": "Tad0AX13fgea"
      },
      "source": [
        "### **[ps1,ps2,ps3]=[ps1,ps2,ps3] x [P0]**"
      ]
    },
    {
      "cell_type": "markdown",
      "metadata": {
        "id": "29mGAQfMfgea"
      },
      "source": [
        "De esta manera obtenemos un sistema de ecuaciones compatible indeterminado, para salvar esto, debemos utilizar una cuarta ecuacion:"
      ]
    },
    {
      "cell_type": "markdown",
      "metadata": {
        "id": "22BCRdoNfgea"
      },
      "source": [
        "### **Σ p = 1**"
      ]
    },
    {
      "cell_type": "markdown",
      "metadata": {
        "id": "OqRVanETfgeb"
      },
      "source": [
        "### **ps1 + ps2 + ps3 = 1**"
      ]
    },
    {
      "cell_type": "code",
      "metadata": {
        "id": "paPYRiYQfgeb"
      },
      "source": [
        "# Aca escribi como generar la matriz A y vector B para resolver el sistema de ecuaciones:\n",
        "\n",
        "\n",
        "\n"
      ],
      "execution_count": null,
      "outputs": []
    },
    {
      "cell_type": "code",
      "metadata": {
        "id": "d0iPB92Cfgeb"
      },
      "source": [
        "# Aca genera la cuarta ecuacion como un vector y concatenala a la Matriz A:\n",
        "\n",
        "\n",
        "\n"
      ],
      "execution_count": null,
      "outputs": []
    },
    {
      "cell_type": "code",
      "metadata": {
        "id": "fq7O_zFJfgec"
      },
      "source": [
        "# Utilizando la funcion np.linalg.lstsq resolve el sistema de ecuaciones planteado:\n",
        "# Imprimi la solucion del sistema:\n",
        "\n",
        "\n"
      ],
      "execution_count": null,
      "outputs": []
    }
  ]
}