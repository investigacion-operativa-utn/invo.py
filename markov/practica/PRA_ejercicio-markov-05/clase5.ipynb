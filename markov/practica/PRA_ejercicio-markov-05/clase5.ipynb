{
 "cells": [
  {
   "cell_type": "markdown",
   "metadata": {},
   "source": [
    "---\n",
    "__Universidad Tecnológica Nacional, Buenos Aires__\\\n",
    "__Ingeniería Industrial__\\\n",
    "__Cátedra de Investigación Operativa__\\\n",
    "__Autor: Rodrigo Maranzana__, Rmaranzana@frba.utn.edu.ar\n",
    "\n",
    "---"
   ]
  },
  {
   "cell_type": "markdown",
   "metadata": {},
   "source": [
    "# Ejercicios Markov clase 5"
   ]
  },
  {
   "cell_type": "code",
   "execution_count": 1,
   "metadata": {},
   "outputs": [],
   "source": [
    "import numpy as np"
   ]
  },
  {
   "cell_type": "markdown",
   "metadata": {},
   "source": [
    "## Ejercicio 7\n",
    "\n",
    "Los consumidores de café en el área de Pontevedra usan tres marcas A, B, C. En marzo de 2016 se hizo una encuesta en lo que entrevistó a las 8450 personas que compran café y los resultados fueron:\n",
    "\n",
    "| Desde/Hasta| A | B  | C  |\n",
    "|--:|--:|---:|---:|\n",
    "| A |507|845 |338 |\n",
    "| B |676|2028|676|\n",
    "| C |845|845 |1690 |\n",
    "\n",
    "* Si las compras se hacen mensualmente, ¿cuál será la distribución del mercado de café en Pontevedra en el mes de junio?\n",
    "* A la larga, ¿cómo se distribuirán los clientes de café?\n",
    "* En junio, cual es la proporción de clientes leales a sus marcas de café?"
   ]
  },
  {
   "cell_type": "code",
   "execution_count": 2,
   "metadata": {},
   "outputs": [
    {
     "name": "stdout",
     "output_type": "stream",
     "text": [
      "Vector de estado a t=0: \n",
      " [0.2 0.4 0.4] \n",
      "\n",
      "Matriz de transición: \n",
      " [[0.3  0.5  0.2 ]\n",
      " [0.2  0.6  0.2 ]\n",
      " [0.25 0.25 0.5 ]] \n",
      "\n"
     ]
    }
   ],
   "source": [
    "# Ingreso de vector de estado inicial:\n",
    "p_0 = np.array([1690, 3380, 3380])\n",
    "p_0 = p_0 / sum(p_0) # Relativizar\n",
    "print('Vector de estado a t=0: \\n %s \\n' %p_0)\n",
    "\n",
    "# Ingreso de matriz de transición:\n",
    "M_abs = np.array([[507, 845, 338], [676, 2028, 676], [845, 845, 1690]])\n",
    "T = np.zeros(M_abs.shape)\n",
    "for i in range(0, T.shape[0]):\n",
    "    T[i] = M_abs[i] / sum(M_abs[i])\n",
    "     \n",
    "print('Matriz de transición: \\n %s \\n' %T)"
   ]
  },
  {
   "cell_type": "code",
   "execution_count": 3,
   "metadata": {},
   "outputs": [
    {
     "name": "stdout",
     "output_type": "stream",
     "text": [
      "Vector de probabilidades a t=3: \n",
      " [0.2388 0.4724 0.2888] \n",
      "\n"
     ]
    }
   ],
   "source": [
    "# Primer punto: distribución en el mes de junio (3 meses desde marzo):\n",
    "# Matriz de transición de 3 meses:\n",
    "T_3 = np.linalg.matrix_power(T, 3)\n",
    "\n",
    "# Estado final a 3 meses:\n",
    "p_3 = np.dot(p_0, T_3)\n",
    "print('Vector de probabilidades a t=3: \\n %s \\n' %p_3)"
   ]
  },
  {
   "cell_type": "code",
   "execution_count": 4,
   "metadata": {},
   "outputs": [
    {
     "name": "stdout",
     "output_type": "stream",
     "text": [
      "Matriz A relacionada al sistema lineal de ecuaciones: \n",
      " [[-0.7   0.2   0.25]\n",
      " [ 0.5  -0.4   0.25]\n",
      " [ 0.2   0.2  -0.5 ]] \n",
      "\n",
      "Vector B relacionado al sistema lineal de ecuaciones: \n",
      " [0. 0. 0.] \n",
      "\n",
      "Matriz A: \n",
      " [[-0.7   0.2   0.25]\n",
      " [ 0.5  -0.4   0.25]\n",
      " [ 0.2   0.2  -0.5 ]\n",
      " [ 1.    1.    1.  ]] \n",
      "\n",
      "Vector B: \n",
      " [0. 0. 0. 1.] \n",
      "\n",
      "Solución del sistema lineal de ecuaciones: \n",
      " [0.23809524 0.47619048 0.28571429] \n",
      "\n"
     ]
    },
    {
     "name": "stderr",
     "output_type": "stream",
     "text": [
      "c:\\users\\m_a_r\\appdata\\local\\programs\\python\\python36\\lib\\site-packages\\ipykernel_launcher.py:18: FutureWarning: `rcond` parameter will change to the default of machine precision times ``max(M, N)`` where M and N are the input matrix dimensions.\n",
      "To use the future default and silence this warning we advise to pass `rcond=None`, to keep using the old, explicitly pass `rcond=-1`.\n"
     ]
    }
   ],
   "source": [
    "# Segundo punto: cálculo de estado estable:\n",
    "# Lo calculamos a través de las fórmulas (T' - I)pi = 0, sum(pi) = 1\n",
    "\n",
    "# Construir matriz A y vector B:\n",
    "A = (np.transpose(T) - np.identity(T.shape[0]))\n",
    "print('Matriz A relacionada al sistema lineal de ecuaciones: \\n %s \\n' %A)\n",
    "B = np.zeros(T.shape[0])\n",
    "print('Vector B relacionado al sistema lineal de ecuaciones: \\n %s \\n' %B)\n",
    "\n",
    "# Agregar sumatoria de probabilidades:\n",
    "adicional = np.array([[1, 1, 1]])\n",
    "A = np.concatenate((A, adicional), axis=0)\n",
    "print('Matriz A: \\n %s \\n' %A)\n",
    "B = np.append(B, 1)\n",
    "print('Vector B: \\n %s \\n' %B)\n",
    "\n",
    "# Resolvemos por mínimos cuadrados:\n",
    "X, _, _, _ = np.linalg.lstsq(A, B)\n",
    "print('Solución del sistema lineal de ecuaciones: \\n %s \\n' %X)"
   ]
  },
  {
   "cell_type": "code",
   "execution_count": 5,
   "metadata": {},
   "outputs": [
    {
     "name": "stdout",
     "output_type": "stream",
     "text": [
      "Clientes que elegirían la marca nuevamente en junio: \n",
      " [0.237 0.486 0.305] \n",
      "\n",
      "Matriz de transición de clientes leales: \n",
      " [[0.3 0.  0. ]\n",
      " [0.  0.6 0. ]\n",
      " [0.  0.  0.5]] \n",
      "\n",
      "Distribución de clientes leales: \n",
      " [0.0054 0.0864 0.05  ] \n",
      "\n"
     ]
    }
   ],
   "source": [
    "# Tercer punto: clientes leales a sus marcas en junio:\n",
    "p_leal = np.diag(T_3)\n",
    "print('Clientes que elegirían la marca nuevamente en junio: \\n %s \\n' % p_leal)\n",
    "\n",
    "# Interesante alternativa (clientes que solo quedaron en cada nodo):\n",
    "# los clientes leales están ubicados sobre la diagonal de la matriz:\n",
    "T_leal = np.diag(np.diag(T))\n",
    "print('Matriz de transición de clientes leales: \\n %s \\n' % T_leal)\n",
    "\n",
    "# Vamos a t=3 solamente con los leales:\n",
    "T_leal_3 = np.linalg.matrix_power(T_leal, 3)\n",
    "# Los clientes leales a t=3 son los ubicados sobre la diagonal:\n",
    "prop_leales = np.dot(p_0, T_leal_3)\n",
    "print('Distribución de clientes leales: \\n %s \\n' % prop_leales)"
   ]
  },
  {
   "cell_type": "markdown",
   "metadata": {},
   "source": [
    "## Ejercicio 8"
   ]
  },
  {
   "cell_type": "code",
   "execution_count": 6,
   "metadata": {},
   "outputs": [
    {
     "name": "stdout",
     "output_type": "stream",
     "text": [
      "Vector de estado a t=0: \n",
      " [0.6 0.4] \n",
      "\n",
      "Matriz de transición: \n",
      " [[0.7  0.3 ]\n",
      " [0.25 0.75]] \n",
      "\n"
     ]
    }
   ],
   "source": [
    "# Ingreso de vector inicial:\n",
    "p_0 = np.array([0.6, 0.4])\n",
    "print('Vector de estado a t=0: \\n %s \\n' %p_0)\n",
    "\n",
    "# Ingreso de matriz de transición:\n",
    "T = np.array([[0.7, 0.3], [0.25, 0.75]])\n",
    "print('Matriz de transición: \\n %s \\n' %T)"
   ]
  },
  {
   "cell_type": "code",
   "execution_count": 7,
   "metadata": {},
   "outputs": [
    {
     "name": "stdout",
     "output_type": "stream",
     "text": [
      "Matriz de transición a t=3: \n",
      " [[0.50425  0.49575 ]\n",
      " [0.413125 0.586875]] \n",
      "\n",
      "Vector de probabilidades a t=3: \n",
      " [0.4678 0.5322] \n",
      "\n"
     ]
    }
   ],
   "source": [
    "# a) \n",
    "# Matriz de transición en 3 pasos:\n",
    "T_3 = np.linalg.matrix_power(T, 3)\n",
    "print('Matriz de transición a t=3: \\n %s \\n' %T_3)\n",
    "\n",
    "# Distribución en t=3:\n",
    "p_3 = np.dot(p_0, T_3)\n",
    "print('Vector de probabilidades a t=3: \\n %s \\n' %p_3)"
   ]
  },
  {
   "cell_type": "code",
   "execution_count": 8,
   "metadata": {},
   "outputs": [
    {
     "name": "stdout",
     "output_type": "stream",
     "text": [
      "Matriz de transición a t=2: \n",
      " [[0.565  0.435 ]\n",
      " [0.3625 0.6375]] \n",
      "\n",
      "Probabilidad de consumir D: \n",
      " 0.3625 \n",
      "\n"
     ]
    }
   ],
   "source": [
    "# b) Si consume B, probabilidad de consumir D pasadas dos compras:\n",
    "# Matriz de transición a 2 pasos:\n",
    "T_2 = np.linalg.matrix_power(T, 2)\n",
    "print('Matriz de transición a t=2: \\n %s \\n' %T_2)\n",
    "\n",
    "# Distrubición a t=2:\n",
    "p_0_b = np.array([0, 1])\n",
    "p_2 = np.dot(p_0_b, T_2)\n",
    "D_proba_2 = p_2[0]\n",
    "print('Probabilidad de consumir D: \\n %s \\n' % D_proba_2)"
   ]
  },
  {
   "cell_type": "code",
   "execution_count": 9,
   "metadata": {},
   "outputs": [
    {
     "name": "stdout",
     "output_type": "stream",
     "text": [
      "Matriz de transición a t=4: \n",
      " [[0.4769125  0.5230875 ]\n",
      " [0.43590625 0.56409375]] \n",
      "\n",
      "Vector de probabilidades a t=4: \n",
      " [0.46051 0.53949] \n",
      "\n"
     ]
    }
   ],
   "source": [
    "# c) \n",
    "# Matriz de transición en 4 pasos:\n",
    "T_4 = np.linalg.matrix_power(T, 4)\n",
    "print('Matriz de transición a t=4: \\n %s \\n' %T_4)\n",
    "\n",
    "# Distribución en t=4:\n",
    "p_4 = np.dot(p_0, T_4)\n",
    "print('Vector de probabilidades a t=4: \\n %s \\n' %p_4)"
   ]
  },
  {
   "cell_type": "code",
   "execution_count": 10,
   "metadata": {},
   "outputs": [
    {
     "name": "stdout",
     "output_type": "stream",
     "text": [
      "Probabilidad de consumir B: \n",
      " 0.4957499999999999 \n",
      "\n"
     ]
    }
   ],
   "source": [
    "# d) Si consume D, probabilidad de consumir B pasadas tres compras:\n",
    "# Distrubición a t=3:\n",
    "p_0_d = np.array([1, 0])\n",
    "p_3 = np.dot(p_0_d, T_3)\n",
    "B_proba_3 = p_3[1]\n",
    "print('Probabilidad de consumir B: \\n %s \\n' % B_proba_3)"
   ]
  },
  {
   "cell_type": "code",
   "execution_count": 16,
   "metadata": {},
   "outputs": [
    {
     "name": "stdout",
     "output_type": "stream",
     "text": [
      "Matriz de transición a t=5: \n",
      " [[0.46461062 0.53538937]\n",
      " [0.44615781 0.55384219]] \n",
      "\n",
      "Probabilidad de consumir B: \n",
      " 0.5538421874999999 \n",
      "\n"
     ]
    }
   ],
   "source": [
    "# e) Si consume B, probabilidad de consumir B pasadas cinco compras:\n",
    "# Matriz de transición en 5 pasos:\n",
    "T_5 = np.linalg.matrix_power(T, 5)\n",
    "print('Matriz de transición a t=5: \\n %s \\n' %T_5)\n",
    "\n",
    "# Distrubición a t=5:\n",
    "p_5 = np.dot(p_0_b, T_5)\n",
    "B_proba_5 = p_5[1]\n",
    "print('Probabilidad de consumir B: \\n %s \\n' % B_proba_5)"
   ]
  },
  {
   "cell_type": "code",
   "execution_count": 12,
   "metadata": {},
   "outputs": [
    {
     "name": "stdout",
     "output_type": "stream",
     "text": [
      "Estado en 999 iteraciones arbitrarias: \n",
      " [0.45454545 0.54545455] \n",
      "\n",
      "Estado estacionario: [0.45459498 0.54540502] alcanzado en 11 iteraciones \n",
      "\n"
     ]
    }
   ],
   "source": [
    "# f) cálculo de estado estable:\n",
    "\n",
    "# Método 1: vector de estado en un 'n' grande:\n",
    "# 1.1) n arbitrario:\n",
    "\n",
    "n = 999\n",
    "T_n = np.linalg.matrix_power(T, n)\n",
    "p_n = T_n[0]\n",
    "print('Estado en %i iteraciones arbitrarias: \\n %s \\n' % (n, p_n))\n",
    "\n",
    "# 1.2) n por tolerancia:\n",
    "tol = 10e-5\n",
    "\n",
    "# inicializamos:\n",
    "e = 999\n",
    "contador = 1\n",
    "p_i = p_0\n",
    "# mientras el error sea mayor a la tolerancia:\n",
    "while e > tol:\n",
    "    # calculamos el estado siguiente:\n",
    "    p_imas1 = np.dot(p_i, T)\n",
    "    # calculamos la diferencia entre estados:\n",
    "    dif = p_imas1 - p_i\n",
    "    # calculamos la norma del error:\n",
    "    e = np.linalg.norm(dif)\n",
    "    # actualizamos p_i y el contador de estados\n",
    "    p_i = p_imas1\n",
    "    contador += 1\n",
    "    \n",
    "print('Estado estacionario: %s alcanzado en %i iteraciones \\n' % (p_i, contador))"
   ]
  },
  {
   "cell_type": "code",
   "execution_count": 13,
   "metadata": {},
   "outputs": [
    {
     "name": "stdout",
     "output_type": "stream",
     "text": [
      "Solución del sistema lineal de ecuaciones: \n",
      " [0.45454545 0.54545455] \n",
      "\n"
     ]
    }
   ],
   "source": [
    "# Método 2: sistema de ecuaciones a partir de Chapman-Kolmogorov\n",
    "\n",
    "# Matriz de sistema de ecuaciones:\n",
    "A = np.array([[-0.3, 0.25], [1, 1]])\n",
    "B = np.array([0, 1])\n",
    "\n",
    "# Solución:\n",
    "X = np.linalg.solve(A, B)\n",
    "\n",
    "print('Solución del sistema lineal de ecuaciones: \\n %s \\n' %X)"
   ]
  },
  {
   "cell_type": "code",
   "execution_count": 14,
   "metadata": {},
   "outputs": [
    {
     "name": "stdout",
     "output_type": "stream",
     "text": [
      "Solución del sistema lineal de ecuaciones: \n",
      " [0.54545455 0.45454545] \n",
      "\n"
     ]
    }
   ],
   "source": [
    "# Método 3: Por flujo probabilístico:\n",
    "# Para el nodo D llegamos al sistema (ver resolución en apunte):\n",
    "sist_flujo = np.array([[0.25, -0.3], [1, 1]])\n",
    "ind_flujo = np.array([0, 1])\n",
    "\n",
    "# Resolvemos:\n",
    "pi = np.linalg.solve(sist_flujo, ind_flujo)\n",
    "\n",
    "print('Solución del sistema lineal de ecuaciones: \\n %s \\n' %pi)"
   ]
  },
  {
   "cell_type": "code",
   "execution_count": 15,
   "metadata": {},
   "outputs": [
    {
     "name": "stdout",
     "output_type": "stream",
     "text": [
      "A = T - I: \n",
      " [[-0.3   0.3 ]\n",
      " [ 0.25 -0.25]] \n",
      "\n",
      "B: \n",
      " [0. 0.] \n",
      "\n",
      "Matriz A modificada: \n",
      " [[-0.3   1.  ]\n",
      " [ 0.25  1.  ]] \n",
      "\n",
      "Vector B modificado: \n",
      " [0. 1.] \n",
      "\n",
      "Inversa de A: \n",
      " [[-1.81818182  1.81818182]\n",
      " [ 0.45454545  0.54545455]] \n",
      "\n",
      "Solución del sistema lineal de ecuaciones: \n",
      " [0.45454545 0.54545455] \n",
      "\n"
     ]
    }
   ],
   "source": [
    "# Método 4: Lo calculamos a través de las fórmulas pi(T - I) = 0, sum(pi) = 1\n",
    "\n",
    "# Construir matriz A y vector B:\n",
    "A = (T - np.identity(T.shape[0]))\n",
    "print('A = T - I: \\n %s \\n' %A)\n",
    "B = np.zeros(T.shape[0])\n",
    "print('B: \\n %s \\n' %B)\n",
    "\n",
    "# Agregar sumatoria de probabilidades:\n",
    "adicional = np.array([1, 1]).transpose()\n",
    "A[:, 1] = adicional\n",
    "print('Matriz A modificada: \\n %s \\n' %A)\n",
    "B[1] = 1\n",
    "print('Vector B modificado: \\n %s \\n' %B)\n",
    "\n",
    "# Inversa de la matriz A:\n",
    "A_inv = np.linalg.inv(A)\n",
    "print('Inversa de A: \\n %s \\n' %A_inv)\n",
    "\n",
    "# Resolvemos por mínimos cuadrados:\n",
    "pi = np.dot(B, A_inv)\n",
    "print('Solución del sistema lineal de ecuaciones: \\n %s \\n' %pi)"
   ]
  },
  {
   "cell_type": "code",
   "execution_count": null,
   "metadata": {},
   "outputs": [],
   "source": []
  }
 ],
 "metadata": {
  "kernelspec": {
   "display_name": "Python 3",
   "language": "python",
   "name": "python3"
  },
  "language_info": {
   "codemirror_mode": {
    "name": "ipython",
    "version": 3
   },
   "file_extension": ".py",
   "mimetype": "text/x-python",
   "name": "python",
   "nbconvert_exporter": "python",
   "pygments_lexer": "ipython3",
   "version": "3.8.5"
  }
 },
 "nbformat": 4,
 "nbformat_minor": 2
}
