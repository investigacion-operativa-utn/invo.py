{
 "cells": [
  {
   "cell_type": "markdown",
   "metadata": {},
   "source": [
    "---\n",
    "__Universidad Tecnológica Nacional, Buenos Aires__\\\n",
    "__Ingeniería Industrial__\\\n",
    "__Cátedra de Investigación Operativa__\\\n",
    "__Autor: Rodrigo Maranzana__, Rmaranzana@frba.utn.edu.ar\n",
    "\n",
    "---"
   ]
  },
  {
   "cell_type": "markdown",
   "metadata": {},
   "source": [
    "# Ejercicio 5"
   ]
  },
  {
   "cell_type": "markdown",
   "metadata": {},
   "source": [
    "La cervecería más importante del mundo (Guiness) ha contratado a un analista de investigación de operaciones para analizar su posición en el mercado. Están preocupados en especial por su mayor competidor (Heineken). El analista piensa que el cambio de marca se puede modelar como una cadena de Markov incluyendo tres estados, los estados *G* y *H* representan a los clientes que beben cerveza producida por las mencionadas cervecerías y el estado *I* representa todas las demás marcas. Los datos se toman cada mes y el analista ha construido la siguiente matriz de transición de los datos históricos.\n",
    "\n",
    "| /| G | H  | I  |\n",
    "|--:|--:|---:|---:|\n",
    "| G |0.7|0.2 |0.1 |\n",
    "| H |0.2|0.75|0.05|\n",
    "| I |0.1|0.1 |0.8 |\n"
   ]
  },
  {
   "cell_type": "markdown",
   "metadata": {},
   "source": [
    "## Resolución"
   ]
  },
  {
   "cell_type": "markdown",
   "metadata": {},
   "source": [
    "Importamos las librerías que vamos a usar:"
   ]
  },
  {
   "cell_type": "code",
   "execution_count": 8,
   "metadata": {},
   "outputs": [],
   "source": [
    "import numpy as np\n",
    "import warnings\n",
    "warnings.filterwarnings('ignore')"
   ]
  },
  {
   "cell_type": "markdown",
   "metadata": {},
   "source": [
    "Cargamos la Matriz de transición T con la librería *Numpy*. \n",
    "\n",
    "Recordemos que lo tenemos que hacer de la siguiente forma: armamos una \"lista de listas\". Lo que estamos creando es una Matriz, donde cada lista es una fila. Luego, esto lo convertimos en un array de *Numpy* ya que nos"
   ]
  },
  {
   "cell_type": "code",
   "execution_count": 9,
   "metadata": {},
   "outputs": [
    {
     "name": "stdout",
     "output_type": "stream",
     "text": [
      "Matriz de transición: \n",
      "[[0.7  0.2  0.1 ]\n",
      " [0.2  0.75 0.05]\n",
      " [0.1  0.1  0.8 ]]\n"
     ]
    }
   ],
   "source": [
    "# Ingresamos la matriz de transición:\n",
    "T = np.array([[0.70, 0.20, 0.10], \n",
    "              [0.20, 0.75, 0.05], \n",
    "              [0.10, 0.10, 0.80]])\n",
    "\n",
    "# Printeamos la matriz de transición T:\n",
    "print(f'Matriz de transición: \\n{T}')"
   ]
  },
  {
   "cell_type": "code",
   "execution_count": 10,
   "metadata": {},
   "outputs": [
    {
     "name": "stdout",
     "output_type": "stream",
     "text": [
      "Matriz A relacionada al sistema lineal de ecauciones: \n",
      "[[-0.3   0.2   0.1 ]\n",
      " [ 0.2  -0.25  0.1 ]\n",
      " [ 0.1   0.05 -0.2 ]]\n",
      "\n",
      "Vector B relacionado al sistema lineal de ecuaciones: \n",
      "[0. 0. 0.]\n"
     ]
    }
   ],
   "source": [
    "# Construir matriz A y vector B:\n",
    "A = (np.transpose(T) - np.identity(3))\n",
    "B = np.zeros(3)\n",
    "\n",
    "# Printeamos la Matriz A y vector B\n",
    "print(f'Matriz A relacionada al sistema lineal de ecauciones: \\n{A}\\n')\n",
    "\n",
    "print(f'Vector B relacionado al sistema lineal de ecuaciones: \\n{B}')"
   ]
  },
  {
   "cell_type": "code",
   "execution_count": 11,
   "metadata": {},
   "outputs": [
    {
     "name": "stdout",
     "output_type": "stream",
     "text": [
      "Matriz A: \n",
      "[[-0.3   0.2   0.1 ]\n",
      " [ 0.2  -0.25  0.1 ]\n",
      " [ 0.1   0.05 -0.2 ]\n",
      " [ 1.    1.    1.  ]]\n",
      "\n",
      "Vector B: \n",
      "[0. 0. 0. 1.]\n"
     ]
    }
   ],
   "source": [
    "# Agregar sumatoria de probabilidades:\n",
    "sum_prob = np.array([[1, 1, 1]])\n",
    "\n",
    "A = np.concatenate((A, sum_prob), axis=0)\n",
    "\n",
    "B = np.append(B, 1)\n",
    "\n",
    "\n",
    "# Printeamos la Matriz A y vector B:\n",
    "print(f'Matriz A: \\n{A}\\n')\n",
    "\n",
    "print(f'Vector B: \\n{B}')"
   ]
  },
  {
   "cell_type": "code",
   "execution_count": 12,
   "metadata": {},
   "outputs": [
    {
     "name": "stdout",
     "output_type": "stream",
     "text": [
      "Solución del sistema lineal de ecuaciones: \n",
      "[0.34615385 0.38461538 0.26923077]\n"
     ]
    }
   ],
   "source": [
    "# Resolvemos por mínimos cuadrados:\n",
    "X, _, _, _ = np.linalg.lstsq(A, B)\n",
    "\n",
    "# Printeamos la solución\n",
    "print(f'Solución del sistema lineal de ecuaciones: \\n{X}')"
   ]
  }
 ],
 "metadata": {
  "kernelspec": {
   "display_name": "Python 3",
   "language": "python",
   "name": "python3"
  },
  "language_info": {
   "codemirror_mode": {
    "name": "ipython",
    "version": 3
   },
   "file_extension": ".py",
   "mimetype": "text/x-python",
   "name": "python",
   "nbconvert_exporter": "python",
   "pygments_lexer": "ipython3",
   "version": "3.8.5"
  },
  "toc": {
   "base_numbering": 1,
   "nav_menu": {},
   "number_sections": false,
   "sideBar": true,
   "skip_h1_title": false,
   "title_cell": "Table of Contents",
   "title_sidebar": "Contents",
   "toc_cell": false,
   "toc_position": {
    "height": "calc(100% - 180px)",
    "left": "10px",
    "top": "150px",
    "width": "274.534px"
   },
   "toc_section_display": true,
   "toc_window_display": true
  },
  "varInspector": {
   "cols": {
    "lenName": 16,
    "lenType": 16,
    "lenVar": 40
   },
   "kernels_config": {
    "python": {
     "delete_cmd_postfix": "",
     "delete_cmd_prefix": "del ",
     "library": "var_list.py",
     "varRefreshCmd": "print(var_dic_list())"
    },
    "r": {
     "delete_cmd_postfix": ") ",
     "delete_cmd_prefix": "rm(",
     "library": "var_list.r",
     "varRefreshCmd": "cat(var_dic_list()) "
    }
   },
   "types_to_exclude": [
    "module",
    "function",
    "builtin_function_or_method",
    "instance",
    "_Feature"
   ],
   "window_display": false
  }
 },
 "nbformat": 4,
 "nbformat_minor": 2
}
