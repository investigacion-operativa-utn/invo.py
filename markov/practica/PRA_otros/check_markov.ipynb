{
 "cells": [
  {
   "cell_type": "markdown",
   "metadata": {},
   "source": [
    "---\n",
    "__Universidad Tecnológica Nacional, Buenos Aires__\\\n",
    "__Ingeniería Industrial__\\\n",
    "__Cátedra de Investigación Operativa__\\\n",
    "__Autor: Rodrigo Maranzana__, Rmaranzana@frba.utn.edu.ar\n",
    "\n",
    "---"
   ]
  },
  {
   "cell_type": "code",
   "execution_count": 8,
   "metadata": {},
   "outputs": [
    {
     "name": "stdout",
     "output_type": "stream",
     "text": [
      "Matriz de transición: \n",
      " [[0.1 0.3 0.6]\n",
      " [0.2 0.2 0.6]\n",
      " [0.2 0.4 0.4]] \n",
      "\n",
      "Matriz A relacionada al sistema lineal de ecauciones: \n",
      " [[-0.9  0.2  0.2]\n",
      " [ 0.3 -0.8  0.4]\n",
      " [ 0.6  0.6 -0.6]] \n",
      "\n",
      "Vector B relacionado al sistema lineal de ecuaciones: \n",
      " [0. 0. 0.] \n",
      "\n",
      "Matriz A: \n",
      " [[-0.9  0.2  0.2]\n",
      " [ 0.3 -0.8  0.4]\n",
      " [ 1.   1.   1. ]] \n",
      "\n",
      "Vector B: \n",
      " [0. 0. 1.] \n",
      "\n",
      "Solución del sistema lineal de ecuaciones: \n",
      " [0.18181818 0.31818182 0.5       ] \n",
      "\n"
     ]
    },
    {
     "name": "stderr",
     "output_type": "stream",
     "text": [
      "c:\\users\\m_a_r\\appdata\\local\\programs\\python\\python36\\lib\\site-packages\\ipykernel_launcher.py:28: FutureWarning: `rcond` parameter will change to the default of machine precision times ``max(M, N)`` where M and N are the input matrix dimensions.\n",
      "To use the future default and silence this warning we advise to pass `rcond=None`, to keep using the old, explicitly pass `rcond=-1`.\n"
     ]
    }
   ],
   "source": [
    "#TESTING\n",
    "\n",
    "# Ingresamos la matriz de transición:\n",
    "T = np.array([[0.1, 0.3, 0.6], [0.2, 0.2, 0.6], [0.2, 0.4, 0.4]])\n",
    "print('Matriz de transición: \\n %s \\n' %T)\n",
    "\n",
    "\n",
    "# Construir matriz A y vector B:\n",
    "A = (np.transpose(T) - np.identity(3))\n",
    "print('Matriz A relacionada al sistema lineal de ecauciones: \\n %s \\n' %A)\n",
    "B = np.zeros(3)\n",
    "print('Vector B relacionado al sistema lineal de ecuaciones: \\n %s \\n' %B)\n",
    "\n",
    "# Agregar sumatoria de probabilidades:\n",
    "adicional = np.array([[1, 1, 1]])\n",
    "A = np.concatenate((A, adicional), axis=0)\n",
    "\n",
    "\n",
    "B = np.append(B, 1)\n",
    "\n",
    "\n",
    "A = np.delete(A, 2, 0)\n",
    "B = np.delete(B, 2, 0)\n",
    "print('Matriz A: \\n %s \\n' %A)\n",
    "print('Vector B: \\n %s \\n' %B)\n",
    "\n",
    "# Resolvemos por mínimos cuadrados:\n",
    "X, _, _, _ = np.linalg.lstsq(A, B)\n",
    "print('Solución del sistema lineal de ecuaciones: \\n %s \\n' %X)"
   ]
  },
  {
   "cell_type": "code",
   "execution_count": 4,
   "metadata": {},
   "outputs": [
    {
     "name": "stdout",
     "output_type": "stream",
     "text": [
      "0.23529411764705882\n",
      "0.47058823529411764\n"
     ]
    },
    {
     "data": {
      "text/plain": [
       "0.29411764705882354"
      ]
     },
     "execution_count": 4,
     "metadata": {},
     "output_type": "execute_result"
    }
   ],
   "source": [
    "print(4/17)\n",
    "print(8/17)\n",
    "5/17"
   ]
  },
  {
   "cell_type": "code",
   "execution_count": 2,
   "metadata": {},
   "outputs": [
    {
     "ename": "SyntaxError",
     "evalue": "invalid syntax (<ipython-input-2-f1ecaa148c22>, line 1)",
     "output_type": "error",
     "traceback": [
      "\u001b[1;36m  File \u001b[1;32m\"<ipython-input-2-f1ecaa148c22>\"\u001b[1;36m, line \u001b[1;32m1\u001b[0m\n\u001b[1;33m    [0.18181818 0.31818182 0.5       ]\u001b[0m\n\u001b[1;37m                         ^\u001b[0m\n\u001b[1;31mSyntaxError\u001b[0m\u001b[1;31m:\u001b[0m invalid syntax\n"
     ]
    }
   ],
   "source": [
    "[0.18181818 0.31818182 0.5] \n",
    "\n",
    " [0.18181818 0.31818182 0.5       ] \n"
   ]
  },
  {
   "cell_type": "code",
   "execution_count": null,
   "metadata": {},
   "outputs": [],
   "source": []
  }
 ],
 "metadata": {
  "kernelspec": {
   "display_name": "Python 3",
   "language": "python",
   "name": "python3"
  },
  "language_info": {
   "codemirror_mode": {
    "name": "ipython",
    "version": 3
   },
   "file_extension": ".py",
   "mimetype": "text/x-python",
   "name": "python",
   "nbconvert_exporter": "python",
   "pygments_lexer": "ipython3",
   "version": "3.8.5"
  },
  "toc": {
   "base_numbering": 1,
   "nav_menu": {},
   "number_sections": true,
   "sideBar": true,
   "skip_h1_title": false,
   "title_cell": "Table of Contents",
   "title_sidebar": "Contents",
   "toc_cell": false,
   "toc_position": {},
   "toc_section_display": true,
   "toc_window_display": false
  },
  "varInspector": {
   "cols": {
    "lenName": 16,
    "lenType": 16,
    "lenVar": 40
   },
   "kernels_config": {
    "python": {
     "delete_cmd_postfix": "",
     "delete_cmd_prefix": "del ",
     "library": "var_list.py",
     "varRefreshCmd": "print(var_dic_list())"
    },
    "r": {
     "delete_cmd_postfix": ") ",
     "delete_cmd_prefix": "rm(",
     "library": "var_list.r",
     "varRefreshCmd": "cat(var_dic_list()) "
    }
   },
   "types_to_exclude": [
    "module",
    "function",
    "builtin_function_or_method",
    "instance",
    "_Feature"
   ],
   "window_display": false
  }
 },
 "nbformat": 4,
 "nbformat_minor": 2
}
