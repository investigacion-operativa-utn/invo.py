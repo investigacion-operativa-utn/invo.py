{
 "cells": [
  {
   "cell_type": "markdown",
   "metadata": {},
   "source": [
    "---\n",
    "__Universidad Tecnológica Nacional, Buenos Aires__\\\n",
    "__Ingeniería Industrial__\\\n",
    "__Cátedra de Investigación Operativa__\\\n",
    "__Autor: Rodrigo Maranzana__, Rmaranzana@frba.utn.edu.ar\n",
    "\n",
    "---"
   ]
  },
  {
   "cell_type": "markdown",
   "metadata": {},
   "source": [
    "# Ejercicio 3"
   ]
  },
  {
   "attachments": {},
   "cell_type": "markdown",
   "metadata": {},
   "source": [
    "Un agente comercial realiza un circuito entre tres ciudades A, B y C. \n",
    "\n",
    "Al recibir un pedido en una ciudad, se dirige a la misma, en donde pasa el resto del día. Si recibe una orden de traslado, la ejecuta al día siguiente.\n",
    "\n",
    "Si se encuentra en la ciudad C, la probabilidad de tener que seguir trabajando en ella es del 0,4, viajar a B es de 0,4. \n",
    "\n",
    "Si el viajante se encuentra en B, existe un 20% de probabilidad que se quede. Por otro lado, viajará a C con un 60% de probabilidad. \n",
    "\n",
    "Si el viajante trabajó en A, se quedará en esa ciudad un 10% de los casos, irá a C con una probabilidad de 0,6.\n",
    "\n",
    "Se pide:\n",
    "- Modelizar el proceso mediante una Cadena de Markov. Construir el grafo.\n",
    "- Construir la Matriz de transición.\n",
    "- Si hoy está en C ¿cuál es la probabilidad de trabajar en C en 4 días?\n",
    "- ¿Qué porcentaje de días el agente está en cada una de las ciudades?"
   ]
  },
  {
   "cell_type": "markdown",
   "metadata": {
    "toc": true
   },
   "source": [
    "<h1>Índice<span class=\"tocSkip\"></span></h1>\n",
    "<div class=\"toc\"><ul class=\"toc-item\"><li><span><a href=\"#Datos-Iniciales\" data-toc-modified-id=\"Datos-Iniciales-1\"><span class=\"toc-item-num\">1&nbsp;&nbsp;</span>Datos Iniciales</a></span></li><li><span><a href=\"#Ejercicio-A\" data-toc-modified-id=\"Ejercicio-A-2\"><span class=\"toc-item-num\">2&nbsp;&nbsp;</span>Ejercicio A</a></span><ul class=\"toc-item\"><li><span><a href=\"#Forma-alternativa-de-resolución:\" data-toc-modified-id=\"Forma-alternativa-de-resolución:-2.1\"><span class=\"toc-item-num\">2.1&nbsp;&nbsp;</span>Forma alternativa de resolución:</a></span></li></ul></li><li><span><a href=\"#Ejercicio-B\" data-toc-modified-id=\"Ejercicio-B-3\"><span class=\"toc-item-num\">3&nbsp;&nbsp;</span>Ejercicio B</a></span><ul class=\"toc-item\"><li><span><a href=\"#Forma-alternativa:-usando-una-matriz-no-cuadrada\" data-toc-modified-id=\"Forma-alternativa:-usando-una-matriz-no-cuadrada-3.1\"><span class=\"toc-item-num\">3.1&nbsp;&nbsp;</span>Forma alternativa: usando una matriz no cuadrada</a></span></li><li><span><a href=\"#Cálculo-auxiliar:-partiendo-directamente-de-la-matriz-de-transición\" data-toc-modified-id=\"Cálculo-auxiliar:-partiendo-directamente-de-la-matriz-de-transición-3.2\"><span class=\"toc-item-num\">3.2&nbsp;&nbsp;</span>Cálculo auxiliar: partiendo directamente de la matriz de transición</a></span></li></ul></li></ul></div>"
   ]
  },
  {
   "cell_type": "markdown",
   "metadata": {},
   "source": [
    "## Datos Iniciales"
   ]
  },
  {
   "cell_type": "markdown",
   "metadata": {},
   "source": [
    "Importamos las librerías necesarias."
   ]
  },
  {
   "cell_type": "code",
   "execution_count": 1,
   "metadata": {},
   "outputs": [],
   "source": [
    "import numpy as np"
   ]
  },
  {
   "cell_type": "markdown",
   "metadata": {},
   "source": [
    "Ingresamos los datos de la matriz de transición en una matriz numpy:"
   ]
  },
  {
   "cell_type": "code",
   "execution_count": 2,
   "metadata": {},
   "outputs": [
    {
     "name": "stdout",
     "output_type": "stream",
     "text": [
      "Matriz de transición: \n",
      "[[0.1 0.3 0.6]\n",
      " [0.2 0.2 0.6]\n",
      " [0.2 0.4 0.4]]\n"
     ]
    }
   ],
   "source": [
    "# Matriz de transición como numpy array:\n",
    "T = np.array([[0.1, 0.3, 0.6],\n",
    "              [0.2, 0.2, 0.6],\n",
    "              [0.2, 0.4, 0.4]])\n",
    "\n",
    "# Printeamos T\n",
    "print(f'Matriz de transición: \\n{T}')"
   ]
  },
  {
   "cell_type": "markdown",
   "metadata": {},
   "source": [
    "## Ejercicio A"
   ]
  },
  {
   "cell_type": "markdown",
   "metadata": {},
   "source": [
    "En primer lugar, calculamos la matriz de transición habiendo pasado 4 días: elevamos la matriz a la cuarta usando el método de la potencia de álgebra lineal de la librería Numpy."
   ]
  },
  {
   "cell_type": "code",
   "execution_count": 3,
   "metadata": {},
   "outputs": [
    {
     "name": "stdout",
     "output_type": "stream",
     "text": [
      "Matriz de transición a tiempo 4: \n",
      "[[0.1819 0.3189 0.4992]\n",
      " [0.1818 0.319  0.4992]\n",
      " [0.1818 0.3174 0.5008]]\n",
      "\n"
     ]
    }
   ],
   "source": [
    "# Cálculo de la matriz de transición a tiempo 4:\n",
    "T4 = np.linalg.matrix_power(T, 4)\n",
    "\n",
    "# printeamos la matriz de transicion de 4 pasos:\n",
    "print(f'Matriz de transición a tiempo 4: \\n{T4}\\n')"
   ]
  },
  {
   "cell_type": "markdown",
   "metadata": {},
   "source": [
    "Sabiendo que $p_0$ considera que el agente está en el nodo C:\n",
    "$ p_0 = (0, 0, 1) $"
   ]
  },
  {
   "cell_type": "code",
   "execution_count": 4,
   "metadata": {},
   "outputs": [
    {
     "name": "stdout",
     "output_type": "stream",
     "text": [
      "Vector de estado a tiempo 0: \n",
      "[0 0 1]\n",
      "\n"
     ]
    }
   ],
   "source": [
    "# Generación del vector inicial p_0:\n",
    "p_0 = np.array([0, 0, 1])\n",
    "\n",
    "# printeamos el vector inicial:\n",
    "print(f'Vector de estado a tiempo 0: \\n{p_0}\\n')"
   ]
  },
  {
   "cell_type": "markdown",
   "metadata": {},
   "source": [
    "Calculamos: $ p_0 T^4 = p_4 $"
   ]
  },
  {
   "cell_type": "code",
   "execution_count": 5,
   "metadata": {},
   "outputs": [
    {
     "name": "stdout",
     "output_type": "stream",
     "text": [
      "Vector de estado a tiempo 4: \n",
      "[0.1818 0.3174 0.5008]\n",
      "\n"
     ]
    }
   ],
   "source": [
    "# Cálculo del estado a tiempo 4, p_4:\n",
    "p_4 = np.dot(p_0, T4)\n",
    "\n",
    "# printeamos p4:\n",
    "print(f'Vector de estado a tiempo 4: \\n{p_4}\\n')"
   ]
  },
  {
   "cell_type": "markdown",
   "metadata": {},
   "source": [
    "Dado el vector $ p_4 $, nos quedamos con el componente perteneciente al estado C."
   ]
  },
  {
   "cell_type": "code",
   "execution_count": 6,
   "metadata": {
    "scrolled": true
   },
   "outputs": [
    {
     "name": "stdout",
     "output_type": "stream",
     "text": [
      "Probabilidad de estar en c habiendo iniciado en c: \n",
      "0.5008\n",
      "\n"
     ]
    }
   ],
   "source": [
    "# Componente del nodo C:\n",
    "p_4_c = p_4[2]\n",
    "\n",
    "# printeamos lo obtenido:\n",
    "print(f'Probabilidad de estar en c habiendo iniciado en c: \\n{p_4_c}\\n')"
   ]
  },
  {
   "cell_type": "markdown",
   "metadata": {},
   "source": [
    "### Forma alternativa de resolución:\n",
    "El resultado es el mismo si consideramos que la componente ${T^4}_{cc}$ es la probabilidad de transición del nodo c al mismo nodo habiendo pasado 4 ciclos.\n",
    "Veamos cómo se obtiene esa componente:"
   ]
  },
  {
   "cell_type": "code",
   "execution_count": 7,
   "metadata": {},
   "outputs": [
    {
     "name": "stdout",
     "output_type": "stream",
     "text": [
      "\n",
      " ** Probabilidad de estar en c habiendo iniciado en c: \n",
      " 0.50080\n"
     ]
    }
   ],
   "source": [
    "# Componente de cc de la matriz de transición a tiempo 4:\n",
    "T4cc = T4[2,2]\n",
    "print('\\n ** Probabilidad de estar en c habiendo iniciado en c: \\n %.5f' % T4cc)"
   ]
  },
  {
   "cell_type": "markdown",
   "metadata": {},
   "source": [
    "## Ejercicio B"
   ]
  },
  {
   "cell_type": "markdown",
   "metadata": {},
   "source": [
    "Dada una matriz $A$ proveniente del sistema de ecuaciones que resuelve $\\pi T = \\pi$"
   ]
  },
  {
   "cell_type": "code",
   "execution_count": 8,
   "metadata": {},
   "outputs": [
    {
     "name": "stdout",
     "output_type": "stream",
     "text": [
      "Matriz asociada al sistema lineal de ecuaciones: \n",
      "[[-0.9  0.2  0.2]\n",
      " [ 0.3 -0.8  0.4]\n",
      " [ 0.6  0.6 -0.6]\n",
      " [ 1.   1.   1. ]]\n"
     ]
    }
   ],
   "source": [
    "# Matriz A:\n",
    "A = np.array([[-0.9,  0.2,  0.2],\n",
    "              [ 0.3, -0.8,  0.4],\n",
    "              [ 0.6,  0.6, -0.6],\n",
    "              [1, 1, 1]])\n",
    "\n",
    "# Printeamos A:\n",
    "print(f'Matriz asociada al sistema lineal de ecuaciones: \\n{A}')"
   ]
  },
  {
   "cell_type": "markdown",
   "metadata": {},
   "source": [
    "Y dado un vector $B$ relacionado con los términos independientes del sistema de ecuaciones anteriormente mencionado."
   ]
  },
  {
   "cell_type": "code",
   "execution_count": 9,
   "metadata": {
    "scrolled": true
   },
   "outputs": [
    {
     "name": "stdout",
     "output_type": "stream",
     "text": [
      "Vector de términos independientes: \n",
      "[0 0 0 1]\n"
     ]
    }
   ],
   "source": [
    "# Vector B:\n",
    "B = np.array([0, 0, 0, 1])\n",
    "\n",
    "# Printeamos B:\n",
    "print(f'Vector de términos independientes: \\n{B}')"
   ]
  },
  {
   "cell_type": "markdown",
   "metadata": {},
   "source": [
    "Dado que el solver de numpy solamente admite sistemas lineales cuadrados por el algoritmo que usa para la resolución [1], debemos eliminar una de las filas (cualquiera) de la matriz homogénea y quedarnos con la fila relacionada a la ecuación $ \\sum_i{\\pi_i} = 1$.\n",
    "Hacemos lo mismo para el vector de términos independientes B.\n",
    "\n",
    "Para hacer esto usamos la función el método delete de numpy, indicando la posición a eliminar y el eje (axis) al que pertenece.\n",
    "\n",
    "\n",
    "[1] https://docs.scipy.org/doc/numpy-1.15.0/reference/generated/numpy.linalg.solve.html"
   ]
  },
  {
   "cell_type": "code",
   "execution_count": 10,
   "metadata": {},
   "outputs": [
    {
     "name": "stdout",
     "output_type": "stream",
     "text": [
      "Matriz asociada al sistema lineal de ecuaciones: \n",
      "[[ 0.3 -0.8  0.4]\n",
      " [ 0.6  0.6 -0.6]\n",
      " [ 1.   1.   1. ]]\n",
      "\n",
      " -> Dimensión: (3, 3)\n"
     ]
    }
   ],
   "source": [
    "# Copio la matriz A original, para que no se modifique.\n",
    "A_s = A.copy() \n",
    "\n",
    "# Eliminamos la primer fila de la matriz A:\n",
    "A_s = np.delete(A_s, 0, 0)\n",
    "\n",
    "# Printeamos:\n",
    "print(f'Matriz asociada al sistema lineal de ecuaciones: \\n{A_s}')\n",
    "print(f'\\n -> Dimensión: {A_s.shape}')"
   ]
  },
  {
   "cell_type": "code",
   "execution_count": 11,
   "metadata": {},
   "outputs": [
    {
     "name": "stdout",
     "output_type": "stream",
     "text": [
      "\n",
      "Vector de términos independientes: \n",
      "[0 0 1]\n",
      "\n",
      " -> Dimensión: (3,)\n"
     ]
    }
   ],
   "source": [
    "# Copio el vector B original, para que no se modifique.\n",
    "B_s = B.copy() \n",
    "\n",
    "# Eliminamos la primera componente del vector B:\n",
    "B_s = np.delete(B_s, 0, 0)\n",
    "\n",
    "print(f'\\nVector de términos independientes: \\n{B_s}')\n",
    "print(f'\\n -> Dimensión: {B_s.shape}')"
   ]
  },
  {
   "cell_type": "markdown",
   "metadata": {},
   "source": [
    "Cumpliendo con un sistema cuadrado, usamos el método solve de numpy para obtener $x$ del sistema $Ax = B$"
   ]
  },
  {
   "cell_type": "code",
   "execution_count": 12,
   "metadata": {},
   "outputs": [
    {
     "name": "stdout",
     "output_type": "stream",
     "text": [
      "\n",
      " ** Vector solución de estado estable: \n",
      " [0.18181818 0.31818182 0.5       ]\n"
     ]
    }
   ],
   "source": [
    "x = np.linalg.solve(A_s, B_s)\n",
    "print('\\n ** Vector solución de estado estable: \\n %s' % x)"
   ]
  },
  {
   "cell_type": "markdown",
   "metadata": {},
   "source": [
    "### Forma alternativa: usando una matriz no cuadrada\n",
    "Como explicamos anteriormente no podemos usar el método $solve$ en matrices no cuadradas. En su lugar podemos usar el método de los mínimos cuadrados para aproximar la solución[2]. Este método no tiene restricciones en cuanto a la dimensión de la matriz.\n",
    "\n",
    "El desarrollo del método no forma parte de la materia, siendo contenido de Análisis Numérico y Cálculo Avanzado.\n",
    "\n",
    "[2] https://docs.scipy.org/doc/numpy/reference/generated/numpy.linalg.lstsq.html"
   ]
  },
  {
   "cell_type": "code",
   "execution_count": 13,
   "metadata": {
    "scrolled": true
   },
   "outputs": [
    {
     "name": "stdout",
     "output_type": "stream",
     "text": [
      "\n",
      " ** Vector solución de estado estable: \n",
      " [0.18181818 0.31818182 0.5       ]\n"
     ]
    }
   ],
   "source": [
    "x_lstsq, _, _, _ = np.linalg.lstsq(A, B, rcond=None)\n",
    "print('\\n ** Vector solución de estado estable: \\n %s' % x_lstsq)"
   ]
  },
  {
   "cell_type": "markdown",
   "metadata": {},
   "source": [
    "### Cálculo auxiliar: partiendo directamente de la matriz de transición\n",
    "En la resolución original, usamos una matriz A relacionada al sistema lineal de ecuaciones que resolvimos a mano. Ahora veremos otra forma de llegar a la solución solamente con los datos dados y tratamiento de matrices.\n",
    "\n",
    "Partiendo del sistema original: $\\pi T = \\pi$\n",
    "\n",
    "Despejando $\\pi$ obtenemos:\n",
    "\n",
    "$(T^T - I) \\pi^T = 0 $\n",
    "\n",
    "Podemos transformar lo anterior en la notación que usamos más arriba para que tenga consistencia:\n",
    "\n",
    "$A = (T^T - I)$\n",
    "\n",
    "$X = \\pi^T$\n",
    "\n",
    "$B = 0$\n",
    "\n",
    "Por lo tanto, llegamos a la misma expresión $Ax = B$"
   ]
  },
  {
   "cell_type": "markdown",
   "metadata": {},
   "source": [
    "Entonces, comenzamos calculando: $A = (T^T - I)$"
   ]
  },
  {
   "cell_type": "code",
   "execution_count": 14,
   "metadata": {},
   "outputs": [
    {
     "name": "stdout",
     "output_type": "stream",
     "text": [
      "\n",
      "T traspuesta: \n",
      "[[0.1 0.2 0.2]\n",
      " [0.3 0.2 0.4]\n",
      " [0.6 0.6 0.4]]\n",
      "\n",
      "Matriz A: \n",
      "[[-0.9  0.2  0.2]\n",
      " [ 0.3 -0.8  0.4]\n",
      " [ 0.6  0.6 -0.6]]\n"
     ]
    }
   ],
   "source": [
    "# Primero calculamos la traspuesta de la matriz de transición:\n",
    "Tt = np.transpose(T)\n",
    "\n",
    "print(f'\\nT traspuesta: \\n{Tt}')\n",
    "\n",
    "# Luego con calculamos la matriz A, sabiendo que es la traspuesta de T menos la identidad.\n",
    "A1 = Tt - np.identity(Tt.shape[0])\n",
    "\n",
    "print(f'\\nMatriz A: \\n{A1}')"
   ]
  },
  {
   "cell_type": "markdown",
   "metadata": {},
   "source": [
    "Seguimos con: $B = 0$"
   ]
  },
  {
   "cell_type": "code",
   "execution_count": 15,
   "metadata": {},
   "outputs": [
    {
     "name": "stdout",
     "output_type": "stream",
     "text": [
      "\n",
      "Vector B: \n",
      "[0. 0. 0.]\n"
     ]
    }
   ],
   "source": [
    "# El vector B, es un vector de ceros:\n",
    "B1 = np.zeros(3)\n",
    "\n",
    "print(f'\\nVector B: \\n{B1}')"
   ]
  },
  {
   "cell_type": "markdown",
   "metadata": {},
   "source": [
    "A partir de aca, simplemente aplicamos el método que ya sabemos. Agregamos la información correspondiente a: $\\sum_i{\\pi_i} = 1$. "
   ]
  },
  {
   "cell_type": "code",
   "execution_count": 16,
   "metadata": {},
   "outputs": [
    {
     "name": "stdout",
     "output_type": "stream",
     "text": [
      "Matriz A: \n",
      "[[-0.9  0.2  0.2]\n",
      " [ 0.3 -0.8  0.4]\n",
      " [ 0.6  0.6 -0.6]\n",
      " [ 1.   1.   1. ]]\n"
     ]
    }
   ],
   "source": [
    "# Copio la matriz A1 original, para que no se modifique.\n",
    "A1_s = A1.copy() \n",
    "\n",
    "# Agregamos las probabilidades a la matriz A\n",
    "eq_suma_p = np.array([[1, 1, 1]])\n",
    "\n",
    "A1_s = np.concatenate((A1_s, eq_suma_p), axis=0)\n",
    "\n",
    "# Printeamos:\n",
    "print(f'Matriz A: \\n{A1_s}')"
   ]
  },
  {
   "cell_type": "code",
   "execution_count": 17,
   "metadata": {},
   "outputs": [
    {
     "name": "stdout",
     "output_type": "stream",
     "text": [
      "\n",
      "Vector B: \n",
      "[0. 0. 0. 1.]\n"
     ]
    }
   ],
   "source": [
    "# Copio el vector B1 original, para que no se modifique.\n",
    "B1_s = B1.copy() \n",
    "\n",
    "# Agregamos 1 al vector B:\n",
    "B1_s = np.append(B1_s, 1)\n",
    "\n",
    "# Printeamos:\n",
    "print(f'\\nVector B: \\n{B1_s}')"
   ]
  },
  {
   "cell_type": "markdown",
   "metadata": {},
   "source": [
    "Resolvemos por mínimos cuadrados:"
   ]
  },
  {
   "cell_type": "code",
   "execution_count": 18,
   "metadata": {},
   "outputs": [
    {
     "name": "stdout",
     "output_type": "stream",
     "text": [
      "\n",
      "Vector solución de estado estable: [0.18181818 0.31818182 0.5       ]\n"
     ]
    }
   ],
   "source": [
    "# Resolvemos con método de mínimos cuadrados:\n",
    "x_lstsq, _, _, _ = np.linalg.lstsq(A1_s, B1_s, rcond=None)\n",
    "\n",
    "# Printeamos la solucion:\n",
    "print(f'\\nVector solución de estado estable: {x_lstsq}')"
   ]
  },
  {
   "cell_type": "code",
   "execution_count": null,
   "metadata": {},
   "outputs": [],
   "source": []
  }
 ],
 "metadata": {
  "kernelspec": {
   "display_name": "Python 3",
   "language": "python",
   "name": "python3"
  },
  "language_info": {
   "codemirror_mode": {
    "name": "ipython",
    "version": 3
   },
   "file_extension": ".py",
   "mimetype": "text/x-python",
   "name": "python",
   "nbconvert_exporter": "python",
   "pygments_lexer": "ipython3",
   "version": "3.8.5"
  },
  "toc": {
   "base_numbering": 1,
   "nav_menu": {},
   "number_sections": true,
   "sideBar": true,
   "skip_h1_title": true,
   "title_cell": "Índice",
   "title_sidebar": "Contents",
   "toc_cell": true,
   "toc_position": {},
   "toc_section_display": true,
   "toc_window_display": false
  },
  "varInspector": {
   "cols": {
    "lenName": 16,
    "lenType": 16,
    "lenVar": 40
   },
   "kernels_config": {
    "python": {
     "delete_cmd_postfix": "",
     "delete_cmd_prefix": "del ",
     "library": "var_list.py",
     "varRefreshCmd": "print(var_dic_list())"
    },
    "r": {
     "delete_cmd_postfix": ") ",
     "delete_cmd_prefix": "rm(",
     "library": "var_list.r",
     "varRefreshCmd": "cat(var_dic_list()) "
    }
   },
   "types_to_exclude": [
    "module",
    "function",
    "builtin_function_or_method",
    "instance",
    "_Feature"
   ],
   "window_display": false
  }
 },
 "nbformat": 4,
 "nbformat_minor": 2
}
