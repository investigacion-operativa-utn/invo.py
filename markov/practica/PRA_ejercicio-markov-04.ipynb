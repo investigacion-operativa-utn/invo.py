{
 "cells": [
  {
   "cell_type": "markdown",
   "metadata": {},
   "source": [
    "---\n",
    "__Universidad Tecnológica Nacional, Buenos Aires__\\\n",
    "__Ingeniería Industrial__\\\n",
    "__Cátedra de Investigación Operativa__\\\n",
    "__Autor: Rodrigo Maranzana__, Rmaranzana@frba.utn.edu.ar\n",
    "\n",
    "---"
   ]
  },
  {
   "cell_type": "markdown",
   "metadata": {},
   "source": [
    "# Ejercicios Markov clase 4"
   ]
  },
  {
   "cell_type": "code",
   "execution_count": null,
   "metadata": {},
   "outputs": [],
   "source": [
    "import numpy as np"
   ]
  },
  {
   "cell_type": "markdown",
   "metadata": {},
   "source": [
    "## Ejercicio 4\n",
    "Suponga que toda la industria de refresco produce dos colas: Coca Cola y Pepsi Cola. Cuando una persona ha comprado Coca Cola hay una probabilidad de 90% de que siga comprándola la vez siguiente. Si una persona compró Pepsi, hay 80% de que repita la vez siguiente. Se pide: \n",
    "\n",
    "a) Si una persona actualmente es comprador de Pepsi. ¿Cuál es la probabilidad de que compre Coca Cola pasadas dos compras a partir de hoy?\n",
    "\n",
    "b) Si en la actualidad una persona es comprador de Coca Cola. ¿Cuál es la probabilidad de que compre Coca Cola pasadas tres compras a partir de ahora?\n",
    "\n",
    "c) Supongamos que el 60% de toda la gente toma hoy Coca Cola y el 40% Pepsi. A tres compras a partir de ahora, ¿Qué fracción de los compradores estará tomando Coca Cola.\n",
    "\n",
    "d) Determinar el estado estacionario.\n"
   ]
  },
  {
   "cell_type": "code",
   "execution_count": 169,
   "metadata": {},
   "outputs": [
    {
     "name": "stdout",
     "output_type": "stream",
     "text": [
      "La matriz de transición: \n",
      " [[0.9 0.1]\n",
      " [0.2 0.8]]\n"
     ]
    }
   ],
   "source": [
    "# Ingresamos la matriz de transición como matriz de numpy:\n",
    "T = np.array([[0.9, 0.1], [0.2, 0.8]])\n",
    "print('La matriz de transición: \\n %s' %T)"
   ]
  },
  {
   "cell_type": "markdown",
   "metadata": {},
   "source": [
    "### 4.a"
   ]
  },
  {
   "cell_type": "code",
   "execution_count": 170,
   "metadata": {},
   "outputs": [
    {
     "name": "stdout",
     "output_type": "stream",
     "text": [
      "La matriz de transición a t=2: \n",
      " [[0.83 0.17]\n",
      " [0.34 0.66]] \n",
      "\n",
      "La probabilidad de pasar de pepsi a coca cola en t=2: 0.34000\n"
     ]
    }
   ],
   "source": [
    "# Calculamos la matriz de transición a tiempo 2 elevando T al cuadrado:\n",
    "T_2 = np.linalg.matrix_power(T, 2)\n",
    "print('La matriz de transición a t=2: \\n %s \\n' %T_2)\n",
    "\n",
    "# El elemento matemático (2, 1), es decir (1, 0) en los índices de python es la probabilidad de pasar de Pepsi\n",
    "# a Coca Cola en 2 iteraciones:\n",
    "p_pc2 = T_2[1, 0]\n",
    "print('La probabilidad de pasar de pepsi a coca cola en t=2: %0.5f' %p_pc2)"
   ]
  },
  {
   "cell_type": "markdown",
   "metadata": {},
   "source": [
    "### 4.b"
   ]
  },
  {
   "cell_type": "code",
   "execution_count": 171,
   "metadata": {},
   "outputs": [
    {
     "name": "stdout",
     "output_type": "stream",
     "text": [
      "La matriz de transición a t=3: \n",
      " [[0.781 0.219]\n",
      " [0.438 0.562]] \n",
      "\n",
      "La probabilidad quedarse en cocacola a t=3: 0.78100\n"
     ]
    }
   ],
   "source": [
    "# Calculamos la matriz de transición a tiempo 3 elevando T al cubo:\n",
    "T_3 = np.linalg.matrix_power(T, 3)\n",
    "print('La matriz de transición a t=3: \\n %s \\n' %T_3)\n",
    "\n",
    "# El elemento matemático (1, 1), es decir (0, 0) en los índices de python es la probabilidad de quedar\n",
    "# en coca cola luego de 3 iteraciones:\n",
    "p_cc3 = T_3[0, 0]\n",
    "print('La probabilidad quedarse en cocacola a t=3: %0.5f' %p_cc3)"
   ]
  },
  {
   "cell_type": "markdown",
   "metadata": {},
   "source": [
    "### 4.c"
   ]
  },
  {
   "cell_type": "code",
   "execution_count": 172,
   "metadata": {},
   "outputs": [
    {
     "name": "stdout",
     "output_type": "stream",
     "text": [
      "Vector de probabilidades iniciales: \n",
      " [0.6 0.4] \n",
      "\n",
      "Vector de probabilidades a t=3: \n",
      " [0.6438 0.3562] \n",
      "\n",
      "Probabilidad de estar en coca cola a t=3 dado vector inicial: \n",
      " 0.64380 \n",
      "\n"
     ]
    }
   ],
   "source": [
    "# Ingresamos el vector de estado a tiempo 0:\n",
    "p_0 = np.array([0.6, 0.4])\n",
    "print('Vector de probabilidades iniciales: \\n %s \\n' %p_0)\n",
    "\n",
    "# Calculamos el vector de estado a tiempo 3 siguiendo la fórmula p_3 = p_0 x T^3\n",
    "p_3 = np.dot(p_0, T_3)\n",
    "print('Vector de probabilidades a t=3: \\n %s \\n' %p_3)\n",
    "\n",
    "# La probabilidad de estar en cocacola en 3 iteraciones es el primer elemento del vector de estado:\n",
    "p_c3 = p_3[0]\n",
    "print('Probabilidad de estar en coca cola a t=3 dado vector inicial: \\n %0.5f \\n' %p_c3)"
   ]
  },
  {
   "cell_type": "markdown",
   "metadata": {},
   "source": [
    "### 4.d "
   ]
  },
  {
   "cell_type": "code",
   "execution_count": 173,
   "metadata": {},
   "outputs": [
    {
     "name": "stdout",
     "output_type": "stream",
     "text": [
      "Matriz A relacionada al sistema lineal de ecauciones: \n",
      " [[-0.1  0.2]\n",
      " [ 0.1 -0.2]\n",
      " [ 1.   1. ]] \n",
      "\n",
      "Vector B relacionado al sistema lineal de ecuaciones: \n",
      " [0 0 1] \n",
      "\n",
      "Solución del sistema lineal de ecuaciones: \n",
      " [0.66666667 0.33333333] \n",
      "\n"
     ]
    },
    {
     "name": "stderr",
     "output_type": "stream",
     "text": [
      "c:\\users\\m_a_r\\appdata\\local\\programs\\python\\python36\\lib\\site-packages\\ipykernel_launcher.py:8: FutureWarning: `rcond` parameter will change to the default of machine precision times ``max(M, N)`` where M and N are the input matrix dimensions.\n",
      "To use the future default and silence this warning we advise to pass `rcond=None`, to keep using the old, explicitly pass `rcond=-1`.\n",
      "  \n"
     ]
    }
   ],
   "source": [
    "# Ingresamos los datos para calcular AX = B\n",
    "A = np.array([[-0.1, 0.2], [0.1, -0.2], [1, 1]])\n",
    "print('Matriz A relacionada al sistema lineal de ecauciones: \\n %s \\n' %A)\n",
    "\n",
    "B = np.array([0, 0, 1])\n",
    "print('Vector B relacionado al sistema lineal de ecuaciones: \\n %s \\n' %B)\n",
    "\n",
    "# Resolvemos por mínimos cuadrados:\n",
    "X, _, _, _ = np.linalg.lstsq(A, B)\n",
    "print('Solución del sistema lineal de ecuaciones: \\n %s \\n' %X)"
   ]
  },
  {
   "cell_type": "markdown",
   "metadata": {},
   "source": [
    "## Ejercicio 5\n",
    "La cervecería más importante del mundo (Guiness) ha contratado a un analista de investigación de operaciones para analizar su posición en el mercado. Están preocupados en especial por su mayor competidor (Heineken). El analista piensa que el cambio de marca se puede modelar como una cadena de Markov incluyendo tres estados, los estados G y H representan a los clientes que beben cerveza producida por las mencionadas cervecerías y el estado I representa todas las demás marcas. Los datos se toman cada mes y el analista ha construido la siguiente matriz de transición de los datos históricos.\n",
    "\n",
    "| /| G | H  | I  |\n",
    "|--:|--:|---:|---:|\n",
    "| G |0.7|0.2 |0.1 |\n",
    "| H |0.2|0.75|0.05|\n",
    "| I |0.1|0.1 |0.8 |\n"
   ]
  },
  {
   "cell_type": "code",
   "execution_count": 174,
   "metadata": {},
   "outputs": [
    {
     "name": "stdout",
     "output_type": "stream",
     "text": [
      "Matriz de transición: \n",
      " [[0.7  0.2  0.1 ]\n",
      " [0.2  0.75 0.05]\n",
      " [0.1  0.1  0.8 ]] \n",
      "\n"
     ]
    }
   ],
   "source": [
    "# Ingresamos la matriz de transición:\n",
    "T = np.array([[0.7, 0.2, 0.1], [0.2, 0.75, 0.05], [0.1, 0.1, 0.8]])\n",
    "print('Matriz de transición: \\n %s \\n' %T)"
   ]
  },
  {
   "cell_type": "code",
   "execution_count": 175,
   "metadata": {},
   "outputs": [
    {
     "name": "stdout",
     "output_type": "stream",
     "text": [
      "Matriz A relacionada al sistema lineal de ecauciones: \n",
      " [[-0.3   0.2   0.1 ]\n",
      " [ 0.2  -0.25  0.1 ]\n",
      " [ 0.1   0.05 -0.2 ]] \n",
      "\n",
      "Vector B relacionado al sistema lineal de ecuaciones: \n",
      " [0. 0. 0.] \n",
      "\n",
      "Matriz A: \n",
      " [[-0.3   0.2   0.1 ]\n",
      " [ 0.2  -0.25  0.1 ]\n",
      " [ 0.1   0.05 -0.2 ]\n",
      " [ 1.    1.    1.  ]] \n",
      "\n",
      "Vector B: \n",
      " [0. 0. 0. 1.] \n",
      "\n"
     ]
    }
   ],
   "source": [
    "# Construir matriz A y vector B:\n",
    "A = (np.transpose(T) - np.identity(3))\n",
    "print('Matriz A relacionada al sistema lineal de ecauciones: \\n %s \\n' %A)\n",
    "B = np.zeros(3)\n",
    "print('Vector B relacionado al sistema lineal de ecuaciones: \\n %s \\n' %B)\n",
    "\n",
    "# Agregar sumatoria de probabilidades:\n",
    "adicional = np.array([[1, 1, 1]])\n",
    "A = np.concatenate((A, adicional), axis=0)\n",
    "print('Matriz A: \\n %s \\n' %A)\n",
    "B = np.append(B, 1)\n",
    "print('Vector B: \\n %s \\n' %B)"
   ]
  },
  {
   "cell_type": "code",
   "execution_count": 176,
   "metadata": {},
   "outputs": [
    {
     "name": "stdout",
     "output_type": "stream",
     "text": [
      "Solución del sistema lineal de ecuaciones: \n",
      " [0.34615385 0.38461538 0.26923077] \n",
      "\n"
     ]
    },
    {
     "name": "stderr",
     "output_type": "stream",
     "text": [
      "c:\\users\\m_a_r\\appdata\\local\\programs\\python\\python36\\lib\\site-packages\\ipykernel_launcher.py:2: FutureWarning: `rcond` parameter will change to the default of machine precision times ``max(M, N)`` where M and N are the input matrix dimensions.\n",
      "To use the future default and silence this warning we advise to pass `rcond=None`, to keep using the old, explicitly pass `rcond=-1`.\n",
      "  \n"
     ]
    }
   ],
   "source": [
    "# Resolvemos por mínimos cuadrados:\n",
    "X, _, _, _ = np.linalg.lstsq(A, B)\n",
    "print('Solución del sistema lineal de ecuaciones: \\n %s \\n' %X)"
   ]
  },
  {
   "cell_type": "markdown",
   "metadata": {},
   "source": [
    "## Ejercicio 6\n",
    "En una comunidad hay 3 supermercados (S1, S2, S3) existe la movilidad de un cliente de uno a otro. El 1 de septiembre, 1⁄4 de los clientes va al S1, 1/3 al S2 y 5/12 al S3 de un total de 10.000 personas. Cada mes el S1 retiene el 90% de sus clientes y pierde el 10% que se va al S2. Se averiguó que el S2 solo retiene el 5% y pierde el 85% que va a S1 y el resto se va a S3, el S3 retiene solo el 40%, pierde el 50% que va al S1 y el 10% va al S2.\n",
    "\n",
    "a) Establecer la matriz de transición\n",
    "\n",
    "b) ¿Cuál es la proporción de clientes para los supermercados el 1 de noviembre?\n",
    "\n",
    "c) Hallar el vector de probabilidad estable."
   ]
  },
  {
   "cell_type": "markdown",
   "metadata": {},
   "source": [
    "### 6.a"
   ]
  },
  {
   "cell_type": "code",
   "execution_count": 177,
   "metadata": {},
   "outputs": [
    {
     "name": "stdout",
     "output_type": "stream",
     "text": [
      "Matriz de transición: \n",
      " [[0.9  0.1  0.  ]\n",
      " [0.85 0.05 0.1 ]\n",
      " [0.5  0.1  0.4 ]] \n",
      "\n",
      "Vector de estado de probabilidades en septiembre: \n",
      " [0.25       0.33333333 0.41666667] \n",
      "\n"
     ]
    }
   ],
   "source": [
    "# Ingresamos la matriz de transición:\n",
    "T = np.array([[0.9, 0.1, 0], [0.85, 0.05, 0.1], [0.5, 0.1, 0.4]])\n",
    "print('Matriz de transición: \\n %s \\n' %T)\n",
    "\n",
    "# Ingresamos el vector de estado en septiembre:\n",
    "p_sept = np.array([1/4, 1/3, 5/12])\n",
    "print('Vector de estado de probabilidades en septiembre: \\n %s \\n' %p_sept)"
   ]
  },
  {
   "cell_type": "markdown",
   "metadata": {},
   "source": [
    "### 6.b"
   ]
  },
  {
   "cell_type": "code",
   "execution_count": 182,
   "metadata": {},
   "outputs": [
    {
     "name": "stdout",
     "output_type": "stream",
     "text": [
      "Matriz de transición a t=2: \n",
      " [[0.895  0.095  0.01  ]\n",
      " [0.8575 0.0975 0.045 ]\n",
      " [0.735  0.095  0.17  ]] \n",
      "\n",
      "Vector de estado de probabilidades en noviembre: \n",
      " [0.81583333 0.09583333 0.08833333] \n",
      "\n"
     ]
    }
   ],
   "source": [
    "# Calculamos la matriz de transición en T=2 elevando T al cuadrado:\n",
    "T_2 = np.linalg.matrix_power(T, 2)\n",
    "print('Matriz de transición a t=2: \\n %s \\n' %T_2)\n",
    "\n",
    "# Calculamos el vector de estado en noviembre: p_nov = p_sept x T^2\n",
    "p_nov = np.dot(p_sept, T_2)\n",
    "print('Vector de estado de probabilidades en noviembre: \\n %s \\n' %p_nov)"
   ]
  },
  {
   "cell_type": "markdown",
   "metadata": {},
   "source": [
    "### 6.d"
   ]
  },
  {
   "cell_type": "code",
   "execution_count": 179,
   "metadata": {},
   "outputs": [
    {
     "name": "stdout",
     "output_type": "stream",
     "text": [
      "Matriz A relacionada al sistema lineal de ecauciones: \n",
      " [[-0.1   0.85  0.5 ]\n",
      " [ 0.1  -0.95  0.1 ]\n",
      " [ 0.    0.1  -0.6 ]\n",
      " [ 1.    1.    1.  ]] \n",
      "\n",
      "Vector B relacionado al sistema lineal de ecuaciones: \n",
      " [0 0 0 1] \n",
      "\n"
     ]
    }
   ],
   "source": [
    "# Ingresamos los datos para calcular AX = B\n",
    "A = np.array([[-0.1, 0.85, 0.5], [0.1, -0.95, 0.1], [0, 0.1, -0.6], [1, 1, 1]])\n",
    "print('Matriz A relacionada al sistema lineal de ecauciones: \\n %s \\n' %A)\n",
    "\n",
    "B = np.array([0, 0, 0, 1])\n",
    "print('Vector B relacionado al sistema lineal de ecuaciones: \\n %s \\n' %B)"
   ]
  },
  {
   "cell_type": "code",
   "execution_count": 180,
   "metadata": {},
   "outputs": [
    {
     "name": "stdout",
     "output_type": "stream",
     "text": [
      "Matriz A: \n",
      " [[ 0.1  -0.95  0.1 ]\n",
      " [ 0.    0.1  -0.6 ]\n",
      " [ 1.    1.    1.  ]]\n",
      "Dimensión: \n",
      " (3, 3) \n",
      "\n",
      "Vector B: \n",
      " [0 0 1]\n",
      "Dimensión: \n",
      " (3,) \n",
      "\n",
      "Solución del sistema lineal de ecuaciones: \n",
      " [0.88888889 0.0952381  0.01587302] \n",
      "\n"
     ]
    }
   ],
   "source": [
    "# Se decide usar el método np.linalg.solve de numpy, por lo tanto la matriz debe ser cuadrada.\n",
    "# Eliminamos la primera fila de la matriz A y el primer elemento del vector B.\n",
    "# Finalmente, comprobamos que las dimensiones sean correctas.\n",
    "A = np.delete(A, 0, axis=0)\n",
    "print('Matriz A: \\n %s' %A)\n",
    "dimension_A = A.shape\n",
    "print('Dimensión: \\n %s \\n' %str(dimension_A))\n",
    "\n",
    "B = np.delete(B, 0, axis=0)\n",
    "print('Vector B: \\n %s' %B)\n",
    "dimension_B = B.shape\n",
    "print('Dimensión: \\n %s \\n' %str(dimension_B))\n",
    "\n",
    "# Resolvemos:\n",
    "X = np.linalg.solve(A, B)\n",
    "print('Solución del sistema lineal de ecuaciones: \\n %s \\n' %X)"
   ]
  }
 ],
 "metadata": {
  "kernelspec": {
   "display_name": "Python 3",
   "language": "python",
   "name": "python3"
  },
  "language_info": {
   "codemirror_mode": {
    "name": "ipython",
    "version": 3
   },
   "file_extension": ".py",
   "mimetype": "text/x-python",
   "name": "python",
   "nbconvert_exporter": "python",
   "pygments_lexer": "ipython3",
   "version": "3.8.5"
  }
 },
 "nbformat": 4,
 "nbformat_minor": 2
}
