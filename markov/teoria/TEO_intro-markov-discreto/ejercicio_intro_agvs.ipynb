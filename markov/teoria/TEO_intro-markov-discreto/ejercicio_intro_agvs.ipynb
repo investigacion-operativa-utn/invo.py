{
 "cells": [
  {
   "cell_type": "markdown",
   "metadata": {},
   "source": [
    "---\n",
    "__Universidad Tecnológica Nacional, Buenos Aires__\\\n",
    "__Ingeniería Industrial__\\\n",
    "__Investigación Operativa I4051__\\\n",
    "__Autor: Rodrigo Maranzana__, Rmaranzana@frba.utn.edu.ar\n",
    "\n",
    "---"
   ]
  },
  {
   "cell_type": "markdown",
   "metadata": {},
   "source": [
    "# Ejercicio introductorio AGV en centro de distribución"
   ]
  },
  {
   "attachments": {},
   "cell_type": "markdown",
   "metadata": {},
   "source": [
    "En un centro de distribución de una e-commerce se quiere modelizar con una cadena de Markov el trabajo de un AGV.\n",
    "\n",
    "Se recogen datos de la máquina cada un instante de tiempo de 40 segundos.\n",
    "\n",
    "- Si en un instante está cargando o descargando mercadería, hay una probabilidad del 75% que en el próximo instante esté en viaje.\n",
    "- Si está en viaje, hay una probabilidad del 30% que descargue o cargue en el próximo instante.\n",
    "\n",
    "A) Si ahora está en tránsito, ¿Cuál es la probabilidad que en 3 instantes de tiempo esté cargando o descargando?\n",
    "\n",
    "B) ¿Cuál es el estado estable?"
   ]
  },
  {
   "cell_type": "markdown",
   "metadata": {},
   "source": [
    "## Datos Iniciales"
   ]
  },
  {
   "cell_type": "markdown",
   "metadata": {},
   "source": [
    "Importamos las librerías necesarias."
   ]
  },
  {
   "cell_type": "code",
   "execution_count": 11,
   "metadata": {},
   "outputs": [],
   "source": [
    "import numpy as np\n",
    "import matplotlib.pyplot as plt"
   ]
  },
  {
   "cell_type": "markdown",
   "metadata": {},
   "source": [
    "Ingresamos los datos de la matriz de transición en una matriz numpy:"
   ]
  },
  {
   "cell_type": "code",
   "execution_count": null,
   "metadata": {},
   "outputs": [],
   "source": [
    "## Matriz de transición como numpy array:\n",
    "T = np.array([[0.10, 0.90],\n",
    "              [0.75, 0.25]])\n",
    "\n",
    "# Printeamos T\n",
    "print(f'Matriz de transición: \\n{T}')"
   ]
  },
  {
   "cell_type": "markdown",
   "metadata": {},
   "source": [
    "## Ejercicio A"
   ]
  },
  {
   "cell_type": "markdown",
   "metadata": {},
   "source": [
    "En primer lugar, calculamos la matriz de transición habiendo pasado 3 instantes de tiempo: elevamos la matriz a la cuarta usando el método de la potencia de álgebra lineal de la librería Numpy."
   ]
  },
  {
   "cell_type": "code",
   "execution_count": 42,
   "metadata": {},
   "outputs": [
    {
     "name": "stdout",
     "output_type": "stream",
     "text": [
      "Matriz de transición a tiempo 3: \n",
      "[[0.30475  0.69525 ]\n",
      " [0.579375 0.420625]]\n",
      "\n"
     ]
    }
   ],
   "source": [
    "# Cálculo de la matriz de transición a tiempo 3:\n",
    "T3 = np.linalg.matrix_power(T, 3)\n",
    "\n",
    "# printeamos la matriz de transicion de 4 pasos:\n",
    "print(f'Matriz de transición a tiempo 3: \\n{T3}\\n')"
   ]
  },
  {
   "cell_type": "markdown",
   "metadata": {},
   "source": [
    "Sabiendo que $p_0$ considera que el AGV está en el estado 1, en tránsito:\n",
    "$ p_0 = (0, 1) $"
   ]
  },
  {
   "cell_type": "code",
   "execution_count": 43,
   "metadata": {},
   "outputs": [
    {
     "name": "stdout",
     "output_type": "stream",
     "text": [
      "Vector de estado a tiempo 0: \n",
      "[0 1]\n",
      "\n"
     ]
    }
   ],
   "source": [
    "# Generación del vector inicial p_0:\n",
    "p_0 = np.array([0, 1])\n",
    "\n",
    "# printeamos el vector inicial:\n",
    "print(f'Vector de estado a tiempo 0: \\n{p_0}\\n')"
   ]
  },
  {
   "cell_type": "markdown",
   "metadata": {},
   "source": [
    "Calculamos: $ p_0 T^3 = p_3 $"
   ]
  },
  {
   "cell_type": "code",
   "execution_count": 44,
   "metadata": {},
   "outputs": [
    {
     "name": "stdout",
     "output_type": "stream",
     "text": [
      "Vector de estado a tiempo 3: \n",
      "[0.579375 0.420625]\n",
      "\n"
     ]
    }
   ],
   "source": [
    "# Cálculo del estado a tiempo 3, p_3:\n",
    "p_3 = np.dot(p_0, T3)\n",
    "\n",
    "# printeamos p3:\n",
    "print(f'Vector de estado a tiempo 3: \\n{p_3}\\n')"
   ]
  },
  {
   "cell_type": "markdown",
   "metadata": {},
   "source": [
    "Dado el vector $ p_3 $, nos quedamos con el componente perteneciente al estado de carga/descarga."
   ]
  },
  {
   "cell_type": "code",
   "execution_count": 45,
   "metadata": {
    "scrolled": true
   },
   "outputs": [
    {
     "name": "stdout",
     "output_type": "stream",
     "text": [
      "Probabilidad de estar descargando/cargando habiendo iniciado en tránsito: \n",
      "0.5793750000000001\n",
      "\n"
     ]
    }
   ],
   "source": [
    "# Componente del nodo 0:\n",
    "p_3_a = p_3[0]\n",
    "\n",
    "# printeamos lo obtenido:\n",
    "print(f'Probabilidad de estar descargando/cargando habiendo iniciado en tránsito: \\n{p_3_a}\\n')"
   ]
  },
  {
   "cell_type": "markdown",
   "metadata": {},
   "source": [
    "## Ejercicio B\n",
    "\n",
    "Podemos calcular el estado futuro para distintos saltos de transición."
   ]
  },
  {
   "cell_type": "code",
   "execution_count": 53,
   "metadata": {},
   "outputs": [],
   "source": [
    "def calcular_estado_futuro(m, p_0):\n",
    "    \n",
    "    # Cálculo de la matriz de transición a tiempo m:\n",
    "    Tm = np.linalg.matrix_power(T, m)\n",
    "\n",
    "    # Cálculo de vector de proba de estado a m:\n",
    "    p_m = np.dot(p_0, Tm)\n",
    "\n",
    "    return p_m"
   ]
  },
  {
   "cell_type": "markdown",
   "metadata": {},
   "source": [
    "Hacemos un for loop para distintos m:"
   ]
  },
  {
   "cell_type": "code",
   "execution_count": 56,
   "metadata": {},
   "outputs": [
    {
     "data": {
      "text/plain": [
       "Text(0, 0.5, 'Probabilidad')"
      ]
     },
     "execution_count": 56,
     "metadata": {},
     "output_type": "execute_result"
    },
    {
     "data": {
      "image/png": "[encoded data removed]",
      "text/plain": [
       "<Figure size 576x432 with 1 Axes>"
      ]
     },
     "metadata": {
      "needs_background": "light"
     },
     "output_type": "display_data"
    }
   ],
   "source": [
    "# Cantidad de pasos:\n",
    "m_tot = 20\n",
    "\n",
    "# Generación del vector inicial p_0:\n",
    "p_0 = np.array([0.5, 0.5])\n",
    "\n",
    "# vectores para guardar estados:\n",
    "estado_carga = [p_0[0]]\n",
    "estado_transito = [p_0[1]]\n",
    "\n",
    "# For loop:\n",
    "for m in range(2, m_tot):\n",
    "    \n",
    "    p_m = calcular_estado_futuro(m, p_0)\n",
    "    \n",
    "    # guardamos estados:\n",
    "    estado_carga.append(p_m[0])\n",
    "    estado_transito.append(p_m[1])\n",
    "    \n",
    "# Plotteamos estados:\n",
    "plt.subplots(figsize=(8, 6))\n",
    "plt.plot(range(1, m_tot), estado_carga, marker='o', label='Carga/Descarga')\n",
    "plt.plot(range(1, m_tot), estado_transito, marker='o', label='En tránsito')\n",
    "plt.legend()\n",
    "plt.title('Convergencia de estados.')\n",
    "plt.xlabel('Iteración')\n",
    "plt.ylabel('Probabilidad')"
   ]
  },
  {
   "cell_type": "markdown",
   "metadata": {},
   "source": [
    "## Cálculo de caminos con simulación"
   ]
  },
  {
   "cell_type": "code",
   "execution_count": 82,
   "metadata": {},
   "outputs": [],
   "source": [
    "# Estados posibles. 0: carga, 1: transito.\n",
    "estados = [0, 1]\n",
    "\n",
    "# Cantidad de iteraciones.\n",
    "h = 10000\n",
    "\n",
    "# Estado inicial.\n",
    "estado_actual = 1\n",
    "\n",
    "# Historia de estados.\n",
    "historia_estados = [estado_actual]\n",
    "\n",
    "# Simulación.\n",
    "for i in range(0, h):\n",
    "    \n",
    "    # Probabilidades de salto al próximo estado.\n",
    "    probas = T[estado_actual, :]\n",
    "    \n",
    "    # Cálculo de próximo estado.\n",
    "    estado_actual = np.random.choice(estados, 1, p=probas)[0]\n",
    "    \n",
    "    # Guardado en historia.\n",
    "    historia_estados.append(estado_actual)\n",
    "    \n",
    "print(historia_estados)"
   ]
  },
  {
   "cell_type": "code",
   "execution_count": null,
   "metadata": {},
   "outputs": [],
   "source": []
  }
 ],
 "metadata": {
  "kernelspec": {
   "display_name": "Python 3",
   "language": "python",
   "name": "python3"
  },
  "language_info": {
   "codemirror_mode": {
    "name": "ipython",
    "version": 3
   },
   "file_extension": ".py",
   "mimetype": "text/x-python",
   "name": "python",
   "nbconvert_exporter": "python",
   "pygments_lexer": "ipython3",
   "version": "3.8.13"
  },
  "toc": {
   "base_numbering": 1,
   "nav_menu": {},
   "number_sections": true,
   "sideBar": true,
   "skip_h1_title": true,
   "title_cell": "Índice",
   "title_sidebar": "Contents",
   "toc_cell": true,
   "toc_position": {},
   "toc_section_display": true,
   "toc_window_display": false
  },
  "varInspector": {
   "cols": {
    "lenName": 16,
    "lenType": 16,
    "lenVar": 40
   },
   "kernels_config": {
    "python": {
     "delete_cmd_postfix": "",
     "delete_cmd_prefix": "del ",
     "library": "var_list.py",
     "varRefreshCmd": "print(var_dic_list())"
    },
    "r": {
     "delete_cmd_postfix": ") ",
     "delete_cmd_prefix": "rm(",
     "library": "var_list.r",
     "varRefreshCmd": "cat(var_dic_list()) "
    }
   },
   "types_to_exclude": [
    "module",
    "function",
    "builtin_function_or_method",
    "instance",
    "_Feature"
   ],
   "window_display": false
  }
 },
 "nbformat": 4,
 "nbformat_minor": 2
}
