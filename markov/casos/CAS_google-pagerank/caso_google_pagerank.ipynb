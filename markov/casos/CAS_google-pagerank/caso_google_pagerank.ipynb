{
 "cells": [
  {
   "cell_type": "markdown",
   "metadata": {},
   "source": [
    "---\n",
    "__Universidad Tecnológica Nacional, Buenos Aires__\\\n",
    "__Ingeniería Industrial__\\\n",
    "__Cátedra de Investigación Operativa__\\\n",
    "__Autor: Rodrigo Maranzana__, Rmaranzana@frba.utn.edu.ar\n",
    "\n",
    "---"
   ]
  },
  {
   "cell_type": "markdown",
   "metadata": {},
   "source": [
    "# Armando mi propio Google Page Rank"
   ]
  },
  {
   "cell_type": "markdown",
   "metadata": {},
   "source": [
    "## PageRank y Markov steady-state\n",
    "Este algoritmo de PageRank considera solamente el estado estable para el cálculo:"
   ]
  },
  {
   "cell_type": "code",
   "execution_count": 2,
   "metadata": {},
   "outputs": [
    {
     "data": {
      "text/html": [
       "<div>\n",
       "<style scoped>\n",
       "    .dataframe tbody tr th:only-of-type {\n",
       "        vertical-align: middle;\n",
       "    }\n",
       "\n",
       "    .dataframe tbody tr th {\n",
       "        vertical-align: top;\n",
       "    }\n",
       "\n",
       "    .dataframe thead th {\n",
       "        text-align: right;\n",
       "    }\n",
       "</style>\n",
       "<table border=\"1\" class=\"dataframe\">\n",
       "  <thead>\n",
       "    <tr style=\"text-align: right;\">\n",
       "      <th></th>\n",
       "      <th>Probabilidad</th>\n",
       "    </tr>\n",
       "  </thead>\n",
       "  <tbody>\n",
       "    <tr>\n",
       "      <th>twitch</th>\n",
       "      <td>0.264380</td>\n",
       "    </tr>\n",
       "    <tr>\n",
       "      <th>tiktok</th>\n",
       "      <td>0.211082</td>\n",
       "    </tr>\n",
       "    <tr>\n",
       "      <th>facebook</th>\n",
       "      <td>0.208971</td>\n",
       "    </tr>\n",
       "    <tr>\n",
       "      <th>google</th>\n",
       "      <td>0.157784</td>\n",
       "    </tr>\n",
       "    <tr>\n",
       "      <th>youtube</th>\n",
       "      <td>0.157784</td>\n",
       "    </tr>\n",
       "  </tbody>\n",
       "</table>\n",
       "</div>"
      ],
      "text/plain": [
       "          Probabilidad\n",
       "twitch        0.264380\n",
       "tiktok        0.211082\n",
       "facebook      0.208971\n",
       "google        0.157784\n",
       "youtube       0.157784"
      ]
     },
     "execution_count": 2,
     "metadata": {},
     "output_type": "execute_result"
    }
   ],
   "source": [
    "import numpy as np\n",
    "import pandas as pd\n",
    "\n",
    "# Matriz de probabilidades de ir de una página a otra:\n",
    "\n",
    "nombres = {'google', 'facebook', 'youtube', 'twitch', 'tiktok'}\n",
    "\n",
    "M = np.array([[0.25, 0.25, 0.25, 0.25, 0.00],\n",
    "              [0.00, 0.00, 0.00, 0.00, 1.00],\n",
    "              [0.50, 0.50, 0.00, 0.00, 0.00],\n",
    "              [0.33, 0.33, 0.33, 0.00, 0.00],\n",
    "              [0.25, 0.25, 0.00, 0.25, 0.00]])\n",
    "\n",
    "\n",
    "shape = np.shape(M)[0]\n",
    "\n",
    "# Matriz A:\n",
    "I = np.identity(shape)\n",
    "A = M - I\n",
    "A = np.concatenate((A, np.ones((1,shape))), axis=0)\n",
    "\n",
    "# Vector B:\n",
    "B = np.zeros(shape+1)\n",
    "B[-1] = 1\n",
    "\n",
    "\n",
    "A = np.delete(A, 0, 0)\n",
    "B = np.delete(B, 0, 0)\n",
    "\n",
    "prob_final = np.linalg.solve(A, B)\n",
    "prob_final[::-1].sort()\n",
    "\n",
    "pd.DataFrame(data=prob_final, index=nombres, columns={\"Probabilidad\"})"
   ]
  },
  {
   "cell_type": "markdown",
   "metadata": {},
   "source": [
    "## Nota adicional: el damping factor (d)\n",
    "\n",
    "El algoritmo de Pagerank considera que la ecuación de transición es:\n",
    "\n",
    "$r_{i+1} = d M r_i + \\frac{1 - d}{N}$\n",
    "\n",
    "Siendo d, el damping factor o probabilidad de pasar a otro estado no conectado; N la cantidad de páginas involucradas."
   ]
  },
  {
   "cell_type": "code",
   "execution_count": null,
   "metadata": {},
   "outputs": [],
   "source": []
  }
 ],
 "metadata": {
  "kernelspec": {
   "display_name": "Python 3",
   "language": "python",
   "name": "python3"
  },
  "language_info": {
   "codemirror_mode": {
    "name": "ipython",
    "version": 3
   },
   "file_extension": ".py",
   "mimetype": "text/x-python",
   "name": "python",
   "nbconvert_exporter": "python",
   "pygments_lexer": "ipython3",
   "version": "3.8.5"
  },
  "toc": {
   "base_numbering": 1,
   "nav_menu": {},
   "number_sections": true,
   "sideBar": true,
   "skip_h1_title": true,
   "title_cell": "Table of Contents",
   "title_sidebar": "Contents",
   "toc_cell": false,
   "toc_position": {},
   "toc_section_display": true,
   "toc_window_display": true
  },
  "varInspector": {
   "cols": {
    "lenName": 16,
    "lenType": 16,
    "lenVar": 40
   },
   "kernels_config": {
    "python": {
     "delete_cmd_postfix": "",
     "delete_cmd_prefix": "del ",
     "library": "var_list.py",
     "varRefreshCmd": "print(var_dic_list())"
    },
    "r": {
     "delete_cmd_postfix": ") ",
     "delete_cmd_prefix": "rm(",
     "library": "var_list.r",
     "varRefreshCmd": "cat(var_dic_list()) "
    }
   },
   "types_to_exclude": [
    "module",
    "function",
    "builtin_function_or_method",
    "instance",
    "_Feature"
   ],
   "window_display": false
  }
 },
 "nbformat": 4,
 "nbformat_minor": 2
}
